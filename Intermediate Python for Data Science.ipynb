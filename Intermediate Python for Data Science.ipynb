{
 "cells": [
  {
   "cell_type": "markdown",
   "metadata": {},
   "source": [
    "En este script, se revisaran los conceptos de graficas, estructuras de datos, condiciones logicas (if,else,while) y ciclos(for)."
   ]
  },
  {
   "cell_type": "code",
   "execution_count": 9,
   "metadata": {},
   "outputs": [
    {
     "data": {
      "image/png": "[encoded data removed]",
      "text/plain": [
       "<matplotlib.figure.Figure at 0x21539fc3630>"
      ]
     },
     "metadata": {},
     "output_type": "display_data"
    }
   ],
   "source": [
    "#Introduccion Graficas\n",
    "#Veremos un pequeño ejemplo sobre graficas, creando nuestros propios datos y personalizando la grafica.\n",
    "#Vamos a necesitar dos paqueterias numpy y matplotlib\n",
    "import matplotlib.pyplot as plt #Paqueteria para graficar\n",
    "import numpy as np #Paqueteria para operar matrices\n",
    "\n",
    "#Creando nuestros propios datos para graficar\n",
    "year = [1950,1970,1990,2010]\n",
    "pop = [2.1,2.6,3,2.7]\n",
    "tamano = [10,20,30,40]\n",
    "color = [\"yellow\",\"green\",\"blue\",\"pink\"]\n",
    "\n",
    "#Nombre de los Ejes de la Grafica\n",
    "xlab = 'Años'\n",
    "ylab = 'Poblacion'\n",
    "title = 'Grafica de Prueba'\n",
    "\n",
    "#Grafica, \n",
    "plt.scatter(year, pop, s = np.array(tamano)*10, c = color) #Simplemente graficamos eje x y y.\n",
    "plt.xlabel(xlab)\n",
    "plt.ylabel(ylab)\n",
    "plt.title(title) #Agregamos el nombre de los Ejes y Titulos\n",
    "plt.text(1992,3,'Texto') #Colocamos texto en la Grafica\n",
    "plt.grid(True) #Cuadricula"
   ]
  },
  {
   "cell_type": "markdown",
   "metadata": {},
   "source": [
    "Estructuras y Manipulacion de Datos (Diccionarios, Listas, Data Frames)"
   ]
  },
  {
   "cell_type": "code",
   "execution_count": 10,
   "metadata": {},
   "outputs": [
    {
     "name": "stdout",
     "output_type": "stream",
     "text": [
      "<class 'list'>\n"
     ]
    },
    {
     "data": {
      "text/plain": [
       "'berlin'"
      ]
     },
     "execution_count": 10,
     "metadata": {},
     "output_type": "execute_result"
    }
   ],
   "source": [
    "#Diccionarios y DataFrames (Son dos formas de estructurar nuestros datos)\n",
    "\n",
    "#Conoceremos mas sobre el almacenamiento y manipulacion de datos en python.\n",
    "\n",
    "#Listas; Las listas son conjuntos ordenados de elementos (números, cadenas, listas, etc).\n",
    "#Las listas se delimitan por corchetes ([ ]) y los elementos se separan por comas.\n",
    "\n",
    "countries = ['spain', 'france', 'germany', 'norway']\n",
    "capitals = ['madrid', 'paris', 'berlin', 'oslo']\n",
    "\n",
    "print(type(capitals))\n",
    "\n",
    "#Metodos en listas (lista.append, lista.extend, lista.instert, etc..)\n",
    "ind_ger = countries.index('germany') #Posicion del elemento 'germany' en la lista countries\n",
    "capitals[ind_ger] #Elemento que se encuentra en la segunda posicion en la lista capitals"
   ]
  },
  {
   "cell_type": "code",
   "execution_count": 11,
   "metadata": {},
   "outputs": [
    {
     "name": "stdout",
     "output_type": "stream",
     "text": [
      "['Python', 'R', 'Django', 'Jupyter']\n"
     ]
    }
   ],
   "source": [
    "#Diccionario; Un Diccionario es una estructura de datos y un tipo de dato en Python \n",
    "#con características especiales que nos permite almacenar cualquier tipo de valor\n",
    "#como enteros, cadenas, listas e incluso otras funciones.\n",
    "#Estos diccionarios nos permiten además identificar cada elemento por una clave (Key).\n",
    "\n",
    "\n",
    "#Definicion de un Diccionario\n",
    "diccionario = {'nombre':'Carlos','edad':25,'cursos':['Python','R','Django','Jupyter']}\n",
    "\n",
    "#Accediento a los elementos\n",
    "print(diccionario['cursos'])"
   ]
  },
  {
   "cell_type": "code",
   "execution_count": 12,
   "metadata": {},
   "outputs": [
    {
     "name": "stdout",
     "output_type": "stream",
     "text": [
      "Python\n"
     ]
    }
   ],
   "source": [
    "#Seleeccion de elementos\n",
    "print(diccionario['cursos'][0])"
   ]
  },
  {
   "cell_type": "code",
   "execution_count": 13,
   "metadata": {},
   "outputs": [
    {
     "data": {
      "text/plain": [
       "{'Edad': '25', 'apellido': 'Flores', 'nombre': 'Carlos'}"
      ]
     },
     "execution_count": 13,
     "metadata": {},
     "output_type": "execute_result"
    }
   ],
   "source": [
    "#Metodos de los Diccionarios. (dict, zip, items, keys, values, clear, copy, fromkeys, etc...)\n",
    "\n",
    "#dict(): Recibe como parametros una representacion de un diccionario y si es factible, devuelve un diccionario.\n",
    "dic = dict(nombre = 'Carlos',apellido = 'Flores', Edad = '25' )\n",
    "dic\n"
   ]
  },
  {
   "cell_type": "code",
   "execution_count": 14,
   "metadata": {},
   "outputs": [
    {
     "data": {
      "text/plain": [
       "'25'"
      ]
     },
     "execution_count": 14,
     "metadata": {},
     "output_type": "execute_result"
    }
   ],
   "source": [
    "#pop(): Nos indica los valores de una llave.\n",
    "dic.pop('Edad')"
   ]
  },
  {
   "cell_type": "code",
   "execution_count": 15,
   "metadata": {},
   "outputs": [
    {
     "name": "stdout",
     "output_type": "stream",
     "text": [
      "Estructura de un Diccionario dentro de un Diccionario:  {'spain': {'capital': 'madrid', 'population': 46.77}, 'france': {'capital': 'paris', 'population': 66.03}, 'germany': {'capital': 'berlin', 'population': 80.62}, 'norway': {'capital': 'oslo', 'population': 5.084}}\n",
      "Capital de Francia:  paris\n",
      "           france germany norway   spain\n",
      "capital     paris  berlin   oslo  madrid\n",
      "population  66.03   80.62  5.084   46.77\n"
     ]
    }
   ],
   "source": [
    "#Diccionarios de diccionarios, Los podemos interpretar como un base de datos en la que tenemos el nombre de las columnas y filas.\n",
    "\n",
    "europe = { 'spain': { 'capital':'madrid', 'population':46.77 },\n",
    "           'france': { 'capital':'paris', 'population':66.03 },\n",
    "           'germany': { 'capital':'berlin', 'population':80.62 },\n",
    "           'norway': { 'capital':'oslo', 'population':5.084 } }\n",
    "print('Estructura de un Diccionario dentro de un Diccionario: ', europe)\n",
    "\n",
    "print('Capital de Francia: ',europe['france']['capital']) #Seleccion de la capital que se encuentran en France\n",
    "\n",
    "import pandas as pd\n",
    "print(pd.DataFrame(europe))"
   ]
  },
  {
   "cell_type": "code",
   "execution_count": 16,
   "metadata": {},
   "outputs": [
    {
     "name": "stdout",
     "output_type": "stream",
     "text": [
      "{'spain': {'capital': 'madrid', 'population': 46.77}, 'france': {'capital': 'paris', 'population': 66.03}, 'germany': {'capital': 'berlin', 'population': 80.62}, 'norway': {'capital': 'oslo', 'population': 5.084}, 'italy': {'capital': 'rome', 'population': 59.83}}\n",
      "dict_keys(['spain', 'france', 'germany', 'norway', 'italy'])\n"
     ]
    },
    {
     "data": {
      "text/plain": [
       "dict"
      ]
     },
     "execution_count": 16,
     "metadata": {},
     "output_type": "execute_result"
    }
   ],
   "source": [
    "data = { 'capital':'rome', 'population':59.83 } #Creacion de un Diccionario\n",
    "\n",
    "europe['italy'] = data #Agregacion de un Diccionario a un Diccionario\n",
    "\n",
    "print(europe)\n",
    "print(europe.keys())\n",
    "type(europe)"
   ]
  },
  {
   "cell_type": "code",
   "execution_count": 18,
   "metadata": {},
   "outputs": [
    {
     "name": "stdout",
     "output_type": "stream",
     "text": [
      "   cars_per_cap        country  drives_right\n",
      "0           809  United States          True\n",
      "1           731      Australia         False\n",
      "2           588          Japan         False\n",
      "3            18          India         False\n",
      "4           200         Russia          True\n",
      "5            70        Morocco          True\n",
      "6            45          Egypt          True\n"
     ]
    },
    {
     "data": {
      "text/plain": [
       "pandas.core.frame.DataFrame"
      ]
     },
     "execution_count": 18,
     "metadata": {},
     "output_type": "execute_result"
    }
   ],
   "source": [
    "#Creacion de Data Frames\n",
    "#Tienen una estructura tabular (Base de datos)\n",
    "\n",
    "names = ['United States', 'Australia', 'Japan', 'India', 'Russia', 'Morocco', 'Egypt']\n",
    "dr =  [True, False, False, False, True, True, True]\n",
    "cpc = [809, 731, 588, 18, 200, 70, 45]\n",
    "\n",
    "#Para manipular DataFrames es util ocupar la paqueteria pandas\n",
    "import pandas as pd\n",
    "\n",
    "#Definimos las Columnas y rellenamos con la listas (names,dr,cpc)\n",
    "my_dict = { 'country':names, 'drives_right':dr, 'cars_per_cap':cpc }\n",
    "cars = pd.DataFrame(my_dict)\n",
    "print(cars)\n",
    "type(cars)"
   ]
  },
  {
   "cell_type": "code",
   "execution_count": 19,
   "metadata": {},
   "outputs": [
    {
     "name": "stdout",
     "output_type": "stream",
     "text": [
      "     cars_per_cap        country  drives_right\n",
      "US            809  United States          True\n",
      "AUS           731      Australia         False\n",
      "JAP           588          Japan         False\n",
      "IN             18          India         False\n",
      "RU            200         Russia          True\n",
      "MOR            70        Morocco          True\n",
      "EG             45          Egypt          True\n"
     ]
    }
   ],
   "source": [
    "row_labels = ['US', 'AUS', 'JAP', 'IN', 'RU', 'MOR', 'EG'] #Creamos una lista que sera el nombre de nuestras filas\n",
    "cars.index = row_labels #Coloca nombres a las Filas\n",
    "print(cars)"
   ]
  },
  {
   "cell_type": "code",
   "execution_count": 20,
   "metadata": {},
   "outputs": [],
   "source": [
    "#La diferencia entre un Diccionario y DataFrames es la forma en la que se almacenan los datos.\n",
    "#El conepto de DataFrame sera mas familiar con el de una Base de Datos.\n",
    "\n",
    "#Leer archivos csv y Seleccionar datos\n",
    "import pandas as pd\n",
    "import numpy as np"
   ]
  },
  {
   "cell_type": "code",
   "execution_count": 21,
   "metadata": {},
   "outputs": [
    {
     "data": {
      "text/html": [
       "<div>\n",
       "<style scoped>\n",
       "    .dataframe tbody tr th:only-of-type {\n",
       "        vertical-align: middle;\n",
       "    }\n",
       "\n",
       "    .dataframe tbody tr th {\n",
       "        vertical-align: top;\n",
       "    }\n",
       "\n",
       "    .dataframe thead th {\n",
       "        text-align: right;\n",
       "    }\n",
       "</style>\n",
       "<table border=\"1\" class=\"dataframe\">\n",
       "  <thead>\n",
       "    <tr style=\"text-align: right;\">\n",
       "      <th></th>\n",
       "      <th>mpg</th>\n",
       "      <th>cyl</th>\n",
       "      <th>disp</th>\n",
       "      <th>hp</th>\n",
       "      <th>drat</th>\n",
       "      <th>wt</th>\n",
       "      <th>qsec</th>\n",
       "      <th>vs</th>\n",
       "      <th>am</th>\n",
       "      <th>gear</th>\n",
       "      <th>carb</th>\n",
       "    </tr>\n",
       "  </thead>\n",
       "  <tbody>\n",
       "    <tr>\n",
       "      <th>Datsun 710</th>\n",
       "      <td>22.8</td>\n",
       "      <td>4</td>\n",
       "      <td>108.0</td>\n",
       "      <td>93</td>\n",
       "      <td>3.85</td>\n",
       "      <td>2.320</td>\n",
       "      <td>18.61</td>\n",
       "      <td>1</td>\n",
       "      <td>1</td>\n",
       "      <td>4</td>\n",
       "      <td>1</td>\n",
       "    </tr>\n",
       "    <tr>\n",
       "      <th>Toyota Corona</th>\n",
       "      <td>21.5</td>\n",
       "      <td>4</td>\n",
       "      <td>120.1</td>\n",
       "      <td>97</td>\n",
       "      <td>3.70</td>\n",
       "      <td>2.465</td>\n",
       "      <td>20.01</td>\n",
       "      <td>1</td>\n",
       "      <td>0</td>\n",
       "      <td>3</td>\n",
       "      <td>1</td>\n",
       "    </tr>\n",
       "  </tbody>\n",
       "</table>\n",
       "</div>"
      ],
      "text/plain": [
       "                mpg  cyl   disp  hp  drat     wt   qsec  vs  am  gear  carb\n",
       "Datsun 710     22.8    4  108.0  93  3.85  2.320  18.61   1   1     4     1\n",
       "Toyota Corona  21.5    4  120.1  97  3.70  2.465  20.01   1   0     3     1"
      ]
     },
     "execution_count": 21,
     "metadata": {},
     "output_type": "execute_result"
    }
   ],
   "source": [
    "mtcars = pd.read_csv(\"mtcars.csv\", index_col = 0)\n",
    "mtcars[['cyl','mpg']] #Seleccion de Columnas del DataFrame mtcars\n",
    "mtcars[0:3] #Seleccion de Filas#Funciones .loc e .iloc\n",
    "mtcars.iloc[2] #Selecion de filas con la funcion .iloc\n",
    "mtcars.loc[['Datsun 710', 'Toyota Corona']] #Seleccion por el nombre de la fila funcion .loc"
   ]
  },
  {
   "cell_type": "code",
   "execution_count": 22,
   "metadata": {},
   "outputs": [
    {
     "data": {
      "text/html": [
       "<div>\n",
       "<style scoped>\n",
       "    .dataframe tbody tr th:only-of-type {\n",
       "        vertical-align: middle;\n",
       "    }\n",
       "\n",
       "    .dataframe tbody tr th {\n",
       "        vertical-align: top;\n",
       "    }\n",
       "\n",
       "    .dataframe thead th {\n",
       "        text-align: right;\n",
       "    }\n",
       "</style>\n",
       "<table border=\"1\" class=\"dataframe\">\n",
       "  <thead>\n",
       "    <tr style=\"text-align: right;\">\n",
       "      <th></th>\n",
       "      <th>cyl</th>\n",
       "      <th>qsec</th>\n",
       "    </tr>\n",
       "  </thead>\n",
       "  <tbody>\n",
       "    <tr>\n",
       "      <th>Datsun 710</th>\n",
       "      <td>4</td>\n",
       "      <td>18.61</td>\n",
       "    </tr>\n",
       "    <tr>\n",
       "      <th>Toyota Corona</th>\n",
       "      <td>4</td>\n",
       "      <td>20.01</td>\n",
       "    </tr>\n",
       "  </tbody>\n",
       "</table>\n",
       "</div>"
      ],
      "text/plain": [
       "               cyl   qsec\n",
       "Datsun 710       4  18.61\n",
       "Toyota Corona    4  20.01"
      ]
     },
     "execution_count": 22,
     "metadata": {},
     "output_type": "execute_result"
    }
   ],
   "source": [
    "mtcars.iloc[5, 2] #Fila 5 columna 2\n",
    "mtcars.loc[['Datsun 710', 'Toyota Corona'], ['cyl', 'qsec']] #Fila y columna por nombre"
   ]
  },
  {
   "cell_type": "code",
   "execution_count": 23,
   "metadata": {},
   "outputs": [
    {
     "data": {
      "text/html": [
       "<div>\n",
       "<style scoped>\n",
       "    .dataframe tbody tr th:only-of-type {\n",
       "        vertical-align: middle;\n",
       "    }\n",
       "\n",
       "    .dataframe tbody tr th {\n",
       "        vertical-align: top;\n",
       "    }\n",
       "\n",
       "    .dataframe thead th {\n",
       "        text-align: right;\n",
       "    }\n",
       "</style>\n",
       "<table border=\"1\" class=\"dataframe\">\n",
       "  <thead>\n",
       "    <tr style=\"text-align: right;\">\n",
       "      <th></th>\n",
       "      <th>disp</th>\n",
       "      <th>cyl</th>\n",
       "    </tr>\n",
       "  </thead>\n",
       "  <tbody>\n",
       "    <tr>\n",
       "      <th>Mazda RX4</th>\n",
       "      <td>160.0</td>\n",
       "      <td>6</td>\n",
       "    </tr>\n",
       "    <tr>\n",
       "      <th>Mazda RX4 Wag</th>\n",
       "      <td>160.0</td>\n",
       "      <td>6</td>\n",
       "    </tr>\n",
       "    <tr>\n",
       "      <th>Datsun 710</th>\n",
       "      <td>108.0</td>\n",
       "      <td>4</td>\n",
       "    </tr>\n",
       "    <tr>\n",
       "      <th>Hornet 4 Drive</th>\n",
       "      <td>258.0</td>\n",
       "      <td>6</td>\n",
       "    </tr>\n",
       "    <tr>\n",
       "      <th>Hornet Sportabout</th>\n",
       "      <td>360.0</td>\n",
       "      <td>8</td>\n",
       "    </tr>\n",
       "    <tr>\n",
       "      <th>Valiant</th>\n",
       "      <td>225.0</td>\n",
       "      <td>6</td>\n",
       "    </tr>\n",
       "    <tr>\n",
       "      <th>Duster 360</th>\n",
       "      <td>360.0</td>\n",
       "      <td>8</td>\n",
       "    </tr>\n",
       "    <tr>\n",
       "      <th>Merc 240D</th>\n",
       "      <td>146.7</td>\n",
       "      <td>4</td>\n",
       "    </tr>\n",
       "    <tr>\n",
       "      <th>Merc 230</th>\n",
       "      <td>140.8</td>\n",
       "      <td>4</td>\n",
       "    </tr>\n",
       "    <tr>\n",
       "      <th>Merc 280</th>\n",
       "      <td>167.6</td>\n",
       "      <td>6</td>\n",
       "    </tr>\n",
       "    <tr>\n",
       "      <th>Merc 280C</th>\n",
       "      <td>167.6</td>\n",
       "      <td>6</td>\n",
       "    </tr>\n",
       "    <tr>\n",
       "      <th>Merc 450SE</th>\n",
       "      <td>275.8</td>\n",
       "      <td>8</td>\n",
       "    </tr>\n",
       "    <tr>\n",
       "      <th>Merc 450SL</th>\n",
       "      <td>275.8</td>\n",
       "      <td>8</td>\n",
       "    </tr>\n",
       "    <tr>\n",
       "      <th>Merc 450SLC</th>\n",
       "      <td>275.8</td>\n",
       "      <td>8</td>\n",
       "    </tr>\n",
       "    <tr>\n",
       "      <th>Cadillac Fleetwood</th>\n",
       "      <td>472.0</td>\n",
       "      <td>8</td>\n",
       "    </tr>\n",
       "    <tr>\n",
       "      <th>Lincoln Continental</th>\n",
       "      <td>460.0</td>\n",
       "      <td>8</td>\n",
       "    </tr>\n",
       "    <tr>\n",
       "      <th>Chrysler Imperial</th>\n",
       "      <td>440.0</td>\n",
       "      <td>8</td>\n",
       "    </tr>\n",
       "    <tr>\n",
       "      <th>Fiat 128</th>\n",
       "      <td>78.7</td>\n",
       "      <td>4</td>\n",
       "    </tr>\n",
       "    <tr>\n",
       "      <th>Honda Civic</th>\n",
       "      <td>75.7</td>\n",
       "      <td>4</td>\n",
       "    </tr>\n",
       "    <tr>\n",
       "      <th>Toyota Corolla</th>\n",
       "      <td>71.1</td>\n",
       "      <td>4</td>\n",
       "    </tr>\n",
       "    <tr>\n",
       "      <th>Toyota Corona</th>\n",
       "      <td>120.1</td>\n",
       "      <td>4</td>\n",
       "    </tr>\n",
       "    <tr>\n",
       "      <th>Dodge Challenger</th>\n",
       "      <td>318.0</td>\n",
       "      <td>8</td>\n",
       "    </tr>\n",
       "    <tr>\n",
       "      <th>AMC Javelin</th>\n",
       "      <td>304.0</td>\n",
       "      <td>8</td>\n",
       "    </tr>\n",
       "    <tr>\n",
       "      <th>Camaro Z28</th>\n",
       "      <td>350.0</td>\n",
       "      <td>8</td>\n",
       "    </tr>\n",
       "    <tr>\n",
       "      <th>Pontiac Firebird</th>\n",
       "      <td>400.0</td>\n",
       "      <td>8</td>\n",
       "    </tr>\n",
       "    <tr>\n",
       "      <th>Fiat X1-9</th>\n",
       "      <td>79.0</td>\n",
       "      <td>4</td>\n",
       "    </tr>\n",
       "    <tr>\n",
       "      <th>Porsche 914-2</th>\n",
       "      <td>120.3</td>\n",
       "      <td>4</td>\n",
       "    </tr>\n",
       "    <tr>\n",
       "      <th>Lotus Europa</th>\n",
       "      <td>95.1</td>\n",
       "      <td>4</td>\n",
       "    </tr>\n",
       "    <tr>\n",
       "      <th>Ford Pantera L</th>\n",
       "      <td>351.0</td>\n",
       "      <td>8</td>\n",
       "    </tr>\n",
       "    <tr>\n",
       "      <th>Ferrari Dino</th>\n",
       "      <td>145.0</td>\n",
       "      <td>6</td>\n",
       "    </tr>\n",
       "    <tr>\n",
       "      <th>Maserati Bora</th>\n",
       "      <td>301.0</td>\n",
       "      <td>8</td>\n",
       "    </tr>\n",
       "    <tr>\n",
       "      <th>Volvo 142E</th>\n",
       "      <td>121.0</td>\n",
       "      <td>4</td>\n",
       "    </tr>\n",
       "  </tbody>\n",
       "</table>\n",
       "</div>"
      ],
      "text/plain": [
       "                      disp  cyl\n",
       "Mazda RX4            160.0    6\n",
       "Mazda RX4 Wag        160.0    6\n",
       "Datsun 710           108.0    4\n",
       "Hornet 4 Drive       258.0    6\n",
       "Hornet Sportabout    360.0    8\n",
       "Valiant              225.0    6\n",
       "Duster 360           360.0    8\n",
       "Merc 240D            146.7    4\n",
       "Merc 230             140.8    4\n",
       "Merc 280             167.6    6\n",
       "Merc 280C            167.6    6\n",
       "Merc 450SE           275.8    8\n",
       "Merc 450SL           275.8    8\n",
       "Merc 450SLC          275.8    8\n",
       "Cadillac Fleetwood   472.0    8\n",
       "Lincoln Continental  460.0    8\n",
       "Chrysler Imperial    440.0    8\n",
       "Fiat 128              78.7    4\n",
       "Honda Civic           75.7    4\n",
       "Toyota Corolla        71.1    4\n",
       "Toyota Corona        120.1    4\n",
       "Dodge Challenger     318.0    8\n",
       "AMC Javelin          304.0    8\n",
       "Camaro Z28           350.0    8\n",
       "Pontiac Firebird     400.0    8\n",
       "Fiat X1-9             79.0    4\n",
       "Porsche 914-2        120.3    4\n",
       "Lotus Europa          95.1    4\n",
       "Ford Pantera L       351.0    8\n",
       "Ferrari Dino         145.0    6\n",
       "Maserati Bora        301.0    8\n",
       "Volvo 142E           121.0    4"
      ]
     },
     "execution_count": 23,
     "metadata": {},
     "output_type": "execute_result"
    }
   ],
   "source": [
    "mtcars.iloc[:, 2] #Toda la fila 2 con Tipo de datos Series\n",
    "mtcars.iloc[:, [2]] #Toda la fila 2 con Tipo de datos dataFrame\n",
    "mtcars.loc[:, ['disp', 'cyl']] #Columnas con Tipo dataFrame"
   ]
  },
  {
   "cell_type": "code",
   "execution_count": 24,
   "metadata": {},
   "outputs": [
    {
     "name": "stdout",
     "output_type": "stream",
     "text": [
      "                 mpg  cyl   disp   hp  drat     wt   qsec  vs  am  gear  carb\n",
      "Datsun 710      22.8    4  108.0   93  3.85  2.320  18.61   1   1     4     1\n",
      "Hornet 4 Drive  21.4    6  258.0  110  3.08  3.215  19.44   1   0     3     1\n",
      "Merc 240D       24.4    4  146.7   62  3.69  3.190  20.00   1   0     4     2\n",
      "Merc 230        22.8    4  140.8   95  3.92  3.150  22.90   1   0     4     2\n",
      "Fiat 128        32.4    4   78.7   66  4.08  2.200  19.47   1   1     4     1\n",
      "Honda Civic     30.4    4   75.7   52  4.93  1.615  18.52   1   1     4     2\n",
      "Toyota Corolla  33.9    4   71.1   65  4.22  1.835  19.90   1   1     4     1\n",
      "Toyota Corona   21.5    4  120.1   97  3.70  2.465  20.01   1   0     3     1\n",
      "Fiat X1-9       27.3    4   79.0   66  4.08  1.935  18.90   1   1     4     1\n",
      "Porsche 914-2   26.0    4  120.3   91  4.43  2.140  16.70   0   1     5     2\n",
      "Lotus Europa    30.4    4   95.1  113  3.77  1.513  16.90   1   1     5     2\n",
      "Volvo 142E      21.4    4  121.0  109  4.11  2.780  18.60   1   1     4     2\n"
     ]
    }
   ],
   "source": [
    "car_maniac = mtcars[mtcars[\"mpg\"] > 21] #Seleccion de datos que cumplan cierta condicion.\n",
    "\n",
    "a = mtcars['mpg']\n",
    "print(car_maniac)"
   ]
  },
  {
   "cell_type": "markdown",
   "metadata": {},
   "source": [
    "Condiciones Logicas (and, or, not) e if, elif, while, for."
   ]
  },
  {
   "cell_type": "code",
   "execution_count": 26,
   "metadata": {},
   "outputs": [],
   "source": [
    "#Funciones logicas and,or,not.\n",
    "#Son funciones que nos ayudan a colocar condiciones logicas en las columnas o filas.\n",
    "\n",
    "entre = np.logical_and(a > 21, a < 40) #Nos indica con un True o False si se cumple las condiciones\n",
    "filtro = mtcars[entre] #Filtramos solo los valores True"
   ]
  },
  {
   "cell_type": "code",
   "execution_count": 27,
   "metadata": {},
   "outputs": [
    {
     "ename": "TypeError",
     "evalue": "'>' not supported between instances of 'list' and 'int'",
     "output_type": "error",
     "traceback": [
      "\u001b[1;31m---------------------------------------------------------------------------\u001b[0m",
      "\u001b[1;31mTypeError\u001b[0m                                 Traceback (most recent call last)",
      "\u001b[1;32m<ipython-input-27-41d55f2f36ae>\u001b[0m in \u001b[0;36m<module>\u001b[1;34m()\u001b[0m\n\u001b[0;32m      3\u001b[0m \u001b[1;32mimport\u001b[0m \u001b[0mnumpy\u001b[0m \u001b[1;32mas\u001b[0m \u001b[0mnp\u001b[0m\u001b[1;33m\u001b[0m\u001b[0m\n\u001b[0;32m      4\u001b[0m \u001b[0mcpc\u001b[0m \u001b[1;33m=\u001b[0m \u001b[1;33m[\u001b[0m\u001b[1;36m809\u001b[0m\u001b[1;33m,\u001b[0m \u001b[1;36m731\u001b[0m\u001b[1;33m,\u001b[0m \u001b[1;36m588\u001b[0m\u001b[1;33m,\u001b[0m \u001b[1;36m18\u001b[0m\u001b[1;33m,\u001b[0m \u001b[1;36m200\u001b[0m\u001b[1;33m,\u001b[0m \u001b[1;36m70\u001b[0m\u001b[1;33m,\u001b[0m \u001b[1;36m45\u001b[0m\u001b[1;33m]\u001b[0m \u001b[1;31m#Lista\u001b[0m\u001b[1;33m\u001b[0m\u001b[0m\n\u001b[1;32m----> 5\u001b[1;33m \u001b[0mcpc\u001b[0m\u001b[1;33m[\u001b[0m\u001b[0mcpc\u001b[0m\u001b[1;33m>\u001b[0m\u001b[1;36m150\u001b[0m\u001b[1;33m]\u001b[0m \u001b[1;31m#genera un error, no puedes operar asì con listas\u001b[0m\u001b[1;33m\u001b[0m\u001b[0m\n\u001b[0m",
      "\u001b[1;31mTypeError\u001b[0m: '>' not supported between instances of 'list' and 'int'"
     ]
    }
   ],
   "source": [
    "#Estructuras Logicas (if, else) y de Control (While,for)\n",
    "\n",
    "import numpy as np\n",
    "cpc = [809, 731, 588, 18, 200, 70, 45] #Lista\n",
    "cpc[cpc>150] #genera un error, no puedes operar asì con listas"
   ]
  },
  {
   "cell_type": "code",
   "execution_count": null,
   "metadata": {},
   "outputs": [],
   "source": [
    "cpc_array = np.array([cpc]) #Convertimos a array\n",
    "cpc_array[cpc_array>150] # Convirtiendo a array puedes hacer filtros, eg de mayores a 150"
   ]
  },
  {
   "cell_type": "code",
   "execution_count": 28,
   "metadata": {},
   "outputs": [
    {
     "data": {
      "text/plain": [
       "True"
      ]
     },
     "execution_count": 28,
     "metadata": {},
     "output_type": "execute_result"
    }
   ],
   "source": [
    "a = 18 \n",
    "np.logical_and(a < 18, a < 17) \n",
    "not(a < 18 and a < 17) #Negacion de la condicion"
   ]
  },
  {
   "cell_type": "code",
   "execution_count": 29,
   "metadata": {},
   "outputs": [
    {
     "name": "stdout",
     "output_type": "stream",
     "text": [
      "Falso\n"
     ]
    }
   ],
   "source": [
    "#if, else, ifelse\n",
    "if (a == 17):\n",
    "    print(\"Verdadero\")\n",
    "else:\n",
    "    print(\"Falso\")"
   ]
  },
  {
   "cell_type": "code",
   "execution_count": 30,
   "metadata": {},
   "outputs": [
    {
     "name": "stdout",
     "output_type": "stream",
     "text": [
      "large\n"
     ]
    }
   ],
   "source": [
    "#\n",
    "if(a < 9) :\n",
    "    print(\"small\")\n",
    "elif(a < 12) :\n",
    "    print(\"medium\")\n",
    "else :\n",
    "    print(\"large\")"
   ]
  },
  {
   "cell_type": "code",
   "execution_count": 31,
   "metadata": {},
   "outputs": [
    {
     "name": "stdout",
     "output_type": "stream",
     "text": [
      "correcting...\n",
      "-5\n",
      "correcting...\n",
      "-4\n",
      "correcting...\n",
      "-3\n",
      "correcting...\n",
      "-2\n",
      "correcting...\n",
      "-1\n",
      "correcting...\n",
      "0\n"
     ]
    }
   ],
   "source": [
    "#While (Termina de ejecutarse cuando la condicion es falsa)\n",
    "offset = -6\n",
    "\n",
    "while offset != 0 :\n",
    "    print(\"correcting...\")\n",
    "    if offset > 0 :\n",
    "        offset = offset - 1\n",
    "    else :\n",
    "        offset = offset + 1\n",
    "    print(offset)"
   ]
  },
  {
   "cell_type": "code",
   "execution_count": 32,
   "metadata": {},
   "outputs": [
    {
     "name": "stdout",
     "output_type": "stream",
     "text": [
      "room 1: 11.25\n",
      "room 2: 18.0\n",
      "room 3: 20.0\n",
      "room 4: 10.75\n",
      "room 5: 9.5\n"
     ]
    }
   ],
   "source": [
    "#for (Son ciclos para repetir acciones)\n",
    "#Los for tienen la misma logica pero se debe tener en cuenta sobre el tipo de Objeto que se va a ejecutar.\n",
    "#for lista simple\n",
    "areas = [11.25, 18.0, 20.0, 10.75, 9.50]\n",
    "\n",
    "for index, area in enumerate(areas) :\n",
    "    print(\"room \" + str(index + 1) + \": \" + str(area))"
   ]
  },
  {
   "cell_type": "code",
   "execution_count": 33,
   "metadata": {},
   "outputs": [
    {
     "name": "stdout",
     "output_type": "stream",
     "text": [
      "the hallway is 11.25 sqm\n",
      "the kitchen is 18.0 sqm\n",
      "the living room is 20.0 sqm\n",
      "the bedroom is 10.75 sqm\n",
      "the bathroom is 9.5 sqm\n"
     ]
    }
   ],
   "source": [
    "#for en listas compuesta   \n",
    "house = [[\"hallway\", 11.25], \n",
    "         [\"kitchen\", 18.0], \n",
    "         [\"living room\", 20.0], \n",
    "         [\"bedroom\", 10.75], \n",
    "         [\"bathroom\", 9.50]]\n",
    "         \n",
    "for x in house :\n",
    "    print(\"the \" + str(x[0]) + \" is \" + str(x[1]) + \" sqm\")    "
   ]
  },
  {
   "cell_type": "code",
   "execution_count": 34,
   "metadata": {},
   "outputs": [
    {
     "name": "stdout",
     "output_type": "stream",
     "text": [
      "hallway\n",
      "11.25\n",
      "kitchen\n",
      "18.0\n",
      "living room\n",
      "20.0\n",
      "bedroom\n",
      "10.75\n",
      "bathroom\n",
      "9.5\n"
     ]
    }
   ],
   "source": [
    "#for en array\n",
    "house = np.array(house)\n",
    "\n",
    "for x in np.nditer(house):\n",
    "    print(x)"
   ]
  },
  {
   "cell_type": "code",
   "execution_count": 35,
   "metadata": {},
   "outputs": [
    {
     "name": "stdout",
     "output_type": "stream",
     "text": [
      "US\n",
      "cars_per_cap              809\n",
      "country         United States\n",
      "drives_right             True\n",
      "Name: US, dtype: object\n",
      "AUS\n",
      "cars_per_cap          731\n",
      "country         Australia\n",
      "drives_right        False\n",
      "Name: AUS, dtype: object\n",
      "JAP\n",
      "cars_per_cap      588\n",
      "country         Japan\n",
      "drives_right    False\n",
      "Name: JAP, dtype: object\n",
      "IN\n",
      "cars_per_cap       18\n",
      "country         India\n",
      "drives_right    False\n",
      "Name: IN, dtype: object\n",
      "RU\n",
      "cars_per_cap       200\n",
      "country         Russia\n",
      "drives_right      True\n",
      "Name: RU, dtype: object\n",
      "MOR\n",
      "cars_per_cap         70\n",
      "country         Morocco\n",
      "drives_right       True\n",
      "Name: MOR, dtype: object\n",
      "EG\n",
      "cars_per_cap       45\n",
      "country         Egypt\n",
      "drives_right     True\n",
      "Name: EG, dtype: object\n"
     ]
    }
   ],
   "source": [
    "#for en data frames\n",
    "for x,y in cars.iterrows():\n",
    "    print(x)\n",
    "    print(y) #Imprime todos los datos por fila"
   ]
  },
  {
   "cell_type": "code",
   "execution_count": 36,
   "metadata": {},
   "outputs": [
    {
     "name": "stdout",
     "output_type": "stream",
     "text": [
      "US:809\n",
      "AUS:731\n",
      "JAP:588\n",
      "IN:18\n",
      "RU:200\n",
      "MOR:70\n",
      "EG:45\n"
     ]
    }
   ],
   "source": [
    "for x, y in cars.iterrows():\n",
    "    print(x + \":\" + str(y[\"cars_per_cap\"])) #Imprime los datos de una sola columna"
   ]
  },
  {
   "cell_type": "code",
   "execution_count": 37,
   "metadata": {},
   "outputs": [],
   "source": [
    "for lab, row in cars.iterrows() :\n",
    "    cars.loc[lab, \"COUNTRY\"] = row[\"country\"].upper() #Convertimos los datos de country con mayusculas en la funcion upper()\n",
    "    \n",
    "cars[\"COUNTRY\"] = cars[\"country\"].apply(str.upper) #Realizamos el mismo proceso que el for con la funcion apply()\n"
   ]
  },
  {
   "cell_type": "markdown",
   "metadata": {},
   "source": [
    "Casos y Aplicaciones.\n",
    "Convinando todo lo anterior, desarrollaremos una grafica de una caminata aleatoria."
   ]
  },
  {
   "cell_type": "code",
   "execution_count": 38,
   "metadata": {},
   "outputs": [],
   "source": [
    "#Antes de comenzar es necesario conocer las funciones que nos ayudan a generar numeros aleatorios.\n",
    "import numpy as np \n",
    "np.random.rand() #Numero Aleatorio\n",
    "np.random.seed(123) #Semilla para generar el mismo numero\n",
    "aleatorio = np.random.randint(0,10) #Numero aleatorio entre 0 y 10\n",
    "step = 5"
   ]
  },
  {
   "cell_type": "code",
   "execution_count": 39,
   "metadata": {},
   "outputs": [
    {
     "name": "stdout",
     "output_type": "stream",
     "text": [
      "5\n"
     ]
    }
   ],
   "source": [
    "#If para ajustar el valor de una variable a partir de valor aleatorio que conseguimos anteriormente.\n",
    "if aleatorio == 5:\n",
    "    step = step - 1\n",
    "elif aleatorio < 5:\n",
    "    step = step\n",
    "else :\n",
    "    step = step + np.random.randint(0,10)\n",
    "    \n",
    "print(step)"
   ]
  },
  {
   "cell_type": "code",
   "execution_count": 40,
   "metadata": {},
   "outputs": [],
   "source": [
    "#Caminatas aleatorias\n",
    "\n",
    "#Para crear la caminata aleatoria, utilizamos un for anhidado.\n",
    "#Como buena practica primero entendemos el for que se encuentra adentro.\n",
    "\n",
    "import matplotlib.pyplot as plt\n",
    "import numpy as np\n",
    "\n",
    "np.random.seed(123)\n",
    "\n",
    "Todas = []\n",
    "\n",
    "for i in range(500):\n",
    "    \n",
    "    caminata_aleatoria = [0]\n",
    "\n",
    "    for x in range(100):\n",
    "    \n",
    "        paso = caminata_aleatoria[-1]\n",
    "    \n",
    "        aleatorio = np.random.randint(1,7)\n",
    "    \n",
    "        if aleatorio <= 2:\n",
    "             paso = max(0, paso - 1)\n",
    "        elif aleatorio <= 5:\n",
    "             paso = paso + 1    \n",
    "        else:\n",
    "             paso = paso + np.random.randint(1,7)\n",
    "             \n",
    "        if np.random.rand() <= 0.001:\n",
    "            paso = 0\n",
    "        \n",
    "        caminata_aleatoria.append(paso) #Agregar el numero que se creo\n",
    "\n",
    "        Todas.append(caminata_aleatoria)\n",
    "#Al terminar de correr obtenemos una caminata aleatoria el cual nombraremos Todas"
   ]
  },
  {
   "cell_type": "code",
   "execution_count": null,
   "metadata": {},
   "outputs": [],
   "source": [
    "#Graficaremos los resultados obtenidos.\n",
    "np_Todas = np.array(Todas) #Convertimos en array el objeto Todas\n",
    "plt.plot(np_Todas)\n",
    "plt.show()\n",
    "plt.clf()\n",
    "np_Todas_transpuesta = np.transpose(np_Todas)\n",
    "plt.plot(np_Todas_transpuesta)\n",
    "plt.show()\n",
    "\n",
    "Final = np_Todas[-1,:]\n",
    "plt.hist(Final)\n",
    "plt.show()\n",
    "\n",
    "np.mean(Final[Final > 30]) #Calculo de la media de datos que se ecuentran en la cola de datos aleatorios con un valor mayor a 30\n"
   ]
  },
  {
   "cell_type": "code",
   "execution_count": null,
   "metadata": {},
   "outputs": [],
   "source": []
  },
  {
   "cell_type": "code",
   "execution_count": null,
   "metadata": {},
   "outputs": [],
   "source": []
  }
 ],
 "metadata": {
  "kernelspec": {
   "display_name": "Python 3",
   "language": "python",
   "name": "python3"
  },
  "language_info": {
   "codemirror_mode": {
    "name": "ipython",
    "version": 3
   },
   "file_extension": ".py",
   "mimetype": "text/x-python",
   "name": "python",
   "nbconvert_exporter": "python",
   "pygments_lexer": "ipython3",
   "version": "3.6.4"
  }
 },
 "nbformat": 4,
 "nbformat_minor": 2
}
