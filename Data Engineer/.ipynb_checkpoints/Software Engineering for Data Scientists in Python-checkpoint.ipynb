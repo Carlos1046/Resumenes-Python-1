{
 "cells": [
  {
   "cell_type": "markdown",
   "metadata": {},
   "source": [
    "\n",
    "Un científico de datos puede mejorar su habilidades con conceptos del campo de la ingeniería de software.\n",
    "\n",
    "Permitiendo reutilizar más fácilmente el código, compartir con colaboradores.\n",
    "\n",
    "En ocasiones tareas serán muy repetitivas, si tenemos funciones que nos apoyen podemos reciclar mucho código.\n",
    "\n",
    "Las ideas principales son la modularidad, documentación y pruebas automatizadas.\n"
   ]
  },
  {
   "cell_type": "code",
   "execution_count": null,
   "metadata": {},
   "outputs": [],
   "source": []
  }
 ],
 "metadata": {
  "kernelspec": {
   "display_name": "Python 3",
   "language": "python",
   "name": "python3"
  },
  "language_info": {
   "codemirror_mode": {
    "name": "ipython",
    "version": 3
   },
   "file_extension": ".py",
   "mimetype": "text/x-python",
   "name": "python",
   "nbconvert_exporter": "python",
   "pygments_lexer": "ipython3",
   "version": "3.7.3"
  }
 },
 "nbformat": 4,
 "nbformat_minor": 4
}
