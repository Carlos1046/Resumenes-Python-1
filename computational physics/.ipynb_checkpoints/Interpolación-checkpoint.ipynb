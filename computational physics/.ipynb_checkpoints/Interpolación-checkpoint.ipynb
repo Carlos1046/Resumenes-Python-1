{
 "cells": [
  {
   "cell_type": "markdown",
   "metadata": {},
   "source": [
    "Comezemos leyendo los datos y haciendo una grafica"
   ]
  },
  {
   "cell_type": "code",
   "execution_count": 3,
   "metadata": {},
   "outputs": [
    {
     "data": {
      "text/plain": [
       "['datos_interpolacion.txt',\n",
       " 'Introduccion_Soluciones_No_Lineales.py',\n",
       " '.ipynb_checkpoints',\n",
       " 'Interpolación.ipynb']"
      ]
     },
     "execution_count": 3,
     "metadata": {},
     "output_type": "execute_result"
    }
   ],
   "source": [
    "#Carpeta y conjunto de datos que vamos a trabajar\n",
    "import os \n",
    "os.getcwd()\n",
    "os.listdir()"
   ]
  },
  {
   "cell_type": "code",
   "execution_count": 34,
   "metadata": {},
   "outputs": [
    {
     "name": "stdout",
     "output_type": "stream",
     "text": [
      "Temperatura : [2.3 2.7 2.9 3.2 3.5 3.7] Valor de presion : [ 6.38512 13.6218  18.676   28.2599  40.4082  49.9945 ]\n"
     ]
    }
   ],
   "source": [
    "import numpy as np\n",
    "\n",
    "#Lectura del archivo\n",
    "file = open('datos_interpolacion.txt','r')\n",
    "x , y = np.loadtxt(file, unpack = True)\n",
    "\n",
    "print(\"Temperatura : \" + str(x) , \"Valor de presion : \" + str(y))"
   ]
  },
  {
   "cell_type": "code",
   "execution_count": 35,
   "metadata": {},
   "outputs": [
    {
     "data": {
      "image/png": "[encoded data removed]",
      "text/plain": [
       "<Figure size 432x288 with 1 Axes>"
      ]
     },
     "metadata": {
      "needs_background": "light"
     },
     "output_type": "display_data"
    }
   ],
   "source": [
    "#Grafico de los datos\n",
    "import matplotlib.pyplot as plt\n",
    "\n",
    "plt.title(\"Valor de Presion 4 He\")\n",
    "plt.xlabel(\"Temperatura K\")\n",
    "plt.ylabel(\"Valor de Presion\")\n",
    "plt.plot(x, y, 'bo')\n",
    "plt.show()"
   ]
  },
  {
   "cell_type": "markdown",
   "metadata": {},
   "source": [
    "Ahora definiremos los polinomios"
   ]
  },
  {
   "cell_type": "code",
   "execution_count": 42,
   "metadata": {},
   "outputs": [
    {
     "name": "stdout",
     "output_type": "stream",
     "text": [
      "Ingresar el valor de X :3\n",
      "Presion de Vapor a 3.0  K  21.87063333333333\n"
     ]
    }
   ],
   "source": [
    "#Primera ecuacion lineal\n",
    "#Para este caso recuerda que X = 3\n",
    "X = float(input(\"Ingresar el valor de X :\"))\n",
    "\n",
    "def Y(X,X1,Y1,X2,Y2):\n",
    "    return (X-X2)*(Y1)/(X1-X2) + (X - X1)*(Y2)/(X2-X1)\n",
    "\n",
    "i = 0\n",
    "\n",
    "while not (X<x[i+1]) and (X>x[i]):\n",
    "    i += 1\n",
    "    \n",
    "print(\"Presion de Vapor a\", X , \" K \", Y(X,x[i],y[i],x[i+1],y[i+1]))"
   ]
  },
  {
   "cell_type": "code",
   "execution_count": 53,
   "metadata": {},
   "outputs": [
    {
     "name": "stdout",
     "output_type": "stream",
     "text": [
      "Presion de Vapor a  3.0 K 21.60362\n"
     ]
    }
   ],
   "source": [
    "#Segunda ecuacion\n",
    "def Y2(X,X1,Y1,X2,Y2,X3,Y3):\n",
    "    return (X-X2)*(X-X3)*(Y1)/((X1-X2)*(X1-X3)) + (X-X1)*(X-X3)*(Y2)/((X2-X1)*(X2-X3)) + (X-X1)*(X-X2)*(Y3)/((X3-X1)*(X3-X2))\n",
    "\n",
    "print(\"Presion de Vapor a \", X , \"K\", Y2(X,x[1],y[1],x[2],y[2],x[3],y[3]))"
   ]
  },
  {
   "cell_type": "code",
   "execution_count": 32,
   "metadata": {},
   "outputs": [
    {
     "name": "stdout",
     "output_type": "stream",
     "text": [
      "0.00986552028120968*Z**5 - 0.493264991164324*Z**4 + 6.25249999991502*Z**3 - 18.6736784610548*Z**2 + 23.050446235342*Z - 10.7527166665532\n"
     ]
    }
   ],
   "source": [
    "import sympy as sym\n",
    "#Polinomio de lagrange \n",
    "n = len(x)\n",
    "PolLagrange = 0.0\n",
    "Z = sym.Symbol('Z')\n",
    "\n",
    "\n",
    "for i in range(0,n):\n",
    "    lm = 1.0\n",
    "    for j in range(0,n):\n",
    "        if (j!=i):\n",
    "            lm = lm*(Z-x[j])/(x[i] - x[j])\n",
    "            \n",
    "    PolLagrange += lm*y[i]\n",
    "            \n",
    "        \n",
    "#La forma mas facil de convertir una expresion Sympy en una expresion que puede evaluarese numericamente es usa la funcion labdify\n",
    "pZ = sym.expand(PolLagrange)\n",
    "print(pZ)\n"
   ]
  },
  {
   "cell_type": "code",
   "execution_count": 36,
   "metadata": {},
   "outputs": [
    {
     "name": "stdout",
     "output_type": "stream",
     "text": [
      "21.595873032407685\n"
     ]
    }
   ],
   "source": [
    "X = 3.0\n",
    "pZn = sym.lambdify(Z,PolLagrange)\n",
    "print(pZn(X))"
   ]
  },
  {
   "cell_type": "code",
   "execution_count": 48,
   "metadata": {},
   "outputs": [
    {
     "name": "stdout",
     "output_type": "stream",
     "text": [
      "[2.3 2.7 2.9 3.2 3.5 3.7]\n",
      "2.3\n",
      "3.7\n"
     ]
    },
    {
     "data": {
      "image/png": "[encoded data removed]",
      "text/plain": [
       "<Figure size 432x288 with 1 Axes>"
      ]
     },
     "metadata": {
      "needs_background": "light"
     },
     "output_type": "display_data"
    }
   ],
   "source": [
    "#Puntos para la grafica\n",
    "print(x)\n",
    "x_a = np.min(x)\n",
    "x_b = np.max(x)\n",
    "\n",
    "print(x_a)\n",
    "print(x_b)\n",
    "\n",
    "muestras = 3 #Entre mayor sea la muestra mejor sera la aproximacion intentemos con muestra = 100\n",
    "xi_p = np.linspace(x_a, x_b, muestras)\n",
    "yi_p = pZn(xi_p)\n",
    "\n",
    "plt.plot(x,y,'bo')\n",
    "plt.title(\"Vapor de Presion 4He\")\n",
    "plt.xlabel(\"Temperatura K\")\n",
    "plt.ylabel(\"Vapor de Presion\")\n",
    "plt.grid(True)\n",
    "\n",
    "plt.plot(xi_p, yi_p, label = \"Polinomo\")\n",
    "plt.legend()\n",
    "plt.show()\n"
   ]
  }
 ],
 "metadata": {
  "kernelspec": {
   "display_name": "Python 3",
   "language": "python",
   "name": "python3"
  },
  "language_info": {
   "codemirror_mode": {
    "name": "ipython",
    "version": 3
   },
   "file_extension": ".py",
   "mimetype": "text/x-python",
   "name": "python",
   "nbconvert_exporter": "python",
   "pygments_lexer": "ipython3",
   "version": "3.7.3"
  }
 },
 "nbformat": 4,
 "nbformat_minor": 2
}
