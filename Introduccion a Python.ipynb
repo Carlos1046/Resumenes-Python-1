{
 "cells": [
  {
   "cell_type": "markdown",
   "metadata": {},
   "source": [
    "¿Que es Python?\n",
    "\n",
    "Es un lenguaje de programacion Orientado a Objetos, Programacion Imperativa, programacion funcional.\n",
    "\n",
    "-Con una sintaxis sencilla de entender y aprender.\n",
    "\n",
    "-Ampliamente utilizado en Ciencia e Ingenierias\n",
    "\n",
    "-Multiples bibliotecas"
   ]
  },
  {
   "cell_type": "markdown",
   "metadata": {},
   "source": [
    "Tipos Numerico\n",
    "\n",
    "Disponemos de los tipos numericos y operaciones habituales."
   ]
  },
  {
   "cell_type": "code",
   "execution_count": 81,
   "metadata": {},
   "outputs": [
    {
     "data": {
      "text/plain": [
       "2"
      ]
     },
     "execution_count": 81,
     "metadata": {},
     "output_type": "execute_result"
    }
   ],
   "source": [
    "#Si no colocamos el print se ejecutara todo el codigo, pero al momento de vizualisar resultados solo se muestra la ultima linea.\n",
    "5 + 1 - 4 * 3\n",
    "4/2\n",
    "4//2"
   ]
  },
  {
   "cell_type": "code",
   "execution_count": 82,
   "metadata": {},
   "outputs": [
    {
     "name": "stdout",
     "output_type": "stream",
     "text": [
      "-6\n",
      "2.0\n",
      "2\n"
     ]
    }
   ],
   "source": [
    "#Colocando print() muestra el resultado de cada linea.\n",
    "print(5 + 1 - 4 * 3)\n",
    "print(4/2)\n",
    "print(4//2)"
   ]
  },
  {
   "cell_type": "markdown",
   "metadata": {
    "collapsed": true
   },
   "source": [
    "Las diviones por cero lanzan un error"
   ]
  },
  {
   "cell_type": "code",
   "execution_count": 83,
   "metadata": {},
   "outputs": [
    {
     "ename": "ZeroDivisionError",
     "evalue": "division by zero",
     "output_type": "error",
     "traceback": [
      "\u001b[1;31m---------------------------------------------------------------------------\u001b[0m",
      "\u001b[1;31mZeroDivisionError\u001b[0m                         Traceback (most recent call last)",
      "\u001b[1;32m<ipython-input-83-05c9758a9c21>\u001b[0m in \u001b[0;36m<module>\u001b[1;34m()\u001b[0m\n\u001b[1;32m----> 1\u001b[1;33m \u001b[1;36m1\u001b[0m\u001b[1;33m/\u001b[0m\u001b[1;36m0\u001b[0m\u001b[1;33m\u001b[0m\u001b[0m\n\u001b[0m",
      "\u001b[1;31mZeroDivisionError\u001b[0m: division by zero"
     ]
    }
   ],
   "source": [
    "1/0"
   ]
  },
  {
   "cell_type": "markdown",
   "metadata": {},
   "source": [
    "Numero Complejos"
   ]
  },
  {
   "cell_type": "code",
   "execution_count": 84,
   "metadata": {},
   "outputs": [
    {
     "data": {
      "text/plain": [
       "(2+3j)"
      ]
     },
     "execution_count": 84,
     "metadata": {},
     "output_type": "execute_result"
    }
   ],
   "source": [
    "(2+3j)"
   ]
  },
  {
   "cell_type": "markdown",
   "metadata": {},
   "source": [
    "Valor Absoluto de numeros"
   ]
  },
  {
   "cell_type": "code",
   "execution_count": 85,
   "metadata": {},
   "outputs": [
    {
     "data": {
      "text/plain": [
       "10"
      ]
     },
     "execution_count": 85,
     "metadata": {},
     "output_type": "execute_result"
    }
   ],
   "source": [
    "abs(-10)"
   ]
  },
  {
   "cell_type": "code",
   "execution_count": 86,
   "metadata": {},
   "outputs": [
    {
     "data": {
      "text/plain": [
       "(17-7j)"
      ]
     },
     "execution_count": 86,
     "metadata": {},
     "output_type": "execute_result"
    }
   ],
   "source": [
    "(2+3j)*(1-5j)"
   ]
  },
  {
   "cell_type": "markdown",
   "metadata": {},
   "source": [
    "Potencia"
   ]
  },
  {
   "cell_type": "code",
   "execution_count": 87,
   "metadata": {},
   "outputs": [
    {
     "data": {
      "text/plain": [
       "4"
      ]
     },
     "execution_count": 87,
     "metadata": {},
     "output_type": "execute_result"
    }
   ],
   "source": [
    "2**2"
   ]
  },
  {
   "cell_type": "markdown",
   "metadata": {},
   "source": [
    "Convertir a entero "
   ]
  },
  {
   "cell_type": "code",
   "execution_count": 88,
   "metadata": {},
   "outputs": [
    {
     "data": {
      "text/plain": [
       "3"
      ]
     },
     "execution_count": 88,
     "metadata": {},
     "output_type": "execute_result"
    }
   ],
   "source": [
    "int(3.1416)"
   ]
  },
  {
   "cell_type": "code",
   "execution_count": 89,
   "metadata": {},
   "outputs": [
    {
     "data": {
      "text/plain": [
       "3"
      ]
     },
     "execution_count": 89,
     "metadata": {},
     "output_type": "execute_result"
    }
   ],
   "source": [
    "round(3.1416)"
   ]
  },
  {
   "cell_type": "markdown",
   "metadata": {},
   "source": [
    "No puedo convertir complejos a numeros flotantes, python no reconoce la parte entera e imaginaria."
   ]
  },
  {
   "cell_type": "code",
   "execution_count": 90,
   "metadata": {},
   "outputs": [
    {
     "ename": "TypeError",
     "evalue": "can't convert complex to float",
     "output_type": "error",
     "traceback": [
      "\u001b[1;31m---------------------------------------------------------------------------\u001b[0m",
      "\u001b[1;31mTypeError\u001b[0m                                 Traceback (most recent call last)",
      "\u001b[1;32m<ipython-input-90-fb3327f662a4>\u001b[0m in \u001b[0;36m<module>\u001b[1;34m()\u001b[0m\n\u001b[1;32m----> 1\u001b[1;33m \u001b[0mfloat\u001b[0m\u001b[1;33m(\u001b[0m\u001b[1;36m3\u001b[0m\u001b[1;33m+\u001b[0m\u001b[1;36m1j\u001b[0m\u001b[1;33m)\u001b[0m\u001b[1;33m\u001b[0m\u001b[0m\n\u001b[0m",
      "\u001b[1;31mTypeError\u001b[0m: can't convert complex to float"
     ]
    }
   ],
   "source": [
    "float(3+1j)"
   ]
  },
  {
   "cell_type": "markdown",
   "metadata": {},
   "source": [
    "La asignacion de variables funciona igual que en otros lenguajes"
   ]
  },
  {
   "cell_type": "code",
   "execution_count": 91,
   "metadata": {},
   "outputs": [
    {
     "name": "stdout",
     "output_type": "stream",
     "text": [
      "2\n"
     ]
    }
   ],
   "source": [
    "a = 2**1\n",
    "print(a)"
   ]
  },
  {
   "cell_type": "code",
   "execution_count": 96,
   "metadata": {},
   "outputs": [
    {
     "name": "stdout",
     "output_type": "stream",
     "text": [
      "el valor de a:  1\n",
      "el valor de b:  2\n"
     ]
    }
   ],
   "source": [
    "a, b = 1, 2\n",
    "print(\"el valor de a: \", a)\n",
    "print(\"el valor de b: \", b)"
   ]
  },
  {
   "cell_type": "markdown",
   "metadata": {},
   "source": [
    "Antes de continuar un detalle interesante sobre python es el Zen de Python.\n",
    "Frases o ideas que los desarroladores colocaron."
   ]
  },
  {
   "cell_type": "code",
   "execution_count": 1,
   "metadata": {},
   "outputs": [
    {
     "name": "stdout",
     "output_type": "stream",
     "text": [
      "The Zen of Python, by Tim Peters\n",
      "\n",
      "Beautiful is better than ugly.\n",
      "Explicit is better than implicit.\n",
      "Simple is better than complex.\n",
      "Complex is better than complicated.\n",
      "Flat is better than nested.\n",
      "Sparse is better than dense.\n",
      "Readability counts.\n",
      "Special cases aren't special enough to break the rules.\n",
      "Although practicality beats purity.\n",
      "Errors should never pass silently.\n",
      "Unless explicitly silenced.\n",
      "In the face of ambiguity, refuse the temptation to guess.\n",
      "There should be one-- and preferably only one --obvious way to do it.\n",
      "Although that way may not be obvious at first unless you're Dutch.\n",
      "Now is better than never.\n",
      "Although never is often better than *right* now.\n",
      "If the implementation is hard to explain, it's a bad idea.\n",
      "If the implementation is easy to explain, it may be a good idea.\n",
      "Namespaces are one honking great idea -- let's do more of those!\n"
     ]
    }
   ],
   "source": [
    "import this"
   ]
  },
  {
   "cell_type": "markdown",
   "metadata": {},
   "source": [
    "Operadores de Comparacion"
   ]
  },
  {
   "cell_type": "code",
   "execution_count": 101,
   "metadata": {
    "collapsed": true
   },
   "outputs": [],
   "source": [
    "a , b , c = 1, 2, .05"
   ]
  },
  {
   "cell_type": "code",
   "execution_count": 102,
   "metadata": {},
   "outputs": [
    {
     "name": "stdout",
     "output_type": "stream",
     "text": [
      "True\n",
      "False\n",
      "False\n",
      "True\n"
     ]
    }
   ],
   "source": [
    "print(a > c)\n",
    "print(a < c)\n",
    "print(a == c)\n",
    "print(a != c)"
   ]
  },
  {
   "cell_type": "markdown",
   "metadata": {},
   "source": [
    "Recordemos que los numeros complejos no se pueden ordenar ;)"
   ]
  },
  {
   "cell_type": "code",
   "execution_count": 103,
   "metadata": {},
   "outputs": [
    {
     "ename": "TypeError",
     "evalue": "'>' not supported between instances of 'complex' and 'complex'",
     "output_type": "error",
     "traceback": [
      "\u001b[1;31m---------------------------------------------------------------------------\u001b[0m",
      "\u001b[1;31mTypeError\u001b[0m                                 Traceback (most recent call last)",
      "\u001b[1;32m<ipython-input-103-9f4650de0cad>\u001b[0m in \u001b[0;36m<module>\u001b[1;34m()\u001b[0m\n\u001b[1;32m----> 1\u001b[1;33m \u001b[0ma\u001b[0m \u001b[1;33m+\u001b[0m \u001b[1;36m1j\u001b[0m \u001b[1;33m>\u001b[0m \u001b[1;36m3\u001b[0m \u001b[1;33m+\u001b[0m \u001b[1;36m4j\u001b[0m\u001b[1;33m\u001b[0m\u001b[0m\n\u001b[0m",
      "\u001b[1;31mTypeError\u001b[0m: '>' not supported between instances of 'complex' and 'complex'"
     ]
    }
   ],
   "source": [
    "a + 1j > 3 + 4j"
   ]
  },
  {
   "cell_type": "markdown",
   "metadata": {},
   "source": [
    "Algunos tipos de Variables en Python son:\n",
    "    -str (Cadena)\n",
    "    \n",
    "    -list (Lista)\n",
    "    \n",
    "    -tuple (Secuencia de objetos inmutables)\n",
    "    \n",
    "    -dict (Diccionario)\n",
    "    \n",
    "    -int (Numero entero 1)\n",
    "    \n",
    "    -float (Numero flotante 1.0)\n",
    "    \n",
    "    -complex (Numero complejo 1+1j)\n",
    "    \n",
    "    -bool (Numero Boleano True o False)"
   ]
  },
  {
   "cell_type": "code",
   "execution_count": 104,
   "metadata": {},
   "outputs": [
    {
     "name": "stdout",
     "output_type": "stream",
     "text": [
      "<class 'float'>\n",
      "<class 'int'>\n"
     ]
    }
   ],
   "source": [
    "#Type;Funcion para saber el tipo de objeto\n",
    "Numericas = 1.0\n",
    "print(type(Numericas))\n",
    "\n",
    "Numericas = 1\n",
    "print(type(Numericas))\n"
   ]
  },
  {
   "cell_type": "code",
   "execution_count": 105,
   "metadata": {},
   "outputs": [
    {
     "data": {
      "text/plain": [
       "str"
      ]
     },
     "execution_count": 105,
     "metadata": {},
     "output_type": "execute_result"
    }
   ],
   "source": [
    "#String\n",
    "String = 'Hola Mundo'\n",
    "type(String)"
   ]
  },
  {
   "cell_type": "code",
   "execution_count": 106,
   "metadata": {},
   "outputs": [
    {
     "name": "stdout",
     "output_type": "stream",
     "text": [
      "[1, 2, 3]\n"
     ]
    },
    {
     "data": {
      "text/plain": [
       "list"
      ]
     },
     "execution_count": 106,
     "metadata": {},
     "output_type": "execute_result"
    }
   ],
   "source": [
    "#Lista\n",
    "lista = [1,2,3]\n",
    "print(lista)\n",
    "type(lista)"
   ]
  },
  {
   "cell_type": "code",
   "execution_count": 107,
   "metadata": {},
   "outputs": [
    {
     "name": "stdout",
     "output_type": "stream",
     "text": [
      "('1', '2', 3)\n"
     ]
    },
    {
     "data": {
      "text/plain": [
       "tuple"
      ]
     },
     "execution_count": 107,
     "metadata": {},
     "output_type": "execute_result"
    }
   ],
   "source": [
    "#Tuple\n",
    "tuple_0 = ('1', '2', 3)\n",
    "print(tuple_0)\n",
    "type(tuple_0)"
   ]
  },
  {
   "cell_type": "code",
   "execution_count": 108,
   "metadata": {},
   "outputs": [
    {
     "data": {
      "text/plain": [
       "False"
      ]
     },
     "execution_count": 108,
     "metadata": {},
     "output_type": "execute_result"
    }
   ],
   "source": [
    "lista == tuple_0"
   ]
  },
  {
   "cell_type": "code",
   "execution_count": 109,
   "metadata": {},
   "outputs": [
    {
     "name": "stdout",
     "output_type": "stream",
     "text": [
      "{'Nombre': 'Carlos', 'Edad': 25}\n"
     ]
    },
    {
     "data": {
      "text/plain": [
       "dict"
      ]
     },
     "execution_count": 109,
     "metadata": {},
     "output_type": "execute_result"
    }
   ],
   "source": [
    "#Diccionarios\n",
    "Diccionario = {'Nombre': 'Carlos', 'Edad' : 25}\n",
    "print(Diccionario)\n",
    "type(Diccionario)"
   ]
  },
  {
   "cell_type": "code",
   "execution_count": 110,
   "metadata": {},
   "outputs": [
    {
     "data": {
      "text/plain": [
       "'CarlosCarlosCarlosCarlosCarlos'"
      ]
     },
     "execution_count": 110,
     "metadata": {},
     "output_type": "execute_result"
    }
   ],
   "source": [
    "#Operaciones con caracteres\n",
    "Nombre = 'Carlos'\n",
    "Nombre * 5"
   ]
  },
  {
   "cell_type": "markdown",
   "metadata": {},
   "source": [
    "Listas\n",
    "\n",
    "Python tiene muchos tipos de estructura de datos,una de ellas es la lista. \n",
    "En algunos lenguajes de programación se las conocen como arreglos o matrices,\n",
    "se caracterizan porque los elementos están entre corchetes y separados por una coma.\n",
    "\n",
    "Una lista es una estructura de datos y un tipo de dato en python con características especiales.\n",
    "Lo especial de las listas en Python es que nos permiten almacenar cualquier tipo de valor como enteros, cadenas y hasta otras funciones."
   ]
  },
  {
   "cell_type": "code",
   "execution_count": 111,
   "metadata": {},
   "outputs": [
    {
     "name": "stdout",
     "output_type": "stream",
     "text": [
      "[1, 2, 'a', 'b']\n"
     ]
    }
   ],
   "source": [
    "lista = [1,2,'a','b']\n",
    "print(lista)"
   ]
  },
  {
   "cell_type": "markdown",
   "metadata": {},
   "source": [
    "Ver si un elemento se encuentra en una lista"
   ]
  },
  {
   "cell_type": "code",
   "execution_count": 112,
   "metadata": {},
   "outputs": [
    {
     "data": {
      "text/plain": [
       "True"
      ]
     },
     "execution_count": 112,
     "metadata": {},
     "output_type": "execute_result"
    }
   ],
   "source": [
    "'a' in lista"
   ]
  },
  {
   "cell_type": "code",
   "execution_count": 113,
   "metadata": {
    "collapsed": true
   },
   "outputs": [],
   "source": [
    "lista = [1,4,'Python',[7,10],4]"
   ]
  },
  {
   "cell_type": "markdown",
   "metadata": {},
   "source": [
    "Para accede a los datos de una lista:"
   ]
  },
  {
   "cell_type": "code",
   "execution_count": 114,
   "metadata": {},
   "outputs": [
    {
     "name": "stdout",
     "output_type": "stream",
     "text": [
      "1\n",
      "[7, 10]\n",
      "10\n",
      "1\n",
      "4\n",
      "Python\n",
      "[7, 10]\n",
      "4\n",
      "[1, 4, 'Python', [7, 10], 4]\n"
     ]
    }
   ],
   "source": [
    "print(lista[0]) #El primer elemento de cualquier objeto es siempre 0.\n",
    "print(lista[3]) #Es una lista que esta contenida en una lista\n",
    "print(lista[3][1]) #Seleccion del elemento de la lista que vive en la lista.\n",
    "#Para no estar esibiendo print para poder imprimir todos los elementos de un lista ocupamos un for\n",
    "for elementos in lista:\n",
    "    print(elementos)\n",
    "print(lista)"
   ]
  },
  {
   "cell_type": "markdown",
   "metadata": {},
   "source": [
    "Metodos de las listas.\n",
    "\n",
    "Los Metodos son funciones que se pueden realizar sobre los objetos, en este caso los metodos de las listas son los siguientes."
   ]
  },
  {
   "cell_type": "code",
   "execution_count": 115,
   "metadata": {},
   "outputs": [
    {
     "name": "stdout",
     "output_type": "stream",
     "text": [
      "append:  [1, 4, 'Python', [7, 10], 4, ['nuevo_elemento', 1, 2]]\n",
      "extend:  [1, 4, 'Python', [7, 10], 4, ['nuevo_elemento', 1, 2], 10, 20, 30]\n",
      "remove:  [1, 4, 'Python', [7, 10], 4, 10, 20, 30]\n",
      "count:  2\n",
      "reverse :  [30, 20, 10, 4, [7, 10], 'Python', 4, 1]\n"
     ]
    }
   ],
   "source": [
    "#Metodos de las Listas.\n",
    "lista.append(['nuevo_elemento',1,2]) #Agrega un elemento (puede ser una lista)\n",
    "print(\"append: \", lista)\n",
    "\n",
    "lista.extend([10,20,30]) #Agrega elemento la diferencia con append al momento de agregar una lista, cada elemento de esta lista se agrega como un elemento mas dentro de la otra lista.\n",
    "print(\"extend: \", lista)\n",
    "\n",
    "lista.remove(['nuevo_elemento',1,2]) #Elimina un elemento de la lista\n",
    "print(\"remove: \", lista)\n",
    "\n",
    "lista.index('Python')#Devuelve el numero del elemento que le pasemos\n",
    "\n",
    "print(\"count: \", lista.count(4))  #Cuenta el numero de veces que se repite un elemento\n",
    "\n",
    "lista.reverse()  #Invierte los elemenots\n",
    "print(\"reverse : \", lista)\n"
   ]
  },
  {
   "cell_type": "markdown",
   "metadata": {
    "collapsed": true
   },
   "source": [
    "Funciones incorporadas en python\n",
    "Tiene un pequeño conjunto de funciones incorporadas enormemente utiles."
   ]
  },
  {
   "cell_type": "code",
   "execution_count": 116,
   "metadata": {},
   "outputs": [
    {
     "data": {
      "text/plain": [
       "8"
      ]
     },
     "execution_count": 116,
     "metadata": {},
     "output_type": "execute_result"
    }
   ],
   "source": [
    "type(lista) #Devuelve el tipo del objeto\n",
    "str(lista) #Convierte elementos a cadenas\n",
    "dir(lista) #Devuelve los metodos para un objeto\n",
    "abs(-5) #Valor absoluto\n",
    "complex(1,5) #Numeros complejos\n",
    "divmod(10,2) #Toma dos numeros y devuelve una pareja de numeros, el primero es el cociente de los argumentos y el segundo su residuo.\n",
    "eval('1+1') #Convierte el texto y lo evalua como codigo python.\n",
    "len(lista) #Numero de elementos en un objeto.\n",
    "\n",
    "#Existen mas funciones."
   ]
  },
  {
   "cell_type": "code",
   "execution_count": 117,
   "metadata": {},
   "outputs": [
    {
     "ename": "SyntaxError",
     "evalue": "invalid syntax (<ipython-input-117-f0320f0429bc>, line 3)",
     "output_type": "error",
     "traceback": [
      "\u001b[1;36m  File \u001b[1;32m\"<ipython-input-117-f0320f0429bc>\"\u001b[1;36m, line \u001b[1;32m3\u001b[0m\n\u001b[1;33m    Los paquetes son un conjunto de modulos, los modulos son archivos de codigo .py con variables, funciones y otros objetos.\u001b[0m\n\u001b[1;37m               ^\u001b[0m\n\u001b[1;31mSyntaxError\u001b[0m\u001b[1;31m:\u001b[0m invalid syntax\n"
     ]
    }
   ],
   "source": [
    "Paquetes\n",
    "\n",
    "Los paquetes son un conjunto de modulos, los modulos son archivos de codigo .py con variables, funciones y otros objetos.\n",
    "\n",
    "En Python, cada uno de nuestros archivos .py se denominan módulos. Estos módulos, a la vez, pueden formar parte de paquetes.\n",
    "Un paquete, es una carpeta que contiene archivos .py. Pero, para que una carpeta pueda ser considerada un paquete, debe contener un archivo de inicio llamado __init__.py. Este archivo, no necesita contener ninguna instrucción. De hecho, puede estar completamente vacío.\n",
    "\n",
    "└── paquete \n",
    "    ├── __init__.py \n",
    "    ├── modulo1.py \n",
    "    ├── modulo2.py \n",
    "    └── modulo3.py\n",
    "Los paquetes, a la vez, también pueden contener otros sub-paquetes:\n",
    " \n",
    "└── paquete \n",
    "    ├── __init__.py \n",
    "    ├── modulo1.py \n",
    "    └── subpaquete \n",
    "        ├── __init__.py \n",
    "        ├── modulo1.py \n",
    "        └── modulo2.py\n",
    "Y los módulos, no necesariamente, deben pertenecer a un paquete:\n",
    "\n",
    "├── modulo1.py \n",
    "└── paquete \n",
    "    ├── __init__.py \n",
    "    ├── modulo1.py \n",
    "    └── subpaquete \n",
    "        ├── __init__.py \n",
    "        ├── modulo1.py \n",
    "        └── modulo2.py"
   ]
  },
  {
   "cell_type": "markdown",
   "metadata": {
    "collapsed": true
   },
   "source": [
    "Numpy es un ejemplo de paquete en Python.\n",
    "\n",
    "¿Que es Numpy?\n",
    "\n",
    "Es una paqueteria de python, sirve para facilitar la manipulacion de vectores y matrices.\n",
    "\n",
    "Motivacion para Usar numpy.\n",
    "\n",
    "    -Lob bucles son costosos\n",
    "\n",
    "    -Eliminar bucles, vectorizar operaciones\n",
    "\n",
    "    -Los bucles se ejecutan en python, las operaciones vectorizadas en C\n",
    "\n",
    "    -Las operaciones entre arrays de NumPy se realizan elemento a elemento."
   ]
  },
  {
   "cell_type": "code",
   "execution_count": 118,
   "metadata": {
    "collapsed": true
   },
   "outputs": [],
   "source": [
    "#Importacion de la paqueteria numpy\n",
    "import numpy"
   ]
  },
  {
   "cell_type": "code",
   "execution_count": 119,
   "metadata": {},
   "outputs": [
    {
     "name": "stdout",
     "output_type": "stream",
     "text": [
      "<class 'numpy.ndarray'>\n",
      "[4 5 6 7 8]\n"
     ]
    }
   ],
   "source": [
    "a = numpy.arange(5) + 4 #Crea un array de 5 numeros y a cada elemeto le suma 4 \n",
    "print(type(a))\n",
    "print(a)"
   ]
  },
  {
   "cell_type": "markdown",
   "metadata": {},
   "source": [
    "Acceder a las funciones dentro de una paqueteria,la funcion norm se encuentra dentro del modulo linalg que se encuentra dentro de la paqueteria numpy. (De esta manera no traemos todas las funciones, teniendo implicaciones en la velocidad del codigo.)\n",
    "\n",
    "La funcion norm, devuelve una de las ocho normas de matrices diferentes, o una de un número infinito de normas vectoriales.\n"
   ]
  },
  {
   "cell_type": "code",
   "execution_count": 120,
   "metadata": {},
   "outputs": [
    {
     "name": "stdout",
     "output_type": "stream",
     "text": [
      "13.7840487521\n"
     ]
    }
   ],
   "source": [
    "print(numpy.linalg.norm(a)) "
   ]
  },
  {
   "cell_type": "markdown",
   "metadata": {},
   "source": [
    "Una Practica habitual para trabajar con los paquetes es renombrandolos de la ssiguiente manera."
   ]
  },
  {
   "cell_type": "code",
   "execution_count": 121,
   "metadata": {
    "collapsed": true
   },
   "outputs": [],
   "source": [
    "import numpy as np #Traemos numpy y lo llamamos np"
   ]
  },
  {
   "cell_type": "code",
   "execution_count": 122,
   "metadata": {},
   "outputs": [
    {
     "name": "stdout",
     "output_type": "stream",
     "text": [
      "13.7840487521\n"
     ]
    }
   ],
   "source": [
    "print(np.linalg.norm(a))"
   ]
  },
  {
   "cell_type": "code",
   "execution_count": 123,
   "metadata": {},
   "outputs": [
    {
     "data": {
      "text/plain": [
       "0.69314718055994529"
      ]
     },
     "execution_count": 123,
     "metadata": {},
     "output_type": "execute_result"
    }
   ],
   "source": [
    "np.e\n",
    "np.pi\n",
    "np.log(2)"
   ]
  },
  {
   "cell_type": "markdown",
   "metadata": {},
   "source": [
    "Se puede renombrar tambien todo un modulo dentro de una paqueteria, de la siguiente manera."
   ]
  },
  {
   "cell_type": "code",
   "execution_count": 124,
   "metadata": {
    "collapsed": true
   },
   "outputs": [],
   "source": [
    "from numpy import linalg as LA"
   ]
  },
  {
   "cell_type": "code",
   "execution_count": 125,
   "metadata": {},
   "outputs": [
    {
     "name": "stdout",
     "output_type": "stream",
     "text": [
      "13.7840487521\n"
     ]
    }
   ],
   "source": [
    "print(LA.norm(a))"
   ]
  },
  {
   "cell_type": "markdown",
   "metadata": {},
   "source": [
    "Arrays de NumPy\n",
    "\n",
    "¿Que es un Array?\n",
    "\n",
    "Una de las estructuras de datos más fundamentales en cualquier idioma es el arrays (matriz).\n",
    "\n",
    "Python no tiene una estructura de datos de matriz nativa, pero tiene una lista que es mucho más general y se puede usar como un arrays (matriz), multidimensional con bastante facilidad.\n"
   ]
  },
  {
   "cell_type": "code",
   "execution_count": 126,
   "metadata": {},
   "outputs": [
    {
     "name": "stdout",
     "output_type": "stream",
     "text": [
      "[1 2 3 4]\n"
     ]
    }
   ],
   "source": [
    "a = np.array([1,2,3,4]) #Los elementos son homogeneos\n",
    "print(a)"
   ]
  },
  {
   "cell_type": "code",
   "execution_count": 127,
   "metadata": {},
   "outputs": [
    {
     "name": "stdout",
     "output_type": "stream",
     "text": [
      "['1' '2' '3']\n",
      "[ 1.  2.  3.]\n"
     ]
    }
   ],
   "source": [
    "a = np.array([1,2,\"3\"])  #Convierte todos en un mismo tipo\n",
    "print(a)\n",
    "a = np.array([1,2,\"3\"], dtype=float) #Forzo que todos tengan un tipo de elemento indicado\n",
    "print(a)"
   ]
  },
  {
   "cell_type": "code",
   "execution_count": 128,
   "metadata": {
    "collapsed": true
   },
   "outputs": [],
   "source": [
    "#Ejemplo: De la la velocidad de trabajar con arrays.\n",
    "\n",
    "N, M = 100, 100\n",
    "a = np.empty(10000).reshape(N,M)\n",
    "b = np.random.rand(10000).reshape(N,M)\n",
    "c = np.random.rand(10000).reshape(N,M)"
   ]
  },
  {
   "cell_type": "code",
   "execution_count": 129,
   "metadata": {},
   "outputs": [
    {
     "name": "stdout",
     "output_type": "stream",
     "text": [
      "6.15 ms ± 197 µs per loop (mean ± std. dev. of 7 runs, 100 loops each)\n"
     ]
    }
   ],
   "source": [
    "%%timeit #Mide el tiempo que tarda en ejecutar el codigo\n",
    "for i in range(N):\n",
    "    for j in range(M):\n",
    "        a[i,j] = b[i,j] + c[i,j]"
   ]
  },
  {
   "cell_type": "code",
   "execution_count": 130,
   "metadata": {},
   "outputs": [
    {
     "name": "stdout",
     "output_type": "stream",
     "text": [
      "9.97 µs ± 148 ns per loop (mean ± std. dev. of 7 runs, 100000 loops each)\n"
     ]
    }
   ],
   "source": [
    "%%timeit \n",
    "a = b + c #Esta operacion se realiza elemento a elemento y se encuentra mas optimizado."
   ]
  },
  {
   "cell_type": "markdown",
   "metadata": {},
   "source": [
    "Indexacion de arrays\n",
    "Una de las herramientas mas importantes al momento de trabajar con arrays es la indexacion. Consiste en seleecionar elementos aislados o secciones de un array. Vamos a ver la indexacion basica."
   ]
  },
  {
   "cell_type": "code",
   "execution_count": 131,
   "metadata": {},
   "outputs": [
    {
     "data": {
      "text/plain": [
       "array([[1, 2, 3],\n",
       "       [2, 4, 6]])"
      ]
     },
     "execution_count": 131,
     "metadata": {},
     "output_type": "execute_result"
    }
   ],
   "source": [
    "a = np.array([\n",
    "    [1,2,3],\n",
    "    [2,4,6]])\n",
    "a"
   ]
  },
  {
   "cell_type": "code",
   "execution_count": 132,
   "metadata": {},
   "outputs": [
    {
     "data": {
      "text/plain": [
       "array([1, 2, 3])"
      ]
     },
     "execution_count": 132,
     "metadata": {},
     "output_type": "execute_result"
    }
   ],
   "source": [
    "a[0]"
   ]
  },
  {
   "cell_type": "code",
   "execution_count": 133,
   "metadata": {},
   "outputs": [
    {
     "data": {
      "text/plain": [
       "1"
      ]
     },
     "execution_count": 133,
     "metadata": {},
     "output_type": "execute_result"
    }
   ],
   "source": [
    "a[0][0]"
   ]
  },
  {
   "cell_type": "code",
   "execution_count": 134,
   "metadata": {},
   "outputs": [
    {
     "data": {
      "text/plain": [
       "1"
      ]
     },
     "execution_count": 134,
     "metadata": {},
     "output_type": "execute_result"
    }
   ],
   "source": [
    "a[0, 0]"
   ]
  },
  {
   "cell_type": "code",
   "execution_count": 135,
   "metadata": {},
   "outputs": [
    {
     "data": {
      "text/plain": [
       "array([[2, 3],\n",
       "       [4, 6]])"
      ]
     },
     "execution_count": 135,
     "metadata": {},
     "output_type": "execute_result"
    }
   ],
   "source": [
    "a[0:2, 1:3] #No se toma en cuenta el ultimo elemento"
   ]
  },
  {
   "cell_type": "code",
   "execution_count": 136,
   "metadata": {},
   "outputs": [
    {
     "data": {
      "text/plain": [
       "array([[2, 3],\n",
       "       [4, 6]])"
      ]
     },
     "execution_count": 136,
     "metadata": {},
     "output_type": "execute_result"
    }
   ],
   "source": [
    "a[:, 1:3]"
   ]
  },
  {
   "cell_type": "code",
   "execution_count": 137,
   "metadata": {},
   "outputs": [
    {
     "data": {
      "text/plain": [
       "array([1, 3])"
      ]
     },
     "execution_count": 137,
     "metadata": {},
     "output_type": "execute_result"
    }
   ],
   "source": [
    "a[0, 0:3:2] #Tomo los elementos que se encuentren en una posicion par."
   ]
  },
  {
   "cell_type": "code",
   "execution_count": 138,
   "metadata": {},
   "outputs": [
    {
     "data": {
      "text/plain": [
       "array([1, 3])"
      ]
     },
     "execution_count": 138,
     "metadata": {},
     "output_type": "execute_result"
    }
   ],
   "source": [
    "a[0, ::2] #Es la misma forma de solo tomar los elementos de posiciones pares"
   ]
  }
 ],
 "metadata": {
  "kernelspec": {
   "display_name": "Python 3",
   "language": "python",
   "name": "python3"
  },
  "language_info": {
   "codemirror_mode": {
    "name": "ipython",
    "version": 3
   },
   "file_extension": ".py",
   "mimetype": "text/x-python",
   "name": "python",
   "nbconvert_exporter": "python",
   "pygments_lexer": "ipython3",
   "version": "3.6.3"
  }
 },
 "nbformat": 4,
 "nbformat_minor": 2
}
