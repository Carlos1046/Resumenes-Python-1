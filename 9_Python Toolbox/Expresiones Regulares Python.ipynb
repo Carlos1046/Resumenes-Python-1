{
 "cells": [
  {
   "cell_type": "markdown",
   "metadata": {},
   "source": [
    "## Conceptos básico de manipulación de textos"
   ]
  },
  {
   "cell_type": "code",
   "execution_count": 3,
   "metadata": {},
   "outputs": [
    {
     "data": {
      "text/plain": [
       "'VESO NURXEOS '"
      ]
     },
     "execution_count": 3,
     "metadata": {},
     "output_type": "execute_result"
    }
   ],
   "source": [
    "import pandas as pd\n",
    "import datetime\n",
    "\n",
    "a = \"VEREMOS COMO MANIPULAR EXPRESIONES    \"\n",
    "\n",
    "#Selección de texto de 3 en 3\n",
    "a[::3]"
   ]
  },
  {
   "cell_type": "code",
   "execution_count": 6,
   "metadata": {},
   "outputs": [
    {
     "data": {
      "text/plain": [
       "'veremos como manipular expresiones'"
      ]
     },
     "execution_count": 6,
     "metadata": {},
     "output_type": "execute_result"
    }
   ],
   "source": [
    "#Colocar todo en letras minusculas\n",
    "a.lower()"
   ]
  },
  {
   "cell_type": "code",
   "execution_count": 19,
   "metadata": {},
   "outputs": [
    {
     "data": {
      "text/plain": [
       "'VEREMOS COMO MANIPULAR EXPRESIONES'"
      ]
     },
     "execution_count": 19,
     "metadata": {},
     "output_type": "execute_result"
    }
   ],
   "source": [
    "#elimina espacios a la derecha\n",
    "a.rstrip()"
   ]
  },
  {
   "cell_type": "code",
   "execution_count": 4,
   "metadata": {},
   "outputs": [
    {
     "data": {
      "text/plain": [
       "['mtv',\n",
       " ' films election, a high school comedy, is a current example',\n",
       " 'from there, director steven',\n",
       " ' spielberg wastes no time, taking us into',\n",
       " ' the water on a midnight swim']"
      ]
     },
     "execution_count": 4,
     "metadata": {},
     "output_type": "execute_result"
    }
   ],
   "source": [
    "file = 'mtv\\n films election, a high school comedy, is a current example\\nfrom there, director steven\\n spielberg wastes no time, taking us into\\n the water on a midnight swim'\n",
    "\n",
    "# separa el texto con \" \\n \"\n",
    "file_split = file.splitlines()\n",
    "file_split"
   ]
  },
  {
   "cell_type": "code",
   "execution_count": 36,
   "metadata": {},
   "outputs": [
    {
     "data": {
      "text/plain": [
       "[['mtv'],\n",
       " [' films election', ' a high school comedy', ' is a current example'],\n",
       " ['from there', ' director steven'],\n",
       " [' spielberg wastes no time', ' taking us into'],\n",
       " [' the water on a midnight swim']]"
      ]
     },
     "execution_count": 36,
     "metadata": {},
     "output_type": "execute_result"
    }
   ],
   "source": [
    "#Separamos por \",\"\n",
    "[substring.split(\",\") for substring in file_split ]"
   ]
  },
  {
   "cell_type": "code",
   "execution_count": 7,
   "metadata": {},
   "outputs": [
    {
     "name": "stdout",
     "output_type": "stream",
     "text": [
      "the film,however,is all good\n",
      "['the film', 'however', 'is all good']\n",
      "the film pega however pega is all good\n"
     ]
    }
   ],
   "source": [
    "movie = 'the film,however,is all good<\\\\i>'\n",
    "\n",
    "# Remove tags happening at the end and print results\n",
    "movie_tag = movie.rstrip(\"<\\i>\")\n",
    "print(movie_tag)\n",
    "\n",
    "# Split the string using commas and print results\n",
    "movie_no_comma = movie_tag.split(\",\")\n",
    "print(movie_no_comma)\n",
    "\n",
    "# Join back together and print results\n",
    "movie_join = \" pega \".join(movie_no_comma)\n",
    "print(movie_join)"
   ]
  },
  {
   "cell_type": "code",
   "execution_count": 59,
   "metadata": {},
   "outputs": [
    {
     "data": {
      "text/plain": [
       "51"
      ]
     },
     "execution_count": 59,
     "metadata": {},
     "output_type": "execute_result"
    }
   ],
   "source": [
    "len(\"I believe you I always said that the actor actor...\")"
   ]
  },
  {
   "cell_type": "code",
   "execution_count": 60,
   "metadata": {},
   "outputs": [
    {
     "data": {
      "text/plain": [
       "37"
      ]
     },
     "execution_count": 60,
     "metadata": {},
     "output_type": "execute_result"
    }
   ],
   "source": [
    "#Busca la palabra y marca su comienzo\n",
    "\"I believe you I always said that the actor actor...\".find(\"actor\")"
   ]
  },
  {
   "cell_type": "code",
   "execution_count": 61,
   "metadata": {},
   "outputs": [
    {
     "data": {
      "text/plain": [
       "'I believe you I always said that the actores actores...'"
      ]
     },
     "execution_count": 61,
     "metadata": {},
     "output_type": "execute_result"
    }
   ],
   "source": [
    "#Remplaza actor por actores\n",
    "\"I believe you I always said that the actor actor...\".replace(\"actor\",\"actores\")"
   ]
  },
  {
   "cell_type": "code",
   "execution_count": 52,
   "metadata": {},
   "outputs": [
    {
     "data": {
      "text/plain": [
       "2"
      ]
     },
     "execution_count": 52,
     "metadata": {},
     "output_type": "execute_result"
    }
   ],
   "source": [
    "#Conteo de palabras\n",
    "\"I believe you I always said that the actor actor...\".replace(\"actor\",\"actores\").count(\"actores\")"
   ]
  },
  {
   "cell_type": "markdown",
   "metadata": {},
   "source": [
    "## Formato de Texto\n",
    "\n",
    "**¿Cuál debería usar?**\n",
    "\n",
    "**str.format ():**\n",
    "\n",
    "- Bueno para empezar. Los conceptos se aplican a las cuerdas f.\n",
    "- Compatible con todas las versiones de Python.\n",
    "\n",
    "**f-string:**\n",
    "\n",
    "- Siempre recomendable sobre todos los métodos.\n",
    "- No es adecuado si no funciona con versiones modernas de Python (3.6+).\n",
    "\n",
    "**Cadenas de plantilla:**\n",
    "\n",
    "- Cuando trabaje con"
   ]
  },
  {
   "cell_type": "markdown",
   "metadata": {},
   "source": [
    "**Comenzando con str.format()**"
   ]
  },
  {
   "cell_type": "code",
   "execution_count": 38,
   "metadata": {},
   "outputs": [
    {
     "data": {
      "text/plain": [
       "'My dad is called \"John\"'"
      ]
     },
     "execution_count": 38,
     "metadata": {},
     "output_type": "execute_result"
    }
   ],
   "source": [
    "#Escapando de las secuencias\n",
    "\n",
    "\"My dad is called \\\"John\\\"\""
   ]
  },
  {
   "cell_type": "code",
   "execution_count": 24,
   "metadata": {},
   "outputs": [
    {
     "data": {
      "text/plain": [
       "'Colocamos lo que deseamos como colocando en format podemos colocar varias cosas Hola!!'"
      ]
     },
     "execution_count": 24,
     "metadata": {},
     "output_type": "execute_result"
    }
   ],
   "source": [
    "\"Colocamos lo que deseamos como {} podemos colocar varias cosas {}\".format(\"colocando en format\", \"Hola!!\")"
   ]
  },
  {
   "cell_type": "code",
   "execution_count": 27,
   "metadata": {},
   "outputs": [
    {
     "data": {
      "text/plain": [
       "'Tambien ÑLKJADSF podemos nombrar las variables 123'"
      ]
     },
     "execution_count": 27,
     "metadata": {},
     "output_type": "execute_result"
    }
   ],
   "source": [
    "\"Tambien {variable} podemos nombrar las variables {valor}\".format(variable = \"ÑLKJADSF\", valor = \"123\")"
   ]
  },
  {
   "cell_type": "code",
   "execution_count": 29,
   "metadata": {},
   "outputs": [
    {
     "data": {
      "text/plain": [
       "'Cuidando el tipo de datos 3.000000% y texto el siguiente valor no será flotante 3'"
      ]
     },
     "execution_count": 29,
     "metadata": {},
     "output_type": "execute_result"
    }
   ],
   "source": [
    "\"Cuidando el tipo de datos {0:f}% y texto {1} {2}\".format(3, \"el siguiente valor no será flotante\",3)"
   ]
  },
  {
   "cell_type": "code",
   "execution_count": 31,
   "metadata": {},
   "outputs": [
    {
     "name": "stdout",
     "output_type": "stream",
     "text": [
      "Good morning. Today is May 23, 2020. It's 00:22 ... time to work!\n"
     ]
    }
   ],
   "source": [
    "# Import datetime \n",
    "from datetime import datetime\n",
    "\n",
    "get_date = datetime.now()\n",
    "get_date\n",
    "\n",
    "# Agregando el formato de fecha \n",
    "message = \"Good morning. Today is {today:%B %d, %Y}. It's {today:%H:%M} ... time to work!\"\n",
    "\n",
    "# Format date\n",
    "print(message.format(today=get_date))"
   ]
  },
  {
   "cell_type": "markdown",
   "metadata": {},
   "source": [
    "**f-string**"
   ]
  },
  {
   "cell_type": "code",
   "execution_count": 34,
   "metadata": {},
   "outputs": [
    {
     "name": "stdout",
     "output_type": "stream",
     "text": [
      "Data science is considered 'asdf' in the 24st century\n"
     ]
    }
   ],
   "source": [
    "field1 = 'asdf'\n",
    "fact1 = 24\n",
    "\n",
    "# No es necesario colocar format siempre y cuando al inicio pongamos f\"\"\n",
    "print(f\"Data science is considered {field1!r} in the {fact1:d}st century\" )\n",
    "\n",
    "#!s\n",
    "#!r, coloca las comillas haciendo referencia a textos\n",
    "#!a "
   ]
  },
  {
   "cell_type": "code",
   "execution_count": 15,
   "metadata": {},
   "outputs": [
    {
     "name": "stdout",
     "output_type": "stream",
     "text": [
      "About 2.000000e+03 of data is produced daily in the world\n"
     ]
    }
   ],
   "source": [
    "fact2 = 2000\n",
    "field2 = 'data is produced daily'\n",
    "\n",
    "# Complete the f-string\n",
    "print(f\"About {fact2:e} of {field2} in the world\")\n",
    "\n",
    "#e, notación cientifica\n",
    "#d, digito\n",
    "#f, flotante"
   ]
  },
  {
   "cell_type": "code",
   "execution_count": 35,
   "metadata": {},
   "outputs": [
    {
     "name": "stdout",
     "output_type": "stream",
     "text": [
      "asdf create around 2.00% of the data but only 3.0% is analyzed\n"
     ]
    }
   ],
   "source": [
    "field3 = \"asdf\" \n",
    "fact3 = 2\n",
    "fact4 = 3\n",
    "\n",
    "# Completando f\"strings\"\n",
    "print(f\"{field3} create around {fact3:.2f}% of the data but only {fact4:.1f}% is analyzed\")"
   ]
  },
  {
   "cell_type": "code",
   "execution_count": 18,
   "metadata": {},
   "outputs": [
    {
     "name": "stdout",
     "output_type": "stream",
     "text": [
      "10 tweets were downloaded in 2 minutes indicating a speed of 5.0 tweets per min\n"
     ]
    }
   ],
   "source": [
    "number1 = 10\n",
    "number2 = 2\n",
    "\n",
    "# Podemos operar las variables\n",
    "print(f\"{number1} tweets were downloaded in {number2} minutes indicating a speed of {number1/number2:.1f} tweets per min\")"
   ]
  },
  {
   "cell_type": "code",
   "execution_count": 22,
   "metadata": {},
   "outputs": [
    {
     "name": "stdout",
     "output_type": "stream",
     "text": [
      "Tenemos el siguiente sitio web: www.datacamp.com donde contiene https en: 0 \n"
     ]
    }
   ],
   "source": [
    "string1 = 'httpswww.datacamp.com'\n",
    "\n",
    "# Aplicar funciones al texto\n",
    "print(f\"Tenemos el siguiente sitio web: {string1.replace('https', '')} donde contiene https en: {string1.find('https')} \")"
   ]
  },
  {
   "cell_type": "code",
   "execution_count": 87,
   "metadata": {},
   "outputs": [
    {
     "name": "stdout",
     "output_type": "stream",
     "text": [
      "Only 5.83% of the posts contain links\n"
     ]
    }
   ],
   "source": [
    "list_links = ['www.news.com',\n",
    " 'www.google.com',\n",
    " 'www.yahoo.com',\n",
    " 'www.bbc.com',\n",
    " 'www.msn.com',\n",
    " 'www.facebook.com',\n",
    " 'www.news.google.com']\n",
    "\n",
    "# Colocando funciones y operaciones\n",
    "print(f\"Only {(len(list_links)*100/120):.2f}% of the posts contain links\")"
   ]
  },
  {
   "cell_type": "code",
   "execution_count": 41,
   "metadata": {},
   "outputs": [
    {
     "name": "stdout",
     "output_type": "stream",
     "text": [
      "If you sum up 10 and 20 the result is 30\n"
     ]
    }
   ],
   "source": [
    "def my_function(a,b):\n",
    "    return a + b\n",
    "\n",
    "#Aplicando funciones\n",
    "print(f\"If you sum up 10 and 20 the result is {my_function(10, 20)}\")"
   ]
  },
  {
   "cell_type": "code",
   "execution_count": 92,
   "metadata": {},
   "outputs": [
    {
     "name": "stdout",
     "output_type": "stream",
     "text": [
      "The price for a house in the east neighborhood was $1232443 in 04-20-2007\n"
     ]
    }
   ],
   "source": [
    "#Tomando valores de diccionarios.\n",
    "east = {'date': datetime.datetime(2007, 4, 20, 0, 0), 'price': 1232443}\n",
    "\n",
    "# Access values of date and price in east dictionary\n",
    "print(f\"The price for a house in the east neighborhood was ${east['price']} in {east['date']:%m-%d-%Y}\")"
   ]
  },
  {
   "cell_type": "markdown",
   "metadata": {},
   "source": [
    "**Metodo template**\n",
    "\n",
    "Sintaxis más simple\n",
    "\n",
    "Más lento que las cuerdas f\n",
    "\n",
    "Limitado: no permitir formatos de especies\n",
    "\n",
    "Bueno cuando se trabaja con cadenas formateadas externamente"
   ]
  },
  {
   "cell_type": "code",
   "execution_count": 46,
   "metadata": {},
   "outputs": [
    {
     "name": "stdout",
     "output_type": "stream",
     "text": [
      "Natural Language Toolkit is a suite of libraries and programs for\n"
     ]
    }
   ],
   "source": [
    "from string import Template\n",
    "\n",
    "tool1 = 'Natural Language Toolkit'\n",
    "description1 = 'suite of libraries and programs for'\n",
    "\n",
    "# Creamos un template para poder colocar mayor número de variables diferentes\n",
    "wikipedia = Template(\"$tool is a $description\")\n",
    "\n",
    "# Sustituyde la variable del template\n",
    "print(wikipedia.substitute(tool=tool1, description=description1))\n"
   ]
  },
  {
   "cell_type": "code",
   "execution_count": 48,
   "metadata": {},
   "outputs": [
    {
     "name": "stdout",
     "output_type": "stream",
     "text": [
      "We are offering a 3-month beginner course on Natural Language Toolkit just for $ 20 monthly\n"
     ]
    }
   ],
   "source": [
    "# Import template\n",
    "from string import Template\n",
    "\n",
    "tools = ['Natural Language Toolkit', '20', 'month']\n",
    "\n",
    "# Select variables\n",
    "our_tool = tools[0]\n",
    "our_fee = tools[1]\n",
    "our_pay = tools[2]\n",
    "\n",
    "# Creando el template con mayor número de variables de una lista.\n",
    "course = Template(\"We are offering a 3-month beginner course on $tool just for $$ $fee ${pay}ly\")\n",
    "\n",
    "# Sustituyde la variable del template\n",
    "print(course.substitute(tool=our_tool, fee=our_fee, pay=our_pay))"
   ]
  },
  {
   "cell_type": "markdown",
   "metadata": {},
   "source": [
    "## Expresiones regulares (aquí me quede)"
   ]
  }
 ],
 "metadata": {
  "kernelspec": {
   "display_name": "Python 3",
   "language": "python",
   "name": "python3"
  },
  "language_info": {
   "codemirror_mode": {
    "name": "ipython",
    "version": 3
   },
   "file_extension": ".py",
   "mimetype": "text/x-python",
   "name": "python",
   "nbconvert_exporter": "python",
   "pygments_lexer": "ipython3",
   "version": "3.7.3"
  },
  "toc-autonumbering": true
 },
 "nbformat": 4,
 "nbformat_minor": 4
}
