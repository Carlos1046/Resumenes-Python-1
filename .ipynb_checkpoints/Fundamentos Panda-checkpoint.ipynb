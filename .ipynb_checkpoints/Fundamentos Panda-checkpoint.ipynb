{
 "cells": [
  {
   "cell_type": "markdown",
   "metadata": {
    "collapsed": true
   },
   "source": [
    "Revision de Metodos Introductorios Pandas;\n",
    "   * Graficas por columnas, Operaciones con filas, Cuantiles de una columna, Filtros (igualdades, metodo str.contains o .loc).\n",
    "   * Trabajar con Fechas (to_datetime,reindex,resample,rolling,interpolate,tz_localize,tz_convert)"
   ]
  },
  {
   "cell_type": "code",
   "execution_count": 5,
   "metadata": {},
   "outputs": [],
   "source": [
    "import os\n",
    "import pandas as pd\n",
    "import numpy as np\n",
    "import matplotlib.pyplot as plt\n",
    "import datetime as dt"
   ]
  },
  {
   "cell_type": "code",
   "execution_count": 6,
   "metadata": {},
   "outputs": [
    {
     "data": {
      "text/html": [
       "<div>\n",
       "<style scoped>\n",
       "    .dataframe tbody tr th:only-of-type {\n",
       "        vertical-align: middle;\n",
       "    }\n",
       "\n",
       "    .dataframe tbody tr th {\n",
       "        vertical-align: top;\n",
       "    }\n",
       "\n",
       "    .dataframe thead th {\n",
       "        text-align: right;\n",
       "    }\n",
       "</style>\n",
       "<table border=\"1\" class=\"dataframe\">\n",
       "  <thead>\n",
       "    <tr style=\"text-align: right;\">\n",
       "      <th></th>\n",
       "      <th>Unnamed: 0</th>\n",
       "      <th>mpg</th>\n",
       "      <th>cyl</th>\n",
       "      <th>disp</th>\n",
       "      <th>hp</th>\n",
       "      <th>drat</th>\n",
       "      <th>wt</th>\n",
       "      <th>qsec</th>\n",
       "      <th>vs</th>\n",
       "      <th>am</th>\n",
       "      <th>gear</th>\n",
       "      <th>carb</th>\n",
       "    </tr>\n",
       "  </thead>\n",
       "  <tbody>\n",
       "    <tr>\n",
       "      <th>0</th>\n",
       "      <td>Mazda RX4</td>\n",
       "      <td>21.0</td>\n",
       "      <td>6</td>\n",
       "      <td>160.0</td>\n",
       "      <td>110</td>\n",
       "      <td>3.90</td>\n",
       "      <td>2.620</td>\n",
       "      <td>16.46</td>\n",
       "      <td>0</td>\n",
       "      <td>1</td>\n",
       "      <td>4</td>\n",
       "      <td>4</td>\n",
       "    </tr>\n",
       "    <tr>\n",
       "      <th>1</th>\n",
       "      <td>Mazda RX4 Wag</td>\n",
       "      <td>21.0</td>\n",
       "      <td>6</td>\n",
       "      <td>160.0</td>\n",
       "      <td>110</td>\n",
       "      <td>3.90</td>\n",
       "      <td>2.875</td>\n",
       "      <td>17.02</td>\n",
       "      <td>0</td>\n",
       "      <td>1</td>\n",
       "      <td>4</td>\n",
       "      <td>4</td>\n",
       "    </tr>\n",
       "    <tr>\n",
       "      <th>2</th>\n",
       "      <td>Datsun 710</td>\n",
       "      <td>22.8</td>\n",
       "      <td>4</td>\n",
       "      <td>108.0</td>\n",
       "      <td>93</td>\n",
       "      <td>3.85</td>\n",
       "      <td>2.320</td>\n",
       "      <td>18.61</td>\n",
       "      <td>1</td>\n",
       "      <td>1</td>\n",
       "      <td>4</td>\n",
       "      <td>1</td>\n",
       "    </tr>\n",
       "    <tr>\n",
       "      <th>3</th>\n",
       "      <td>Hornet 4 Drive</td>\n",
       "      <td>21.4</td>\n",
       "      <td>6</td>\n",
       "      <td>258.0</td>\n",
       "      <td>110</td>\n",
       "      <td>3.08</td>\n",
       "      <td>3.215</td>\n",
       "      <td>19.44</td>\n",
       "      <td>1</td>\n",
       "      <td>0</td>\n",
       "      <td>3</td>\n",
       "      <td>1</td>\n",
       "    </tr>\n",
       "    <tr>\n",
       "      <th>4</th>\n",
       "      <td>Hornet Sportabout</td>\n",
       "      <td>18.7</td>\n",
       "      <td>8</td>\n",
       "      <td>360.0</td>\n",
       "      <td>175</td>\n",
       "      <td>3.15</td>\n",
       "      <td>3.440</td>\n",
       "      <td>17.02</td>\n",
       "      <td>0</td>\n",
       "      <td>0</td>\n",
       "      <td>3</td>\n",
       "      <td>2</td>\n",
       "    </tr>\n",
       "  </tbody>\n",
       "</table>\n",
       "</div>"
      ],
      "text/plain": [
       "          Unnamed: 0   mpg  cyl   disp   hp  drat     wt   qsec  vs  am  gear  \\\n",
       "0          Mazda RX4  21.0    6  160.0  110  3.90  2.620  16.46   0   1     4   \n",
       "1      Mazda RX4 Wag  21.0    6  160.0  110  3.90  2.875  17.02   0   1     4   \n",
       "2         Datsun 710  22.8    4  108.0   93  3.85  2.320  18.61   1   1     4   \n",
       "3     Hornet 4 Drive  21.4    6  258.0  110  3.08  3.215  19.44   1   0     3   \n",
       "4  Hornet Sportabout  18.7    8  360.0  175  3.15  3.440  17.02   0   0     3   \n",
       "\n",
       "   carb  \n",
       "0     4  \n",
       "1     4  \n",
       "2     1  \n",
       "3     1  \n",
       "4     2  "
      ]
     },
     "execution_count": 6,
     "metadata": {},
     "output_type": "execute_result"
    }
   ],
   "source": [
    "mtcars = pd.read_csv('C:/Users/Carlos.Flores/Documents/GitHub/Resumenes-Python/mtcars.csv')\n",
    "mtcars.head()"
   ]
  },
  {
   "cell_type": "code",
   "execution_count": null,
   "metadata": {
    "collapsed": true
   },
   "outputs": [],
   "source": [
    "#Base para trabajar las Fechas con Fechas\n",
    "ruta = \"G:\\Mi unidad\\Bases_Trabajo\\Itam\"\n",
    "os.chdir(ruta)\n",
    "archivo = \"6292_Analisis_URLs_Itam_v0_20180712_204632_769112496.csv\" \n",
    "archivo = os.path.join(ruta,archivo)\n",
    "#Parametro parse_dates (Formato Fecha), index_col (Nombre de las Filas)\n",
    "datos = pd.read_csv(archivo, parse_dates = True, index_col = 'Activity Date/Time')"
   ]
  },
  {
   "cell_type": "code",
   "execution_count": 29,
   "metadata": {},
   "outputs": [
    {
     "data": {
      "image/png": "[encoded data removed]",
      "text/plain": [
       "<matplotlib.figure.Figure at 0x2b0c11abc18>"
      ]
     },
     "metadata": {},
     "output_type": "display_data"
    }
   ],
   "source": [
    "#Grafica por columnas\n",
    "cols = ['hp','mpg']\n",
    "mtcars[cols].plot(kind = 'box',subplots = True)\n",
    "plt.show()"
   ]
  },
  {
   "cell_type": "code",
   "execution_count": 38,
   "metadata": {},
   "outputs": [
    {
     "data": {
      "text/plain": [
       "0    29.907273\n",
       "1    29.981364\n",
       "2    23.598182\n",
       "3    38.739545\n",
       "4    53.664545\n",
       "dtype: float64"
      ]
     },
     "execution_count": 38,
     "metadata": {},
     "output_type": "execute_result"
    }
   ],
   "source": [
    "#Calculo de la media por filas\n",
    "mtcars.mean(axis='columns').head()"
   ]
  },
  {
   "cell_type": "code",
   "execution_count": 40,
   "metadata": {},
   "outputs": [
    {
     "data": {
      "text/plain": [
       "count    32.000000\n",
       "mean     20.090625\n",
       "std       6.026948\n",
       "min      10.400000\n",
       "25%      15.425000\n",
       "50%      19.200000\n",
       "75%      22.800000\n",
       "max      33.900000\n",
       "Name: mpg, dtype: float64"
      ]
     },
     "execution_count": 40,
     "metadata": {},
     "output_type": "execute_result"
    }
   ],
   "source": [
    "mtcars['mpg'].describe() #Descripcion de una columna"
   ]
  },
  {
   "cell_type": "code",
   "execution_count": 43,
   "metadata": {},
   "outputs": [
    {
     "data": {
      "text/html": [
       "<div>\n",
       "<style>\n",
       "    .dataframe thead tr:only-child th {\n",
       "        text-align: right;\n",
       "    }\n",
       "\n",
       "    .dataframe thead th {\n",
       "        text-align: left;\n",
       "    }\n",
       "\n",
       "    .dataframe tbody tr th {\n",
       "        vertical-align: top;\n",
       "    }\n",
       "</style>\n",
       "<table border=\"1\" class=\"dataframe\">\n",
       "  <thead>\n",
       "    <tr style=\"text-align: right;\">\n",
       "      <th></th>\n",
       "      <th>mpg</th>\n",
       "      <th>cyl</th>\n",
       "      <th>disp</th>\n",
       "      <th>hp</th>\n",
       "      <th>drat</th>\n",
       "      <th>wt</th>\n",
       "      <th>qsec</th>\n",
       "      <th>vs</th>\n",
       "      <th>am</th>\n",
       "      <th>gear</th>\n",
       "      <th>carb</th>\n",
       "    </tr>\n",
       "  </thead>\n",
       "  <tbody>\n",
       "    <tr>\n",
       "      <th>0.05</th>\n",
       "      <td>11.995</td>\n",
       "      <td>4.0</td>\n",
       "      <td>77.35</td>\n",
       "      <td>63.65</td>\n",
       "      <td>2.8535</td>\n",
       "      <td>1.73600</td>\n",
       "      <td>15.0455</td>\n",
       "      <td>0.0</td>\n",
       "      <td>0.0</td>\n",
       "      <td>3.0</td>\n",
       "      <td>1.0</td>\n",
       "    </tr>\n",
       "    <tr>\n",
       "      <th>0.95</th>\n",
       "      <td>31.300</td>\n",
       "      <td>8.0</td>\n",
       "      <td>449.00</td>\n",
       "      <td>253.55</td>\n",
       "      <td>4.3145</td>\n",
       "      <td>5.29275</td>\n",
       "      <td>20.1045</td>\n",
       "      <td>1.0</td>\n",
       "      <td>1.0</td>\n",
       "      <td>5.0</td>\n",
       "      <td>4.9</td>\n",
       "    </tr>\n",
       "  </tbody>\n",
       "</table>\n",
       "</div>"
      ],
      "text/plain": [
       "         mpg  cyl    disp      hp    drat       wt     qsec   vs   am  gear  \\\n",
       "0.05  11.995  4.0   77.35   63.65  2.8535  1.73600  15.0455  0.0  0.0   3.0   \n",
       "0.95  31.300  8.0  449.00  253.55  4.3145  5.29275  20.1045  1.0  1.0   5.0   \n",
       "\n",
       "      carb  \n",
       "0.05   1.0  \n",
       "0.95   4.9  "
      ]
     },
     "execution_count": 43,
     "metadata": {},
     "output_type": "execute_result"
    }
   ],
   "source": [
    "mtcars.quantile([.05,.95]) #Cuantiles Columnas Numericas"
   ]
  },
  {
   "cell_type": "code",
   "execution_count": 64,
   "metadata": {},
   "outputs": [
    {
     "data": {
      "image/png": "[encoded data removed]",
      "text/plain": [
       "<matplotlib.figure.Figure at 0x2b0c3d47278>"
      ]
     },
     "metadata": {},
     "output_type": "display_data"
    }
   ],
   "source": [
    "mtcars.plot(kind='box') ; plt.show() #Box Plot columnas"
   ]
  },
  {
   "cell_type": "code",
   "execution_count": 77,
   "metadata": {},
   "outputs": [
    {
     "data": {
      "image/png": "[encoded data removed]",
      "text/plain": [
       "<matplotlib.figure.Figure at 0x19bc9c4dd30>"
      ]
     },
     "metadata": {},
     "output_type": "display_data"
    }
   ],
   "source": [
    "#Graficas por Columnas\n",
    "mtcars_subplot = mtcars.loc[:,[\"hp\",\"disp\"]]\n",
    "mtcars_subplot.plot(kind = 'hist', subplots = True, bins = 15, alpha = .5)\n",
    "plt.show()"
   ]
  },
  {
   "cell_type": "code",
   "execution_count": 79,
   "metadata": {},
   "outputs": [
    {
     "data": {
      "image/png": "[encoded data removed]",
      "text/plain": [
       "<matplotlib.figure.Figure at 0x19bcba0af28>"
      ]
     },
     "metadata": {},
     "output_type": "display_data"
    }
   ],
   "source": [
    "#Graficas por Columnas\n",
    "mtcars_subplot = mtcars.loc[:,[\"hp\",\"disp\"]]\n",
    "#Parametro normed cambia la escala del eje \"y\", cumulative (Construye la CDF)\n",
    "mtcars_subplot.plot(kind = 'hist', normed = True,cumulative = True, subplots = True) plt.show()"
   ]
  },
  {
   "cell_type": "code",
   "execution_count": 65,
   "metadata": {},
   "outputs": [
    {
     "data": {
      "text/plain": [
       "8    14\n",
       "4    11\n",
       "6     7\n",
       "Name: cyl, dtype: int64"
      ]
     },
     "execution_count": 65,
     "metadata": {},
     "output_type": "execute_result"
    }
   ],
   "source": [
    "#Conteo de los valores distintos en una columna\n",
    "mtcars.cyl.value_counts()"
   ]
  },
  {
   "cell_type": "code",
   "execution_count": 19,
   "metadata": {},
   "outputs": [
    {
     "data": {
      "text/plain": [
       "Activity             106072\n",
       "Campaign             106072\n",
       "Site (DCM)           106072\n",
       "Conversion URL       106072\n",
       "Total Conversions    106072\n",
       "Fecha                106072\n",
       "dtype: int64"
      ]
     },
     "execution_count": 19,
     "metadata": {},
     "output_type": "execute_result"
    }
   ],
   "source": [
    "#Filtros\n",
    "datos['Activity'].value_counts().head(2)\n",
    "Filtro = datos[datos['Activity'] == 'MX_Aspirantes_TYP']\n",
    "Filtro.count()"
   ]
  },
  {
   "cell_type": "code",
   "execution_count": 20,
   "metadata": {},
   "outputs": [
    {
     "data": {
      "text/html": [
       "<div>\n",
       "<style>\n",
       "    .dataframe thead tr:only-child th {\n",
       "        text-align: right;\n",
       "    }\n",
       "\n",
       "    .dataframe thead th {\n",
       "        text-align: left;\n",
       "    }\n",
       "\n",
       "    .dataframe tbody tr th {\n",
       "        vertical-align: top;\n",
       "    }\n",
       "</style>\n",
       "<table border=\"1\" class=\"dataframe\">\n",
       "  <thead>\n",
       "    <tr style=\"text-align: right;\">\n",
       "      <th></th>\n",
       "      <th>Activity</th>\n",
       "    </tr>\n",
       "  </thead>\n",
       "  <tbody>\n",
       "    <tr>\n",
       "      <th>0</th>\n",
       "      <td>MX_Aspirantes_TYP</td>\n",
       "    </tr>\n",
       "    <tr>\n",
       "      <th>1</th>\n",
       "      <td>MX_BrainQuest_Concurso_180207</td>\n",
       "    </tr>\n",
       "    <tr>\n",
       "      <th>2</th>\n",
       "      <td>MX_BrainQuest_Home_Page_180207</td>\n",
       "    </tr>\n",
       "    <tr>\n",
       "      <th>3</th>\n",
       "      <td>MX_BrainQuest_Registro_180207</td>\n",
       "    </tr>\n",
       "    <tr>\n",
       "      <th>4</th>\n",
       "      <td>MX_BrainQuest_Ubicación_180207</td>\n",
       "    </tr>\n",
       "    <tr>\n",
       "      <th>5</th>\n",
       "      <td>MX_Dia-Itam_01_LP_Itam_180117</td>\n",
       "    </tr>\n",
       "    <tr>\n",
       "      <th>6</th>\n",
       "      <td>MX_ITAM_ALLPAGES</td>\n",
       "    </tr>\n",
       "    <tr>\n",
       "      <th>7</th>\n",
       "      <td>MX_ITAM_ASPIRANTES_HOME</td>\n",
       "    </tr>\n",
       "    <tr>\n",
       "      <th>8</th>\n",
       "      <td>MX_ITAM_Bazar</td>\n",
       "    </tr>\n",
       "    <tr>\n",
       "      <th>9</th>\n",
       "      <td>MX_ITAM_Bazar_Barra_Inicio</td>\n",
       "    </tr>\n",
       "  </tbody>\n",
       "</table>\n",
       "</div>"
      ],
      "text/plain": [
       "                         Activity\n",
       "0               MX_Aspirantes_TYP\n",
       "1   MX_BrainQuest_Concurso_180207\n",
       "2  MX_BrainQuest_Home_Page_180207\n",
       "3   MX_BrainQuest_Registro_180207\n",
       "4  MX_BrainQuest_Ubicación_180207\n",
       "5   MX_Dia-Itam_01_LP_Itam_180117\n",
       "6                MX_ITAM_ALLPAGES\n",
       "7         MX_ITAM_ASPIRANTES_HOME\n",
       "8                   MX_ITAM_Bazar\n",
       "9      MX_ITAM_Bazar_Barra_Inicio"
      ]
     },
     "execution_count": 20,
     "metadata": {},
     "output_type": "execute_result"
    }
   ],
   "source": [
    "#Metodo de Encadenamiento y filtrado\n",
    "#Creamos un DataFrame con valores unicos, para despues validar si contiene la palabra TYP\n",
    "Todos_pixeles = pd.DataFrame(datos.Activity.unique(),columns=['Activity'])\n",
    "Todos_pixeles.head(10)"
   ]
  },
  {
   "cell_type": "code",
   "execution_count": 17,
   "metadata": {},
   "outputs": [
    {
     "data": {
      "text/plain": [
       "0     True\n",
       "1    False\n",
       "2    False\n",
       "3    False\n",
       "4    False\n",
       "5    False\n",
       "6    False\n",
       "7    False\n",
       "8    False\n",
       "9    False\n",
       "Name: Activity, dtype: bool"
      ]
     },
     "execution_count": 17,
     "metadata": {},
     "output_type": "execute_result"
    }
   ],
   "source": [
    "#Me marca con un True caracteres con la palabra TYP\n",
    "Pixeles_TYP = Todos_pixeles.Activity.str.contains('TYP')\n",
    "Pixeles_TYP.head(10)"
   ]
  },
  {
   "cell_type": "code",
   "execution_count": 18,
   "metadata": {},
   "outputs": [
    {
     "data": {
      "text/plain": [
       "7"
      ]
     },
     "execution_count": 18,
     "metadata": {},
     "output_type": "execute_result"
    }
   ],
   "source": [
    "#Suma de los valores con la palabra TYP\n",
    "Pixeles_TYP.sum()"
   ]
  },
  {
   "cell_type": "code",
   "execution_count": 24,
   "metadata": {},
   "outputs": [
    {
     "data": {
      "text/html": [
       "<div>\n",
       "<style>\n",
       "    .dataframe thead tr:only-child th {\n",
       "        text-align: right;\n",
       "    }\n",
       "\n",
       "    .dataframe thead th {\n",
       "        text-align: left;\n",
       "    }\n",
       "\n",
       "    .dataframe tbody tr th {\n",
       "        vertical-align: top;\n",
       "    }\n",
       "</style>\n",
       "<table border=\"1\" class=\"dataframe\">\n",
       "  <thead>\n",
       "    <tr style=\"text-align: right;\">\n",
       "      <th></th>\n",
       "      <th>Activity</th>\n",
       "      <th>Campaign</th>\n",
       "      <th>Site (DCM)</th>\n",
       "      <th>Conversion URL</th>\n",
       "      <th>Total Conversions</th>\n",
       "      <th>Fecha</th>\n",
       "    </tr>\n",
       "    <tr>\n",
       "      <th>Activity Date/Time</th>\n",
       "      <th></th>\n",
       "      <th></th>\n",
       "      <th></th>\n",
       "      <th></th>\n",
       "      <th></th>\n",
       "      <th></th>\n",
       "    </tr>\n",
       "  </thead>\n",
       "  <tbody>\n",
       "    <tr>\n",
       "      <th>2018-01-07</th>\n",
       "      <td>MX_Aspirantes_TYP</td>\n",
       "      <td>0</td>\n",
       "      <td>0</td>\n",
       "      <td>;src=8177298;type=typyj0;cat=mx_as0;ord=895542...</td>\n",
       "      <td>1</td>\n",
       "      <td>7/1/18 - 7/12/18</td>\n",
       "    </tr>\n",
       "    <tr>\n",
       "      <th>2018-01-07</th>\n",
       "      <td>MX_Aspirantes_TYP</td>\n",
       "      <td>0</td>\n",
       "      <td>0</td>\n",
       "      <td>;src=8177298;type=typyj0;cat=mx_as0;ord=213156...</td>\n",
       "      <td>1</td>\n",
       "      <td>7/1/18 - 7/12/18</td>\n",
       "    </tr>\n",
       "    <tr>\n",
       "      <th>2018-01-07</th>\n",
       "      <td>MX_Aspirantes_TYP</td>\n",
       "      <td>0</td>\n",
       "      <td>0</td>\n",
       "      <td>;src=8177298;type=typyj0;cat=mx_as0;ord=555846...</td>\n",
       "      <td>1</td>\n",
       "      <td>7/1/18 - 7/12/18</td>\n",
       "    </tr>\n",
       "    <tr>\n",
       "      <th>2018-01-07</th>\n",
       "      <td>MX_Aspirantes_TYP</td>\n",
       "      <td>0</td>\n",
       "      <td>0</td>\n",
       "      <td>;src=8177298;type=typyj0;cat=mx_as0;ord=274565...</td>\n",
       "      <td>1</td>\n",
       "      <td>7/1/18 - 7/12/18</td>\n",
       "    </tr>\n",
       "    <tr>\n",
       "      <th>2018-01-07</th>\n",
       "      <td>MX_Aspirantes_TYP</td>\n",
       "      <td>0</td>\n",
       "      <td>0</td>\n",
       "      <td>;dc_pre=CLGXvIeC_dsCFUOnaQod5PwJOw;src=8177298...</td>\n",
       "      <td>1</td>\n",
       "      <td>7/1/18 - 7/12/18</td>\n",
       "    </tr>\n",
       "  </tbody>\n",
       "</table>\n",
       "</div>"
      ],
      "text/plain": [
       "                             Activity Campaign Site (DCM)  \\\n",
       "Activity Date/Time                                          \n",
       "2018-01-07          MX_Aspirantes_TYP        0          0   \n",
       "2018-01-07          MX_Aspirantes_TYP        0          0   \n",
       "2018-01-07          MX_Aspirantes_TYP        0          0   \n",
       "2018-01-07          MX_Aspirantes_TYP        0          0   \n",
       "2018-01-07          MX_Aspirantes_TYP        0          0   \n",
       "\n",
       "                                                       Conversion URL  \\\n",
       "Activity Date/Time                                                      \n",
       "2018-01-07          ;src=8177298;type=typyj0;cat=mx_as0;ord=895542...   \n",
       "2018-01-07          ;src=8177298;type=typyj0;cat=mx_as0;ord=213156...   \n",
       "2018-01-07          ;src=8177298;type=typyj0;cat=mx_as0;ord=555846...   \n",
       "2018-01-07          ;src=8177298;type=typyj0;cat=mx_as0;ord=274565...   \n",
       "2018-01-07          ;dc_pre=CLGXvIeC_dsCFUOnaQod5PwJOw;src=8177298...   \n",
       "\n",
       "                    Total Conversions             Fecha  \n",
       "Activity Date/Time                                       \n",
       "2018-01-07                          1  7/1/18 - 7/12/18  \n",
       "2018-01-07                          1  7/1/18 - 7/12/18  \n",
       "2018-01-07                          1  7/1/18 - 7/12/18  \n",
       "2018-01-07                          1  7/1/18 - 7/12/18  \n",
       "2018-01-07                          1  7/1/18 - 7/12/18  "
      ]
     },
     "execution_count": 24,
     "metadata": {},
     "output_type": "execute_result"
    }
   ],
   "source": [
    "#Otra forma de filtrado\n",
    "Filtro = datos.Activity.str.contains('TYP')\n",
    "TYP = datos[Filtro]\n",
    "TYP.head()"
   ]
  },
  {
   "cell_type": "code",
   "execution_count": 25,
   "metadata": {},
   "outputs": [
    {
     "data": {
      "text/plain": [
       "MX_Aspirantes_TYP                  106072\n",
       "MX_ITAM_POSGRADOS_TYP                 147\n",
       "MX_ITAM_POSGRADOS_CONTACTOS_TYP        82\n",
       "MX_ITAM_LICENCIATURAS_TYP              79\n",
       "MX_ITAM_INGENIERIAS_TYP                23\n",
       "MX_ITAM_CursosYDiplomados_TYP          18\n",
       "MX_ITAM_MBA_CONTACTANOS_TYP            17\n",
       "Name: Activity, dtype: int64"
      ]
     },
     "execution_count": 25,
     "metadata": {},
     "output_type": "execute_result"
    }
   ],
   "source": [
    "TYP.Activity.value_counts()"
   ]
  },
  {
   "cell_type": "markdown",
   "metadata": {},
   "source": [
    "#### Series de Tiempo con Pandas"
   ]
  },
  {
   "cell_type": "markdown",
   "metadata": {},
   "source": [
    "Para trabajar con Fechas en Pandas y en general en cualquier lenguaje se deben definir como un tipo de datos especial.\n",
    "\n",
    "En Pandas ayuda mucho tener el nombre de las filas con Fechas, para aplicar funciones de Tiempo."
   ]
  },
  {
   "cell_type": "code",
   "execution_count": 3,
   "metadata": {},
   "outputs": [
    {
     "data": {
      "text/html": [
       "<div>\n",
       "<style>\n",
       "    .dataframe thead tr:only-child th {\n",
       "        text-align: right;\n",
       "    }\n",
       "\n",
       "    .dataframe thead th {\n",
       "        text-align: left;\n",
       "    }\n",
       "\n",
       "    .dataframe tbody tr th {\n",
       "        vertical-align: top;\n",
       "    }\n",
       "</style>\n",
       "<table border=\"1\" class=\"dataframe\">\n",
       "  <thead>\n",
       "    <tr style=\"text-align: right;\">\n",
       "      <th></th>\n",
       "      <th>Activity</th>\n",
       "      <th>Campaign</th>\n",
       "      <th>Site (DCM)</th>\n",
       "      <th>Conversion URL</th>\n",
       "      <th>Total Conversions</th>\n",
       "      <th>Fecha</th>\n",
       "    </tr>\n",
       "    <tr>\n",
       "      <th>Activity Date/Time</th>\n",
       "      <th></th>\n",
       "      <th></th>\n",
       "      <th></th>\n",
       "      <th></th>\n",
       "      <th></th>\n",
       "      <th></th>\n",
       "    </tr>\n",
       "  </thead>\n",
       "  <tbody>\n",
       "    <tr>\n",
       "      <th>2018-01-07</th>\n",
       "      <td>MX_Aspirantes_TYP</td>\n",
       "      <td>NaN</td>\n",
       "      <td>NaN</td>\n",
       "      <td>;src=8177298;type=typyj0;cat=mx_as0;ord=895542...</td>\n",
       "      <td>1</td>\n",
       "      <td>7/1/18 - 7/12/18</td>\n",
       "    </tr>\n",
       "    <tr>\n",
       "      <th>2018-01-07</th>\n",
       "      <td>MX_Aspirantes_TYP</td>\n",
       "      <td>NaN</td>\n",
       "      <td>NaN</td>\n",
       "      <td>;src=8177298;type=typyj0;cat=mx_as0;ord=213156...</td>\n",
       "      <td>1</td>\n",
       "      <td>7/1/18 - 7/12/18</td>\n",
       "    </tr>\n",
       "  </tbody>\n",
       "</table>\n",
       "</div>"
      ],
      "text/plain": [
       "                             Activity Campaign Site (DCM)  \\\n",
       "Activity Date/Time                                          \n",
       "2018-01-07          MX_Aspirantes_TYP      NaN        NaN   \n",
       "2018-01-07          MX_Aspirantes_TYP      NaN        NaN   \n",
       "\n",
       "                                                       Conversion URL  \\\n",
       "Activity Date/Time                                                      \n",
       "2018-01-07          ;src=8177298;type=typyj0;cat=mx_as0;ord=895542...   \n",
       "2018-01-07          ;src=8177298;type=typyj0;cat=mx_as0;ord=213156...   \n",
       "\n",
       "                    Total Conversions             Fecha  \n",
       "Activity Date/Time                                       \n",
       "2018-01-07                          1  7/1/18 - 7/12/18  \n",
       "2018-01-07                          1  7/1/18 - 7/12/18  "
      ]
     },
     "execution_count": 3,
     "metadata": {},
     "output_type": "execute_result"
    }
   ],
   "source": [
    "datos.head(2)"
   ]
  },
  {
   "cell_type": "code",
   "execution_count": 4,
   "metadata": {},
   "outputs": [
    {
     "name": "stdout",
     "output_type": "stream",
     "text": [
      "<class 'pandas.core.frame.DataFrame'>\n",
      "DatetimeIndex: 404925 entries, 2018-01-07 00:00:00 to 2018-11-07 08:35:00\n",
      "Data columns (total 6 columns):\n",
      "Activity             404925 non-null object\n",
      "Campaign             76182 non-null object\n",
      "Site (DCM)           76182 non-null object\n",
      "Conversion URL       404925 non-null object\n",
      "Total Conversions    404925 non-null int64\n",
      "Fecha                404925 non-null object\n",
      "dtypes: int64(1), object(5)\n",
      "memory usage: 21.6+ MB\n"
     ]
    }
   ],
   "source": [
    "#Observemos el tipo de datos que son los index (DatetimeIndex)\n",
    "datos.info() "
   ]
  },
  {
   "cell_type": "code",
   "execution_count": 5,
   "metadata": {},
   "outputs": [
    {
     "data": {
      "text/html": [
       "<div>\n",
       "<style>\n",
       "    .dataframe thead tr:only-child th {\n",
       "        text-align: right;\n",
       "    }\n",
       "\n",
       "    .dataframe thead th {\n",
       "        text-align: left;\n",
       "    }\n",
       "\n",
       "    .dataframe tbody tr th {\n",
       "        vertical-align: top;\n",
       "    }\n",
       "</style>\n",
       "<table border=\"1\" class=\"dataframe\">\n",
       "  <thead>\n",
       "    <tr style=\"text-align: right;\">\n",
       "      <th></th>\n",
       "      <th>Edad</th>\n",
       "    </tr>\n",
       "  </thead>\n",
       "  <tbody>\n",
       "    <tr>\n",
       "      <th>1992-04-21 00:09:00</th>\n",
       "      <td>26</td>\n",
       "    </tr>\n",
       "    <tr>\n",
       "      <th>1993-02-05 05:07:00</th>\n",
       "      <td>25</td>\n",
       "    </tr>\n",
       "  </tbody>\n",
       "</table>\n",
       "</div>"
      ],
      "text/plain": [
       "                     Edad\n",
       "1992-04-21 00:09:00    26\n",
       "1993-02-05 05:07:00    25"
      ]
     },
     "execution_count": 5,
     "metadata": {},
     "output_type": "execute_result"
    }
   ],
   "source": [
    "#Podemos especificar el formato de nuestras fechas.\n",
    "time_format = '%Y-%m-%d %H:%M'\n",
    "date_list = ['1992-04-21 00:09:00','1993-02-05 05:07:00']\n",
    "my_datetimes = pd.to_datetime(date_list, format=time_format)\n",
    "Tiempo = pd.DataFrame({'Edad':[26,25]}, index=my_datetimes)\n",
    "Tiempo"
   ]
  },
  {
   "cell_type": "markdown",
   "metadata": {},
   "source": [
    "¿Que utilidad tiene trabajar con index como Fechas?\n",
    "\n",
    "    -Filtrado por rango de Fechas\n",
    "    -Metodos para Resumenes por Fechas (resample, rolling)"
   ]
  },
  {
   "cell_type": "code",
   "execution_count": 75,
   "metadata": {},
   "outputs": [
    {
     "data": {
      "text/plain": [
       "Activity             5483\n",
       "Campaign              479\n",
       "Site (DCM)            479\n",
       "Conversion URL       5483\n",
       "Total Conversions    5483\n",
       "Fecha                5483\n",
       "dtype: int64"
      ]
     },
     "execution_count": 75,
     "metadata": {},
     "output_type": "execute_result"
    }
   ],
   "source": [
    "#Filtro por rango de fechas\n",
    "Filtro = datos.loc['2018-01-07 00:00:00':'2018-01-07 12:00:00']\n",
    "Filtro.count()"
   ]
  },
  {
   "cell_type": "code",
   "execution_count": 8,
   "metadata": {},
   "outputs": [
    {
     "data": {
      "text/plain": [
       "Activity Date/Time\n",
       "2018-01-31    17755\n",
       "2018-02-28    47967\n",
       "2018-03-31    54534\n",
       "2018-04-30    55218\n",
       "2018-05-31    51405\n",
       "2018-06-30    34027\n",
       "2018-07-31    12987\n",
       "2018-08-31    15600\n",
       "2018-09-30    33242\n",
       "2018-10-31    30190\n",
       "2018-11-30    28153\n",
       "2018-12-31    23849\n",
       "Freq: M, Name: Total Conversions, dtype: int64"
      ]
     },
     "execution_count": 8,
     "metadata": {},
     "output_type": "execute_result"
    }
   ],
   "source": [
    "#Metodo resample resumenes sobre fechas 'M' (Mes), 'D' (Dia), 'Y' (Año)\n",
    "datos = datos.fillna(0)\n",
    "datos.loc[:,'Total Conversions'].resample('M').sum()"
   ]
  },
  {
   "cell_type": "code",
   "execution_count": 9,
   "metadata": {},
   "outputs": [
    {
     "data": {
      "text/html": [
       "<div>\n",
       "<style>\n",
       "    .dataframe thead tr:only-child th {\n",
       "        text-align: right;\n",
       "    }\n",
       "\n",
       "    .dataframe thead th {\n",
       "        text-align: left;\n",
       "    }\n",
       "\n",
       "    .dataframe tbody tr th {\n",
       "        vertical-align: top;\n",
       "    }\n",
       "</style>\n",
       "<table border=\"1\" class=\"dataframe\">\n",
       "  <thead>\n",
       "    <tr style=\"text-align: right;\">\n",
       "      <th></th>\n",
       "      <th>Total Conversions</th>\n",
       "    </tr>\n",
       "    <tr>\n",
       "      <th>Activity Date/Time</th>\n",
       "      <th></th>\n",
       "    </tr>\n",
       "  </thead>\n",
       "  <tbody>\n",
       "    <tr>\n",
       "      <th>2018-01-07 00:00:00</th>\n",
       "      <td>18.0</td>\n",
       "    </tr>\n",
       "    <tr>\n",
       "      <th>2018-01-07 00:01:00</th>\n",
       "      <td>18.0</td>\n",
       "    </tr>\n",
       "    <tr>\n",
       "      <th>2018-01-07 00:02:00</th>\n",
       "      <td>17.0</td>\n",
       "    </tr>\n",
       "    <tr>\n",
       "      <th>2018-01-07 00:03:00</th>\n",
       "      <td>27.0</td>\n",
       "    </tr>\n",
       "    <tr>\n",
       "      <th>2018-01-07 00:04:00</th>\n",
       "      <td>3.0</td>\n",
       "    </tr>\n",
       "  </tbody>\n",
       "</table>\n",
       "</div>"
      ],
      "text/plain": [
       "                     Total Conversions\n",
       "Activity Date/Time                    \n",
       "2018-01-07 00:00:00               18.0\n",
       "2018-01-07 00:01:00               18.0\n",
       "2018-01-07 00:02:00               17.0\n",
       "2018-01-07 00:03:00               27.0\n",
       "2018-01-07 00:04:00                3.0"
      ]
     },
     "execution_count": 9,
     "metadata": {},
     "output_type": "execute_result"
    }
   ],
   "source": [
    "#Filtro y resumen suma por minuto\n",
    "Filtro_1 = datos.loc['2018-01-07 00:00:00':'2018-01-07 12:00:00']\n",
    "Filtro_1.resample('min').sum().head()"
   ]
  },
  {
   "cell_type": "code",
   "execution_count": 10,
   "metadata": {},
   "outputs": [
    {
     "name": "stdout",
     "output_type": "stream",
     "text": [
      "                     Total Conversions\n",
      "Activity Date/Time                    \n",
      "2018-01-07 00:00:00               18.0\n",
      "2018-01-07 00:01:00               18.0\n",
      "2018-01-07 00:02:00               17.0\n",
      "Total Conversions    53.0\n",
      "dtype: float64\n",
      "                     Total Conversions\n",
      "Activity Date/Time                    \n",
      "2018-01-07 00:00:00               18.0\n",
      "2018-01-07 00:01:00               18.0\n",
      "2018-01-07 00:02:00               17.0\n",
      "2018-01-07 00:03:00               27.0\n",
      "2018-01-07 00:04:00                3.0\n",
      "2018-01-07 00:05:00               29.0\n"
     ]
    },
    {
     "data": {
      "text/html": [
       "<div>\n",
       "<style>\n",
       "    .dataframe thead tr:only-child th {\n",
       "        text-align: right;\n",
       "    }\n",
       "\n",
       "    .dataframe thead th {\n",
       "        text-align: left;\n",
       "    }\n",
       "\n",
       "    .dataframe tbody tr th {\n",
       "        vertical-align: top;\n",
       "    }\n",
       "</style>\n",
       "<table border=\"1\" class=\"dataframe\">\n",
       "  <thead>\n",
       "    <tr style=\"text-align: right;\">\n",
       "      <th></th>\n",
       "      <th>Total Conversions</th>\n",
       "    </tr>\n",
       "    <tr>\n",
       "      <th>Activity Date/Time</th>\n",
       "      <th></th>\n",
       "    </tr>\n",
       "  </thead>\n",
       "  <tbody>\n",
       "    <tr>\n",
       "      <th>2018-01-07 00:00:00</th>\n",
       "      <td>NaN</td>\n",
       "    </tr>\n",
       "    <tr>\n",
       "      <th>2018-01-07 00:01:00</th>\n",
       "      <td>NaN</td>\n",
       "    </tr>\n",
       "    <tr>\n",
       "      <th>2018-01-07 00:02:00</th>\n",
       "      <td>53.0</td>\n",
       "    </tr>\n",
       "    <tr>\n",
       "      <th>2018-01-07 00:03:00</th>\n",
       "      <td>62.0</td>\n",
       "    </tr>\n",
       "    <tr>\n",
       "      <th>2018-01-07 00:04:00</th>\n",
       "      <td>47.0</td>\n",
       "    </tr>\n",
       "    <tr>\n",
       "      <th>2018-01-07 00:05:00</th>\n",
       "      <td>59.0</td>\n",
       "    </tr>\n",
       "  </tbody>\n",
       "</table>\n",
       "</div>"
      ],
      "text/plain": [
       "                     Total Conversions\n",
       "Activity Date/Time                    \n",
       "2018-01-07 00:00:00                NaN\n",
       "2018-01-07 00:01:00                NaN\n",
       "2018-01-07 00:02:00               53.0\n",
       "2018-01-07 00:03:00               62.0\n",
       "2018-01-07 00:04:00               47.0\n",
       "2018-01-07 00:05:00               59.0"
      ]
     },
     "execution_count": 10,
     "metadata": {},
     "output_type": "execute_result"
    }
   ],
   "source": [
    "Minutos = Filtro_1.resample('min').sum()\n",
    "print(Minutos.head(3))\n",
    "print(Minutos.head(3).sum())\n",
    "print(Minutos.head(6))\n",
    "#Metodo rolling nos crea una ventana, sumando de n en n valores\n",
    "Minutos.rolling(window=3).sum().head(6)"
   ]
  },
  {
   "cell_type": "code",
   "execution_count": 23,
   "metadata": {},
   "outputs": [
    {
     "name": "stdout",
     "output_type": "stream",
     "text": [
      "0    0.0\n",
      "1    1.0\n",
      "2    NaN\n",
      "3    3.0\n",
      "dtype: float64\n"
     ]
    },
    {
     "data": {
      "text/plain": [
       "0    0.0\n",
       "1    1.0\n",
       "2    2.0\n",
       "3    3.0\n",
       "dtype: float64"
      ]
     },
     "execution_count": 23,
     "metadata": {},
     "output_type": "execute_result"
    }
   ],
   "source": [
    "#Valores Faltantes e interpolacion\n",
    "#Suponiendo que faltaran dias en las fechas, podemos trabajar con los datos que tenemos e interpolarlos\n",
    "s = pd.Series([0, 1, np.nan, 3])\n",
    "print(s)\n",
    "s.interpolate() #Rellenamos el valor faltante con la media"
   ]
  },
  {
   "cell_type": "code",
   "execution_count": 44,
   "metadata": {},
   "outputs": [
    {
     "name": "stdout",
     "output_type": "stream",
     "text": [
      "<class 'pandas.core.series.Series'>\n"
     ]
    },
    {
     "data": {
      "text/plain": [
       "0   2018-01-07 00:00:00-06:00\n",
       "1   2018-01-07 00:00:00-06:00\n",
       "2   2018-01-07 00:00:00-06:00\n",
       "3   2018-01-07 00:00:00-06:00\n",
       "4   2018-01-07 00:00:00-06:00\n",
       "Name: Activity Date/Time, dtype: datetime64[ns, US/Central]"
      ]
     },
     "execution_count": 44,
     "metadata": {},
     "output_type": "execute_result"
    }
   ],
   "source": [
    "#Es buena practica espeficifar la Zona Horaria con la que se esta trabajando.\n",
    "Fechas = pd.Series(pd.to_datetime(datos.index))\n",
    "print(type(Fechas)) #Nota es necesario trabajar con pandas.core.series.Series para aplicar los metodos de conversion de Zona horaria\n",
    "Fechas = Fechas.dt.tz_localize('US/Central')\n",
    "Fechas.head()"
   ]
  },
  {
   "cell_type": "code",
   "execution_count": 41,
   "metadata": {},
   "outputs": [
    {
     "data": {
      "text/plain": [
       "0   2018-01-06 22:00:00-08:00\n",
       "1   2018-01-06 22:00:00-08:00\n",
       "2   2018-01-06 22:00:00-08:00\n",
       "3   2018-01-06 22:00:00-08:00\n",
       "4   2018-01-06 22:00:00-08:00\n",
       "Name: Activity Date/Time, dtype: datetime64[ns, US/Pacific]"
      ]
     },
     "execution_count": 41,
     "metadata": {},
     "output_type": "execute_result"
    }
   ],
   "source": [
    "Fechas.dt.tz_convert('US/Pacific').head()"
   ]
  },
  {
   "cell_type": "markdown",
   "metadata": {},
   "source": [
    "Otro buen uso de tener las filas como Fechas es la Facilidad de trabajar con Graficas con tiempo."
   ]
  },
  {
   "cell_type": "code",
   "execution_count": 48,
   "metadata": {},
   "outputs": [
    {
     "data": {
      "image/png": "[encoded data removed]",
      "text/plain": [
       "<matplotlib.figure.Figure at 0x19bc8c4a940>"
      ]
     },
     "metadata": {},
     "output_type": "display_data"
    }
   ],
   "source": [
    "Minutos.plot()\n",
    "plt.show()"
   ]
  },
  {
   "cell_type": "code",
   "execution_count": 52,
   "metadata": {},
   "outputs": [
    {
     "data": {
      "image/png": "[encoded data removed]",
      "text/plain": [
       "<matplotlib.figure.Figure at 0x19bd0eff4a8>"
      ]
     },
     "metadata": {},
     "output_type": "display_data"
    }
   ],
   "source": [
    "Minutos['2018-01-07 00:00:00':'2018-01-07 01:00:00'].plot()\n",
    "plt.show()"
   ]
  }
 ],
 "metadata": {
  "kernelspec": {
   "display_name": "Python 3",
   "language": "python",
   "name": "python3"
  },
  "language_info": {
   "codemirror_mode": {
    "name": "ipython",
    "version": 3
   },
   "file_extension": ".py",
   "mimetype": "text/x-python",
   "name": "python",
   "nbconvert_exporter": "python",
   "pygments_lexer": "ipython3",
   "version": "3.7.0"
  }
 },
 "nbformat": 4,
 "nbformat_minor": 2
}
