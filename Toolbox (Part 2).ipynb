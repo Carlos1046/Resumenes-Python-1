{
 "cells": [
  {
   "cell_type": "markdown",
   "metadata": {},
   "source": [
    "En este Script se revisan los siguientes conceptos.\n",
    "\n",
    " -1.Iteradores e Iterables, funciones enumerate() y zip().\n",
    " \n",
    " -2.Lista de comprensiones y generadores\n",
    " \n",
    " -3.Unificando todo.\n"
   ]
  },
  {
   "cell_type": "markdown",
   "metadata": {},
   "source": [
    "# 1. Objetos Iteradores e Iterables."
   ]
  },
  {
   "cell_type": "markdown",
   "metadata": {
    "collapsed": true
   },
   "source": [
    "Los iteradores son los espíritus omnipresentes de Python. Están en todas partes y debes haberte encontrado con ellos en algún programa u otro. Los iteradores son objetos que le permiten recorrer todos los elementos de una colección, independientemente de su implementación específica.\n",
    "\n",
    "Eso significa que, si alguna vez usó bucles para iterar o ejecutar los valores en un contenedor, habrá utilizado un iterador.\n",
    "\n",
    "Iterable : Objeto donde se iteran sobre sus elementos, devuelven un iterador.\n",
    "\n",
    "Iterador : Objeto que mantiene el estado y produce el siguiente valor."
   ]
  },
  {
   "cell_type": "code",
   "execution_count": 73,
   "metadata": {
    "collapsed": true
   },
   "outputs": [],
   "source": [
    "#Ejemplo; Vamos a iterar los elementos\n",
    "Iterable = ['jay garrick', 'barry allen', 'wally west', 'bart allen']"
   ]
  },
  {
   "cell_type": "code",
   "execution_count": 74,
   "metadata": {},
   "outputs": [
    {
     "name": "stdout",
     "output_type": "stream",
     "text": [
      "<list_iterator object at 0x0000021A544BEE80>\n"
     ]
    }
   ],
   "source": [
    "#Extraemos el elemento iterador del objeto Iterable.\n",
    "#Con la funcion iter(), convertimos el Objeto Iterable en Iterador para que nos pueda devolver sus elementos\n",
    "#como si corrieramos un for.\n",
    "Iterador = iter(Iterable) \n",
    "print(Iterador)"
   ]
  },
  {
   "cell_type": "code",
   "execution_count": 75,
   "metadata": {},
   "outputs": [
    {
     "name": "stdout",
     "output_type": "stream",
     "text": [
      "jay garrick\n",
      "barry allen\n",
      "wally west\n",
      "bart allen\n"
     ]
    }
   ],
   "source": [
    "#Ya tenemos un objeto iterador, cada vez que lo llamemos nos arrojara el siguiente elemento que contiene.\n",
    "#next() Funcion para recuperar los valores uno por uno del objeto iterador.\n",
    "print(next(Iterador)) \n",
    "print(next(Iterador))\n",
    "print(next(Iterador))\n",
    "print(next(Iterador))"
   ]
  },
  {
   "cell_type": "markdown",
   "metadata": {},
   "source": [
    "El iterador es aquel elemento con el cual se opera del Iterable."
   ]
  },
  {
   "cell_type": "code",
   "execution_count": 76,
   "metadata": {},
   "outputs": [
    {
     "name": "stdout",
     "output_type": "stream",
     "text": [
      "jay garrick\n",
      "barry allen\n",
      "wally west\n",
      "bart allen\n"
     ]
    }
   ],
   "source": [
    "for Iterador in Iterable:\n",
    "    print(Iterador)"
   ]
  },
  {
   "cell_type": "markdown",
   "metadata": {},
   "source": [
    "La funcion iter() coniverte un objeto en Iterador, que significa que cuando lo llamemos con la funcion\n",
    "next() arrojara los elementos como si corrieramos un for.\n",
    "\n",
    "Un uso util seria creando secuencias.\n",
    "\n",
    "Un gran uso de la funcion iter() es que nos permite tener un codigo mas limpio y eficiente, puesto que \n",
    "no es necesario dejar especificado un for para realizar acciones ciclicas,"
   ]
  },
  {
   "cell_type": "code",
   "execution_count": 77,
   "metadata": {},
   "outputs": [
    {
     "name": "stdout",
     "output_type": "stream",
     "text": [
      "0\n",
      "1\n",
      "2\n"
     ]
    }
   ],
   "source": [
    "Iterador = iter(range(3))\n",
    "print(next(Iterador))\n",
    "print(next(Iterador))\n",
    "print(next(Iterador))"
   ]
  },
  {
   "cell_type": "markdown",
   "metadata": {},
   "source": [
    "Los iteradores en todo momento los hemos tenido presentes.\n",
    "\n",
    "Por ejemplo, las funciones list() y sum() devuelven una lista y la suma de elementos, respectivamente."
   ]
  },
  {
   "cell_type": "code",
   "execution_count": 78,
   "metadata": {},
   "outputs": [
    {
     "name": "stdout",
     "output_type": "stream",
     "text": [
      "range(10, 21)\n",
      "[10, 11, 12, 13, 14, 15, 16, 17, 18, 19, 20]\n",
      "165\n"
     ]
    }
   ],
   "source": [
    "valores = range(10,21)\n",
    "print(valores)\n",
    "valores_lista = list(valores)\n",
    "print(valores_lista)\n",
    "valores_suma = sum(valores)\n",
    "print(valores_suma)"
   ]
  },
  {
   "cell_type": "markdown",
   "metadata": {},
   "source": [
    "¿Nos preguntamos como es que fuciona un iterador internamente para procudir la secuencia cuando se le pregunta?\n",
    "\n",
    "Construyendo un iterador que devuelva una serie de numeros."
   ]
  },
  {
   "cell_type": "code",
   "execution_count": 79,
   "metadata": {},
   "outputs": [
    {
     "name": "stdout",
     "output_type": "stream",
     "text": [
      "[1, 2, 3, 4, 5, 6, 7, 8, 9, 10]\n"
     ]
    }
   ],
   "source": [
    "class Series(object):\n",
    "    def __init__(self, low, high):\n",
    "        self.current = low\n",
    "        self.high = high\n",
    "\n",
    "    def __iter__(self):\n",
    "        return self\n",
    "\n",
    "    def __next__(self):\n",
    "        if self.current > self.high:\n",
    "            raise StopIteration\n",
    "        else:\n",
    "            self.current += 1\n",
    "            return self.current - 1\n",
    "\n",
    "n_list = Series(1,10)    \n",
    "print(list(n_list))"
   ]
  },
  {
   "cell_type": "markdown",
   "metadata": {},
   "source": [
    "__iter__  devuelve el objeto iterador en sí y el __next__  método devuelve el siguiente valor del iterador.\n",
    "\n",
    "Si no hay más elementos para devolver, se genera una StopIterationexcepción.\n",
    "\n",
    "Está perfectamente bien si no podemos escribir el código de un iterador en este momento,\n",
    "\n",
    "pero es importante que aprendamos el concepto básico detrás de él.\n",
    "\n",
    "Veremos generadores más adelante, que es una forma mucho más fácil de implementar iteradores.\n"
   ]
  },
  {
   "cell_type": "markdown",
   "metadata": {},
   "source": [
    "# Contenedores"
   ]
  },
  {
   "cell_type": "markdown",
   "metadata": {},
   "source": [
    "Los contenedores son los objetos que tienen valores de datos.\n",
    "\n",
    "Son compatibles con las pruebas de membresía, lo que significa se verifica si existe un valor en el contenedor.\n",
    "\n",
    "Los contenedores son iterables: las listas, los conjuntos, el diccionario, la tupla y las cadenas son todos contenedores. Pero también hay otros iterables, como los archivos abiertos y los sockets abiertos."
   ]
  },
  {
   "cell_type": "code",
   "execution_count": 80,
   "metadata": {},
   "outputs": [
    {
     "name": "stdout",
     "output_type": "stream",
     "text": [
      "List\n",
      "Tuple\n",
      "String\n"
     ]
    }
   ],
   "source": [
    "if 1 in [1,2,3]:\n",
    "    print('List')\n",
    "\n",
    "if 4 not in {1,2,3}:\n",
    "    print('Tuple')\n",
    "\n",
    "if 'apple' in 'pineapple':\n",
    "    print('String') "
   ]
  },
  {
   "cell_type": "markdown",
   "metadata": {},
   "source": [
    "# Modulo Itertools"
   ]
  },
  {
   "cell_type": "markdown",
   "metadata": {},
   "source": [
    "Itertools es un módulo de Python incorporado que contiene funciones para crear iteradores para un bucle eficiente.\n",
    "\n",
    "En resumen, ¡ofrece muchas herramientas interesantes para trabajar con iteradores!\n",
    "\n",
    "Algunos siguen proporcionando valores para un rango infinito, por lo tanto, solo se debe acceder mediante funciones o bucles que de hecho dejan de llamar para obtener más valores.\n",
    "\n",
    "Vamos a ver algunas cosas interesantes que puedes hacer con la count función del itertoolsmódulo:"
   ]
  },
  {
   "cell_type": "code",
   "execution_count": 81,
   "metadata": {},
   "outputs": [
    {
     "name": "stdout",
     "output_type": "stream",
     "text": [
      "1\n",
      "3\n",
      "5\n",
      "7\n",
      "9\n",
      "11\n"
     ]
    }
   ],
   "source": [
    "from itertools import count\n",
    "sequence = count(start=0, step=1)\n",
    "while(next(sequence) <= 10):\n",
    "    print(next(sequence))"
   ]
  },
  {
   "cell_type": "code",
   "execution_count": 82,
   "metadata": {},
   "outputs": [
    {
     "name": "stdout",
     "output_type": "stream",
     "text": [
      "Q. What do we have for dessert? A: Icecream\n",
      "Q. What do we have for dessert? A: Cake\n",
      "Q. What do we have for dessert? A: Icecream\n",
      "Q. What do we have for dessert? A: Cake\n"
     ]
    }
   ],
   "source": [
    "from itertools import cycle\n",
    "dessert = cycle(['Icecream','Cake'])\n",
    "count = 0\n",
    "while(count != 4):\n",
    "    print('Q. What do we have for dessert? A: ' + next(dessert))\n",
    "    count+=1"
   ]
  },
  {
   "cell_type": "markdown",
   "metadata": {},
   "source": [
    "# Importando una base lista para iterar"
   ]
  },
  {
   "cell_type": "code",
   "execution_count": 83,
   "metadata": {},
   "outputs": [
    {
     "name": "stdout",
     "output_type": "stream",
     "text": [
      "<pandas.io.parsers.TextFileReader object at 0x0000021A544EABE0>\n"
     ]
    }
   ],
   "source": [
    "import pandas as pd\n",
    "#El parametro chunksize Devuelve el objeto para iteracion.\n",
    "#Base de datos mtcars traida de una url dl github a una ruta local.\n",
    "datos = pd.read_csv(\"C:/Users/grec1/Documents/GitHub/Lecciones-python/Lecciones-Python/mtcars.csv\",chunksize = 10) \n",
    "print(datos)"
   ]
  },
  {
   "cell_type": "code",
   "execution_count": 84,
   "metadata": {},
   "outputs": [
    {
     "name": "stdout",
     "output_type": "stream",
     "text": [
      "{6: 7, 4: 11, 8: 14}\n"
     ]
    }
   ],
   "source": [
    "#Se puede iterar el objeto datos.\n",
    "conteo_diccionario = {}\n",
    "\n",
    "for x in datos :\n",
    "    for y in x['cyl']:\n",
    "        if y in conteo_diccionario.keys():\n",
    "            conteo_diccionario[y] += 1\n",
    "        else:\n",
    "            conteo_diccionario[y] = 1\n",
    "                \n",
    "print(conteo_diccionario)"
   ]
  },
  {
   "cell_type": "code",
   "execution_count": 85,
   "metadata": {
    "collapsed": true
   },
   "outputs": [],
   "source": [
    "def count_entries(csv_file, c_size, colname):\n",
    "    \"\"\"Return a dictionary with counts of\n",
    "    occurrences as value for each key.\"\"\"\n",
    "    \n",
    "    # Initialize an empty dictionary: counts_dict\n",
    "    counts_dict = {}\n",
    "\n",
    "    # Iterate over the file chunk by chunk\n",
    "    for chunk in pd.read_csv(csv_file, chunksize=c_size):\n",
    "\n",
    "        # Iterate over the column in DataFrame\n",
    "        for entry in chunk[colname]:\n",
    "            if entry in counts_dict.keys():\n",
    "                counts_dict[entry] += 1\n",
    "            else:\n",
    "                counts_dict[entry] = 1\n",
    "\n",
    "    # Return counts_dict\n",
    "    return counts_dict"
   ]
  },
  {
   "cell_type": "code",
   "execution_count": 86,
   "metadata": {},
   "outputs": [
    {
     "data": {
      "text/plain": [
       "{4: 11, 6: 7, 8: 14}"
      ]
     },
     "execution_count": 86,
     "metadata": {},
     "output_type": "execute_result"
    }
   ],
   "source": [
    "count_entries(\"C:/Users/grec1/Documents/GitHub/Lecciones-python/Lecciones-Python/mtcars.csv\",10,'cyl')"
   ]
  },
  {
   "cell_type": "markdown",
   "metadata": {},
   "source": [
    "# Funciones enumerate() y zip()"
   ]
  },
  {
   "cell_type": "markdown",
   "metadata": {},
   "source": [
    "Otra funcion util es enumerate() devuelve un enumerate objeto que produce una secuencia de tuplas, y cada una de las tuplas es un par índice-valor ."
   ]
  },
  {
   "cell_type": "code",
   "execution_count": 87,
   "metadata": {},
   "outputs": [
    {
     "name": "stdout",
     "output_type": "stream",
     "text": [
      "[(0, 'charles xavier'), (1, 'bobby drake'), (2, 'kurt wagner'), (3, 'max eisenhardt'), (4, 'kitty pride')]\n"
     ]
    }
   ],
   "source": [
    "# Creacion de la lista mutants\n",
    "mutants = ['charles xavier', \n",
    "            'bobby drake', \n",
    "            'kurt wagner', \n",
    "            'max eisenhardt', \n",
    "            'kitty pride']\n",
    "\n",
    "# Creacion de la lista con tuplas.\n",
    "mutant_list = list(enumerate(mutants))\n",
    "\n",
    "print(mutant_list)\n"
   ]
  },
  {
   "cell_type": "markdown",
   "metadata": {},
   "source": [
    "Se genero la variable Index1 en la lista mutants al momento de enumerar los registros, corremos un for."
   ]
  },
  {
   "cell_type": "code",
   "execution_count": 88,
   "metadata": {},
   "outputs": [
    {
     "name": "stdout",
     "output_type": "stream",
     "text": [
      "0 charles xavier\n",
      "1 bobby drake\n",
      "2 kurt wagner\n",
      "3 max eisenhardt\n",
      "4 kitty pride\n"
     ]
    }
   ],
   "source": [
    "for index1, value1 in enumerate(mutants):\n",
    "    print(index1, value1)"
   ]
  },
  {
   "cell_type": "markdown",
   "metadata": {},
   "source": [
    "Podemos modificar el parametro de la funcion enumerate para que la indexacion comienze en 1."
   ]
  },
  {
   "cell_type": "code",
   "execution_count": 89,
   "metadata": {},
   "outputs": [
    {
     "name": "stdout",
     "output_type": "stream",
     "text": [
      "1 charles xavier\n",
      "2 bobby drake\n",
      "3 kurt wagner\n",
      "4 max eisenhardt\n",
      "5 kitty pride\n"
     ]
    }
   ],
   "source": [
    "for index2, value2 in enumerate(mutants, start=1):\n",
    "    print(index2, value2)"
   ]
  },
  {
   "cell_type": "markdown",
   "metadata": {},
   "source": [
    "zip() Unifica y agrupas las listas.\n",
    "\n",
    "zip() que toma cualquier número de iterables y devuelve un zip objeto que es un iterador de tuplas.\n",
    "\n",
    "Si desea imprimir los valores de un zip objeto, puede convertirlo en una lista y luego imprimirlo.\n",
    "\n",
    "Imprimir solo un zip objeto no devolverá los valores a menos que lo desempaquete primero."
   ]
  },
  {
   "cell_type": "code",
   "execution_count": 90,
   "metadata": {},
   "outputs": [
    {
     "name": "stdout",
     "output_type": "stream",
     "text": [
      "[('charles xavier', 'profesor x', 'telepathy'), ('bobby drake', 'iceman', 'thermokinesis'), ('kurt wagner', 'nightcrawler', 'teleportation'), ('max eisenhardt', 'magneto', 'magnetokinesis'), ('kitty pride', 'shadowcat', 'intangibility')]\n"
     ]
    }
   ],
   "source": [
    "alias = ['profesor x','iceman','nightcrawler','magneto','shadowcat']\n",
    "poderes = ['telepathy','thermokinesis','teleportation','magnetokinesis','intangibility']\n",
    "\n",
    "# Uniendo 3 listas con la funcion zip()\n",
    "mutant_data = list(zip(mutants, alias, poderes))\n",
    "\n",
    "print(mutant_data)"
   ]
  },
  {
   "cell_type": "markdown",
   "metadata": {},
   "source": [
    "Otra forma de agrupar todo con la funcion zip()."
   ]
  },
  {
   "cell_type": "code",
   "execution_count": 91,
   "metadata": {},
   "outputs": [
    {
     "name": "stdout",
     "output_type": "stream",
     "text": [
      "<zip object at 0x0000021A53574B08>\n"
     ]
    }
   ],
   "source": [
    "mutant_zip = zip(mutants, alias, poderes)\n",
    "\n",
    "print(mutant_zip)"
   ]
  },
  {
   "cell_type": "markdown",
   "metadata": {},
   "source": [
    "Corremos un for para ver la agrupacion."
   ]
  },
  {
   "cell_type": "code",
   "execution_count": 92,
   "metadata": {},
   "outputs": [
    {
     "name": "stdout",
     "output_type": "stream",
     "text": [
      "charles xavier profesor x telepathy\n",
      "bobby drake iceman thermokinesis\n",
      "kurt wagner nightcrawler teleportation\n",
      "max eisenhardt magneto magnetokinesis\n",
      "kitty pride shadowcat intangibility\n"
     ]
    }
   ],
   "source": [
    "for value1, value2, value3 in mutant_zip:\n",
    "    print(value1, value2, value3)"
   ]
  },
  {
   "cell_type": "markdown",
   "metadata": {},
   "source": [
    "Juguemos con zip() un poco más.\n",
    "\n",
    "No hay función de descompresión para hacer lo contrario de lo que zip() hace.\n",
    "\n",
    "Sin embargo, podemos revertir lo que se ha zip usando zip() junto con una pequeña ayuda *! * desempaqueta un iterable como una\n",
    "\n",
    "lista o una tupla en argumentos posicionales en una llamada a función."
   ]
  },
  {
   "cell_type": "code",
   "execution_count": 93,
   "metadata": {},
   "outputs": [
    {
     "name": "stdout",
     "output_type": "stream",
     "text": [
      "('charles xavier', 'telepathy') ('bobby drake', 'thermokinesis') ('kurt wagner', 'teleportation') ('max eisenhardt', 'magnetokinesis') ('kitty pride', 'intangibility')\n"
     ]
    }
   ],
   "source": [
    "z1 = zip(mutants, poderes)\n",
    "\n",
    "# Separamos los elementos de zip con *\n",
    "print(*z1)"
   ]
  },
  {
   "cell_type": "code",
   "execution_count": 94,
   "metadata": {},
   "outputs": [
    {
     "name": "stdout",
     "output_type": "stream",
     "text": [
      "False\n",
      "False\n",
      "<class 'tuple'>\n",
      "<class 'list'>\n"
     ]
    }
   ],
   "source": [
    "# Unimos dos listas\n",
    "z1 = zip(mutants, poderes)\n",
    "\n",
    "# Separamos las listas que acabamos de unir y cada una la guardamos en dos varibles distintas\n",
    "result1, result2 = zip(*z1)\n",
    "\n",
    "# Vemos que no son iguales pasamos de tener listas a tuplas.\n",
    "print(result1 == mutants)\n",
    "print(result2 == poderes)\n",
    "print(type(result1))\n",
    "print(type(mutants))\n"
   ]
  },
  {
   "cell_type": "markdown",
   "metadata": {},
   "source": [
    "# Segunda Parte: Listas Generadoras"
   ]
  },
  {
   "cell_type": "markdown",
   "metadata": {
    "collapsed": true
   },
   "source": [
    "Las listas de Comprension, son listas en las que podemos escribir un for de manera simplificada."
   ]
  },
  {
   "cell_type": "code",
   "execution_count": 95,
   "metadata": {},
   "outputs": [
    {
     "name": "stdout",
     "output_type": "stream",
     "text": [
      "[11, 21, 31, 41, 51, 61]\n"
     ]
    }
   ],
   "source": [
    "#Completando la lista con un bucle for:\n",
    "numeros = [10,20,30,40,50,60]\n",
    "nuevos_numeros = []\n",
    "\n",
    "for numeros in numeros:\n",
    "    nuevos_numeros.append(numeros + 1)\n",
    "\n",
    "print(nuevos_numeros)"
   ]
  },
  {
   "cell_type": "code",
   "execution_count": 96,
   "metadata": {},
   "outputs": [
    {
     "name": "stdout",
     "output_type": "stream",
     "text": [
      "[11, 21, 31, 41, 51, 61]\n"
     ]
    }
   ],
   "source": [
    "#Completando la misma lista con una lista de comprension\n",
    "numeros = [10,20,30,40,50,60]\n",
    "nuevos_numeros = [(num + 1) for num in numeros]\n",
    "print(nuevos_numeros)"
   ]
  },
  {
   "cell_type": "code",
   "execution_count": 97,
   "metadata": {},
   "outputs": [
    {
     "name": "stdout",
     "output_type": "stream",
     "text": [
      "[0, 1, 2, 3, 4, 5, 6, 7, 8, 9, 10]\n"
     ]
    }
   ],
   "source": [
    "#Otro ejemplo de lista de comprension\n",
    "secuencias = [num for num in range(11)]\n",
    "print(secuencias)"
   ]
  },
  {
   "cell_type": "markdown",
   "metadata": {},
   "source": [
    "Mas sobre listas de Comprension.\n",
    "\n",
    "Contraer bucles para compilar listas en una sola linea.\n",
    "\n",
    "Listas de Comprension se pueden construir sobre objetos Iterables.\n",
    "\n",
    "Componentes;\n",
    "\n",
    "    -Tienen estructura de un Iterable\n",
    "    -Cuentan con variables Iteradoras\n",
    "    -Necesitamos definir una expresion de salida\n"
   ]
  },
  {
   "cell_type": "code",
   "execution_count": 98,
   "metadata": {},
   "outputs": [
    {
     "name": "stdout",
     "output_type": "stream",
     "text": [
      "[(0, 6), (0, 7), (1, 6), (1, 7)]\n"
     ]
    }
   ],
   "source": [
    "#En el siguiente ejemplo, correremos dos for de manera \"tradicional\"\n",
    "pairs_1 = []\n",
    "for num1 in range(0,2):\n",
    "    for num2 in range(6,8):\n",
    "        pairs_1.append((num1,num2))\n",
    "print(pairs_1)"
   ]
  },
  {
   "cell_type": "code",
   "execution_count": 99,
   "metadata": {},
   "outputs": [
    {
     "name": "stdout",
     "output_type": "stream",
     "text": [
      "[(0, 6), (0, 7), (1, 6), (1, 7)]\n"
     ]
    }
   ],
   "source": [
    "#Generando la misma lista con una lista de comprension\n",
    "pairs_1 = [(num1, num2) for num1 in range(0, 2) for num2 in range(6, 8)]\n",
    "print(pairs_1)"
   ]
  },
  {
   "cell_type": "code",
   "execution_count": 100,
   "metadata": {},
   "outputs": [
    {
     "data": {
      "text/plain": [
       "[0, 1, 4, 9, 16, 25, 36, 49, 64, 81]"
      ]
     },
     "execution_count": 100,
     "metadata": {},
     "output_type": "execute_result"
    }
   ],
   "source": [
    "#Otro ejemplo para listas de Comprension\n",
    "cuadrados = [(i**2) for i in range(0,10)]\n",
    "cuadrados"
   ]
  },
  {
   "cell_type": "markdown",
   "metadata": {},
   "source": [
    "Podemos anhidar en las listas de comprension, en el siguiente ejemplo la primera parte del codigo\n",
    "se genera una lista del 0 a 4 y luego esa misma lista se creara 5 veces."
   ]
  },
  {
   "cell_type": "code",
   "execution_count": 101,
   "metadata": {},
   "outputs": [
    {
     "name": "stdout",
     "output_type": "stream",
     "text": [
      "[[0, 1, 2, 3, 4], [0, 1, 2, 3, 4], [0, 1, 2, 3, 4], [0, 1, 2, 3, 4], [0, 1, 2, 3, 4]]\n",
      "[0, 1, 2, 3, 4]\n",
      "[0, 1, 2, 3, 4]\n",
      "[0, 1, 2, 3, 4]\n",
      "[0, 1, 2, 3, 4]\n",
      "[0, 1, 2, 3, 4]\n"
     ]
    }
   ],
   "source": [
    "matriz = [[col for col in range(5)] for row in range(5)]\n",
    "\n",
    "print(matriz)\n",
    "\n",
    "for row in matriz:\n",
    "    print(row)"
   ]
  },
  {
   "cell_type": "markdown",
   "metadata": {},
   "source": [
    "Tambien podemos colocar condicionales dentro de nuestras listas de Comprension."
   ]
  },
  {
   "cell_type": "code",
   "execution_count": 102,
   "metadata": {},
   "outputs": [
    {
     "name": "stdout",
     "output_type": "stream",
     "text": [
      "['charles xavier', 'bobby drake', 'kurt wagner', 'max eisenhardt', 'kitty pride']\n",
      "['charles xavier', 'max eisenhardt']\n"
     ]
    }
   ],
   "source": [
    "print(mutants)\n",
    "#Solicitaremos que solo se muestren los nombres que tienen mas de 14 caracteres\n",
    "nuevos = [miembro for miembro in mutants if len(miembro) >= 14]\n",
    "\n",
    "print(nuevos)"
   ]
  },
  {
   "cell_type": "markdown",
   "metadata": {},
   "source": [
    "Cambiemos un poco el orden en que escribimos el condicional y agreguemos un else"
   ]
  },
  {
   "cell_type": "code",
   "execution_count": 103,
   "metadata": {},
   "outputs": [
    {
     "name": "stdout",
     "output_type": "stream",
     "text": [
      "['charles xavier', '', '', 'max eisenhardt', '']\n"
     ]
    }
   ],
   "source": [
    "#Misma condicion,pero en vez de borara los elementos que no cumplen se sustituyen por ''\n",
    "nuevos = [miembro if len(miembro) >= 14 else '' for miembro in mutants]\n",
    "print(nuevos)"
   ]
  },
  {
   "cell_type": "markdown",
   "metadata": {},
   "source": [
    "Tambien existen los Diccionarios de Comprension"
   ]
  },
  {
   "cell_type": "code",
   "execution_count": 104,
   "metadata": {},
   "outputs": [
    {
     "name": "stdout",
     "output_type": "stream",
     "text": [
      "{'charles xavier': 14, 'bobby drake': 11, 'kurt wagner': 11, 'max eisenhardt': 14, 'kitty pride': 11}\n"
     ]
    }
   ],
   "source": [
    "nuevos = {miembro:len(miembro) for miembro in mutants}\n",
    "print(nuevos)"
   ]
  },
  {
   "cell_type": "markdown",
   "metadata": {},
   "source": [
    "# Expresiones Generadoras"
   ]
  },
  {
   "cell_type": "markdown",
   "metadata": {},
   "source": [
    "Diferencias;\n",
    "\n",
    "    -Tienen la misma que las listas de comprension pero se escriben con ()\n",
    "    -Las listas de comprension regresan una lista\n",
    "    -Las Generadoras regresan un objeto generador\n",
    "    -Ambas pueden iterarse"
   ]
  },
  {
   "cell_type": "code",
   "execution_count": 105,
   "metadata": {},
   "outputs": [
    {
     "data": {
      "text/plain": [
       "[0, 2, 4, 6, 8, 10, 12, 14, 16, 18]"
      ]
     },
     "execution_count": 105,
     "metadata": {},
     "output_type": "execute_result"
    }
   ],
   "source": [
    "#Lista Comprension\n",
    "[x * 2 for x in range(10)]"
   ]
  },
  {
   "cell_type": "code",
   "execution_count": 106,
   "metadata": {},
   "outputs": [
    {
     "data": {
      "text/plain": [
       "<generator object <genexpr> at 0x0000021A5355B570>"
      ]
     },
     "execution_count": 106,
     "metadata": {},
     "output_type": "execute_result"
    }
   ],
   "source": [
    "#Lista Generadora\n",
    "(x * 2 for x in range(10))"
   ]
  },
  {
   "cell_type": "markdown",
   "metadata": {},
   "source": [
    "Podemos ver que los resultados son diferentes."
   ]
  },
  {
   "cell_type": "code",
   "execution_count": 107,
   "metadata": {},
   "outputs": [
    {
     "name": "stdout",
     "output_type": "stream",
     "text": [
      "0\n",
      "2\n",
      "4\n",
      "6\n",
      "8\n",
      "10\n",
      "12\n",
      "14\n",
      "16\n",
      "18\n"
     ]
    }
   ],
   "source": [
    "#Para imprimir los resultados de una lista generadora\n",
    "Generador = (x * 2 for x in range(10))\n",
    "\n",
    "for num in Generador:\n",
    "    print(num)"
   ]
  },
  {
   "cell_type": "markdown",
   "metadata": {},
   "source": [
    "En los generadores se arroja elemento por elemento, se pueden guardar los valores en una lista."
   ]
  },
  {
   "cell_type": "code",
   "execution_count": 108,
   "metadata": {},
   "outputs": [
    {
     "data": {
      "text/plain": [
       "[0, 2, 4, 6, 8, 10, 12, 14, 16, 18]"
      ]
     },
     "execution_count": 108,
     "metadata": {},
     "output_type": "execute_result"
    }
   ],
   "source": [
    "Generador = (x * 2 for x in range(10))\n",
    "list(Generador)"
   ]
  },
  {
   "cell_type": "markdown",
   "metadata": {},
   "source": [
    "Un buen ejemplo para demostrar la gran diferencia entre listas de Comprension y Generadoras es el siguiente:\n",
    "\n",
    "Intetaremos crear una lista con 10**1000000 elementos, suena a que una computadora colapsaria."
   ]
  },
  {
   "cell_type": "code",
   "execution_count": 109,
   "metadata": {
    "collapsed": true
   },
   "outputs": [],
   "source": [
    "#En el caso de una lista de comprension no es posible correr el codigo\n",
    "#Ya que necesitamos mucha memoria y la maquina nos marca un error o colapsa.\n",
    "#[num for num in range(10*1000000)]"
   ]
  },
  {
   "cell_type": "code",
   "execution_count": 110,
   "metadata": {},
   "outputs": [
    {
     "name": "stdout",
     "output_type": "stream",
     "text": [
      "0\n",
      "1\n",
      "2\n",
      "3\n",
      "4\n",
      "5\n"
     ]
    }
   ],
   "source": [
    "#En el caso de una lista Generadora si es posible\n",
    "#Ya que el objeto que arroja es un iterador y no ocupa espacio en la memoria\n",
    "a = (num for num in range(10**1000000))\n",
    "print(next(a))\n",
    "print(next(a))\n",
    "print(next(a))\n",
    "print(next(a))\n",
    "print(next(a))\n",
    "print(next(a))"
   ]
  },
  {
   "cell_type": "markdown",
   "metadata": {},
   "source": [
    "Aplicacion de funciones en listas generadoras."
   ]
  },
  {
   "cell_type": "code",
   "execution_count": 111,
   "metadata": {},
   "outputs": [
    {
     "name": "stdout",
     "output_type": "stream",
     "text": [
      "6\n",
      "5\n",
      "5\n",
      "6\n",
      "7\n"
     ]
    }
   ],
   "source": [
    "#Se va guardando el valor sobre cada elemento y no se guarda en memoria hasta que se imprime.\n",
    "lannister = ['cersei','jaime','tywin','tyrion','joffrey']\n",
    "\n",
    "longitud = (len(persona) for persona in lannister)\n",
    "\n",
    "for valor in longitud:\n",
    "    print(valor)"
   ]
  },
  {
   "cell_type": "markdown",
   "metadata": {},
   "source": [
    "En ejemplos anteriores, nos hemos ocupado principalmente de escribir expresiones generadoras, que usan sintaxis de comprensión.\n",
    "\n",
    "¡Poder usar la sintaxis de comprensión para las expresiones del generador hizo el trabajo mucho más fácil!\n",
    "\n",
    "Ahora no solo hay expresiones de generador, también hay funciones de generador.\n",
    "\n",
    "Las funciones del generador son funciones que, al igual que las expresiones generadoras,\n",
    "\n",
    "producen una serie de valores, en lugar de devolver un solo valor.\n",
    "\n",
    "Una función de generador se define como una función normal, pero cada vez que genera un valor,\n",
    "\n",
    "utiliza la palabra clave en yield en lugar de return."
   ]
  },
  {
   "cell_type": "code",
   "execution_count": 112,
   "metadata": {
    "collapsed": true
   },
   "outputs": [],
   "source": [
    "#Ejemplo; Funcion Generadora (en vez de escribir return para devolver un valor se coloca yield)\n",
    "lannister = ['cersei','jaime','tywin','tyrion','joffrey']\n",
    "\n",
    "def generador_longitud(lista_entrada):\n",
    "    \n",
    "    for persona in lista_entrada:\n",
    "        yield len(persona)"
   ]
  },
  {
   "cell_type": "code",
   "execution_count": 113,
   "metadata": {},
   "outputs": [
    {
     "name": "stdout",
     "output_type": "stream",
     "text": [
      "6\n",
      "5\n",
      "5\n",
      "6\n",
      "7\n"
     ]
    }
   ],
   "source": [
    "#Imprimimos los valors de nuestra funcion generadora\n",
    "for valores in generador_longitud(lannister):\n",
    "    print(valores)"
   ]
  },
  {
   "cell_type": "markdown",
   "metadata": {},
   "source": [
    "# Unificando Todo"
   ]
  },
  {
   "cell_type": "code",
   "execution_count": null,
   "metadata": {
    "collapsed": true
   },
   "outputs": [],
   "source": []
  }
 ],
 "metadata": {
  "kernelspec": {
   "display_name": "Python 3",
   "language": "python",
   "name": "python3"
  },
  "language_info": {
   "codemirror_mode": {
    "name": "ipython",
    "version": 3
   },
   "file_extension": ".py",
   "mimetype": "text/x-python",
   "name": "python",
   "nbconvert_exporter": "python",
   "pygments_lexer": "ipython3",
   "version": "3.6.1"
  }
 },
 "nbformat": 4,
 "nbformat_minor": 2
}
