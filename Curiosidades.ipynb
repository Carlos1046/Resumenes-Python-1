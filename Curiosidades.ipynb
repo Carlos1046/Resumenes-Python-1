{
 "cells": [
  {
   "cell_type": "markdown",
   "metadata": {},
   "source": [
    "### Este script tiene curiosidades sobre el uso de python"
   ]
  },
  {
   "cell_type": "code",
   "execution_count": null,
   "metadata": {},
   "outputs": [],
   "source": [
    "#Pasando una tupla a una funcion\n",
    "def Operacion(a = 1,b = 1):\n",
    "    print((a + b)**2)\n",
    "\n",
    "\n",
    "#Me va arrojar un error ya que no es la forma correcta de pasarle una tupla\n",
    "tupla = (2,2)\n",
    "Operacion(tupla)"
   ]
  },
  {
   "cell_type": "code",
   "execution_count": 24,
   "metadata": {},
   "outputs": [
    {
     "name": "stdout",
     "output_type": "stream",
     "text": [
      "16\n"
     ]
    }
   ],
   "source": [
    "Operacion(*tupla)"
   ]
  },
  {
   "cell_type": "markdown",
   "metadata": {},
   "source": [
    "### Algo interensante es poder hacer códigos de bash desde python con el modulo subprocess"
   ]
  },
  {
   "cell_type": "code",
   "execution_count": 16,
   "metadata": {},
   "outputs": [
    {
     "name": "stdout",
     "output_type": "stream",
     "text": [
      "'Cheat Sheets (Numpy Basics).py'\r\n",
      "'Fundamentos Panda.ipynb'\r\n",
      "'Intermediate Python for Data Science.ipynb'\r\n",
      "'Introduccion a Python.ipynb'\r\n",
      "'Introducion a Pandas.ipynb'\r\n",
      "'Limpieza de Datos.ipynb'\r\n",
      "'Manipulating DataFrames with pandas.ipynb'\r\n",
      "'Merging DataFrames with pandas.ipynb'\r\n",
      " mtcars.csv\r\n",
      " \u001b[0m\u001b[01;34mPlotly\u001b[0m/\r\n",
      " POO.ipynb\r\n",
      " Publicaciones.csv\r\n",
      " Readme.md\r\n",
      "'Statistical Thinking in Python (Part 1).ipynb'\r\n",
      "'Toolbox (Part 2).ipynb'\r\n",
      "'Toolbox(Parte 1).ipynb'\r\n",
      " Untitled.ipynb\r\n"
     ]
    }
   ],
   "source": [
    "ls"
   ]
  },
  {
   "cell_type": "code",
   "execution_count": 5,
   "metadata": {},
   "outputs": [
    {
     "data": {
      "text/plain": [
       "0"
      ]
     },
     "execution_count": 5,
     "metadata": {},
     "output_type": "execute_result"
    }
   ],
   "source": [
    "import subprocess\n",
    "\n",
    "subprocess.call(['ls', '-l'])"
   ]
  },
  {
   "cell_type": "code",
   "execution_count": 25,
   "metadata": {},
   "outputs": [],
   "source": [
    "#Creando directorios\n",
    "for i in range(0,3):\n",
    "    nombre_dir = \"dir\" + str(i)\n",
    "    subprocess.call(['mkdir', nombre_dir])"
   ]
  },
  {
   "cell_type": "code",
   "execution_count": 26,
   "metadata": {},
   "outputs": [
    {
     "name": "stdout",
     "output_type": "stream",
     "text": [
      "'Cheat Sheets (Numpy Basics).py'\r\n",
      " Curiosidades.ipynb\r\n",
      " \u001b[0m\u001b[01;34mdir0\u001b[0m/\r\n",
      " \u001b[01;34mdir1\u001b[0m/\r\n",
      " \u001b[01;34mdir2\u001b[0m/\r\n",
      "'Fundamentos Panda.ipynb'\r\n",
      "'Intermediate Python for Data Science.ipynb'\r\n",
      "'Introduccion a Python.ipynb'\r\n",
      "'Introducion a Pandas.ipynb'\r\n",
      "'Limpieza de Datos.ipynb'\r\n",
      "'Manipulating DataFrames with pandas.ipynb'\r\n",
      "'Merging DataFrames with pandas.ipynb'\r\n",
      " mtcars.csv\r\n",
      " \u001b[01;34mPlotly\u001b[0m/\r\n",
      " POO.ipynb\r\n",
      " Publicaciones.csv\r\n",
      " Readme.md\r\n",
      "'Statistical Thinking in Python (Part 1).ipynb'\r\n",
      "'Toolbox (Part 2).ipynb'\r\n",
      "'Toolbox(Parte 1).ipynb'\r\n"
     ]
    }
   ],
   "source": [
    "ls"
   ]
  },
  {
   "cell_type": "code",
   "execution_count": 27,
   "metadata": {},
   "outputs": [],
   "source": [
    "#Eliminando los directorios\n",
    "for i in range(0,3):\n",
    "    nombre_dir = \"dir\" + str(i)\n",
    "    subprocess.call(['rm', '-r', nombre_dir])"
   ]
  },
  {
   "cell_type": "code",
   "execution_count": 28,
   "metadata": {},
   "outputs": [
    {
     "name": "stdout",
     "output_type": "stream",
     "text": [
      "'Cheat Sheets (Numpy Basics).py'\r\n",
      " Curiosidades.ipynb\r\n",
      "'Fundamentos Panda.ipynb'\r\n",
      "'Intermediate Python for Data Science.ipynb'\r\n",
      "'Introduccion a Python.ipynb'\r\n",
      "'Introducion a Pandas.ipynb'\r\n",
      "'Limpieza de Datos.ipynb'\r\n",
      "'Manipulating DataFrames with pandas.ipynb'\r\n",
      "'Merging DataFrames with pandas.ipynb'\r\n",
      " mtcars.csv\r\n",
      " \u001b[0m\u001b[01;34mPlotly\u001b[0m/\r\n",
      " POO.ipynb\r\n",
      " Publicaciones.csv\r\n",
      " Readme.md\r\n",
      "'Statistical Thinking in Python (Part 1).ipynb'\r\n",
      "'Toolbox (Part 2).ipynb'\r\n",
      "'Toolbox(Parte 1).ipynb'\r\n"
     ]
    }
   ],
   "source": [
    "ls"
   ]
  },
  {
   "cell_type": "markdown",
   "metadata": {},
   "source": [
    "### Programa tipo Gusano"
   ]
  },
  {
   "cell_type": "code",
   "execution_count": 29,
   "metadata": {},
   "outputs": [
    {
     "name": "stdout",
     "output_type": "stream",
     "text": [
      "/home/carlos/anaconda3/lib/python3.7/site-packages/ipykernel_launcher.py\n"
     ]
    }
   ],
   "source": [
    "from sys import argv\n",
    "import subprocess\n",
    "\n",
    "script = argv\n",
    "name = str(script[0])\n",
    "print(name)\n",
    "\n",
    "#Copiara el mismo archivo en cada directorio que vaya creando\n",
    "for i in range(0,3):\n",
    "    directorio = \"dir\" + str(i)\n",
    "    subprocess.call(['mkdir', directorio])\n",
    "    subprocess.call(['cp', name , directorio])\n"
   ]
  },
  {
   "cell_type": "code",
   "execution_count": 30,
   "metadata": {},
   "outputs": [
    {
     "name": "stdout",
     "output_type": "stream",
     "text": [
      "'Cheat Sheets (Numpy Basics).py'\r\n",
      " Curiosidades.ipynb\r\n",
      " \u001b[0m\u001b[01;34mdir0\u001b[0m/\r\n",
      " \u001b[01;34mdir1\u001b[0m/\r\n",
      " \u001b[01;34mdir2\u001b[0m/\r\n",
      "'Fundamentos Panda.ipynb'\r\n",
      "'Intermediate Python for Data Science.ipynb'\r\n",
      "'Introduccion a Python.ipynb'\r\n",
      "'Introducion a Pandas.ipynb'\r\n",
      "'Limpieza de Datos.ipynb'\r\n",
      "'Manipulating DataFrames with pandas.ipynb'\r\n",
      "'Merging DataFrames with pandas.ipynb'\r\n",
      " mtcars.csv\r\n",
      " \u001b[01;34mPlotly\u001b[0m/\r\n",
      " POO.ipynb\r\n",
      " Publicaciones.csv\r\n",
      " Readme.md\r\n",
      "'Statistical Thinking in Python (Part 1).ipynb'\r\n",
      "'Toolbox (Part 2).ipynb'\r\n",
      "'Toolbox(Parte 1).ipynb'\r\n"
     ]
    }
   ],
   "source": [
    "ls"
   ]
  },
  {
   "cell_type": "code",
   "execution_count": 31,
   "metadata": {},
   "outputs": [
    {
     "name": "stdout",
     "output_type": "stream",
     "text": [
      "/home/carlos/Documentos/Resumenes-Python-master/dir0\n"
     ]
    }
   ],
   "source": [
    "cd dir0/"
   ]
  },
  {
   "cell_type": "code",
   "execution_count": 33,
   "metadata": {},
   "outputs": [
    {
     "name": "stdout",
     "output_type": "stream",
     "text": [
      "ipykernel_launcher.py\r\n"
     ]
    }
   ],
   "source": [
    "ls"
   ]
  },
  {
   "cell_type": "code",
   "execution_count": null,
   "metadata": {},
   "outputs": [],
   "source": []
  },
  {
   "cell_type": "code",
   "execution_count": null,
   "metadata": {},
   "outputs": [],
   "source": []
  },
  {
   "cell_type": "code",
   "execution_count": null,
   "metadata": {},
   "outputs": [],
   "source": []
  },
  {
   "cell_type": "code",
   "execution_count": null,
   "metadata": {},
   "outputs": [],
   "source": []
  },
  {
   "cell_type": "code",
   "execution_count": null,
   "metadata": {},
   "outputs": [],
   "source": []
  }
 ],
 "metadata": {
  "kernelspec": {
   "display_name": "Python 3",
   "language": "python",
   "name": "python3"
  },
  "language_info": {
   "codemirror_mode": {
    "name": "ipython",
    "version": 3
   },
   "file_extension": ".py",
   "mimetype": "text/x-python",
   "name": "python",
   "nbconvert_exporter": "python",
   "pygments_lexer": "ipython3",
   "version": "3.7.3"
  }
 },
 "nbformat": 4,
 "nbformat_minor": 2
}
