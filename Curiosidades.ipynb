{
 "cells": [
  {
   "cell_type": "markdown",
   "metadata": {},
   "source": [
    "### Este script tiene curiosidades sobre el uso de python"
   ]
  },
  {
   "cell_type": "code",
   "execution_count": null,
   "metadata": {},
   "outputs": [],
   "source": [
    "#Pasando una tupla a una funcion\n",
    "def Operacion(a = 1,b = 1):\n",
    "    print((a + b)**2)\n",
    "\n",
    "\n",
    "#Me va arrojar un error ya que no es la forma correcta de pasarle una tupla\n",
    "tupla = (2,2)\n",
    "Operacion(tupla)"
   ]
  },
  {
   "cell_type": "code",
   "execution_count": 24,
   "metadata": {},
   "outputs": [
    {
     "name": "stdout",
     "output_type": "stream",
     "text": [
      "16\n"
     ]
    }
   ],
   "source": [
    "Operacion(*tupla)"
   ]
  },
  {
   "cell_type": "markdown",
   "metadata": {},
   "source": [
    "### Algo interensante es poder hacer códigos de bash desde python con el modulo subprocess"
   ]
  },
  {
   "cell_type": "code",
   "execution_count": 16,
   "metadata": {},
   "outputs": [
    {
     "name": "stdout",
     "output_type": "stream",
     "text": [
      "'Cheat Sheets (Numpy Basics).py'\r\n",
      "'Fundamentos Panda.ipynb'\r\n",
      "'Intermediate Python for Data Science.ipynb'\r\n",
      "'Introduccion a Python.ipynb'\r\n",
      "'Introducion a Pandas.ipynb'\r\n",
      "'Limpieza de Datos.ipynb'\r\n",
      "'Manipulating DataFrames with pandas.ipynb'\r\n",
      "'Merging DataFrames with pandas.ipynb'\r\n",
      " mtcars.csv\r\n",
      " \u001b[0m\u001b[01;34mPlotly\u001b[0m/\r\n",
      " POO.ipynb\r\n",
      " Publicaciones.csv\r\n",
      " Readme.md\r\n",
      "'Statistical Thinking in Python (Part 1).ipynb'\r\n",
      "'Toolbox (Part 2).ipynb'\r\n",
      "'Toolbox(Parte 1).ipynb'\r\n",
      " Untitled.ipynb\r\n"
     ]
    }
   ],
   "source": [
    "ls"
   ]
  },
  {
   "cell_type": "code",
   "execution_count": 5,
   "metadata": {},
   "outputs": [
    {
     "data": {
      "text/plain": [
       "0"
      ]
     },
     "execution_count": 5,
     "metadata": {},
     "output_type": "execute_result"
    }
   ],
   "source": [
    "import subprocess\n",
    "\n",
    "subprocess.call(['ls', '-l'])"
   ]
  },
  {
   "cell_type": "code",
   "execution_count": 25,
   "metadata": {},
   "outputs": [],
   "source": [
    "#Creando directorios\n",
    "for i in range(0,3):\n",
    "    nombre_dir = \"dir\" + str(i)\n",
    "    subprocess.call(['mkdir', nombre_dir])"
   ]
  },
  {
   "cell_type": "code",
   "execution_count": 26,
   "metadata": {},
   "outputs": [
    {
     "name": "stdout",
     "output_type": "stream",
     "text": [
      "'Cheat Sheets (Numpy Basics).py'\r\n",
      " Curiosidades.ipynb\r\n",
      " \u001b[0m\u001b[01;34mdir0\u001b[0m/\r\n",
      " \u001b[01;34mdir1\u001b[0m/\r\n",
      " \u001b[01;34mdir2\u001b[0m/\r\n",
      "'Fundamentos Panda.ipynb'\r\n",
      "'Intermediate Python for Data Science.ipynb'\r\n",
      "'Introduccion a Python.ipynb'\r\n",
      "'Introducion a Pandas.ipynb'\r\n",
      "'Limpieza de Datos.ipynb'\r\n",
      "'Manipulating DataFrames with pandas.ipynb'\r\n",
      "'Merging DataFrames with pandas.ipynb'\r\n",
      " mtcars.csv\r\n",
      " \u001b[01;34mPlotly\u001b[0m/\r\n",
      " POO.ipynb\r\n",
      " Publicaciones.csv\r\n",
      " Readme.md\r\n",
      "'Statistical Thinking in Python (Part 1).ipynb'\r\n",
      "'Toolbox (Part 2).ipynb'\r\n",
      "'Toolbox(Parte 1).ipynb'\r\n"
     ]
    }
   ],
   "source": [
    "ls"
   ]
  },
  {
   "cell_type": "code",
   "execution_count": 27,
   "metadata": {},
   "outputs": [],
   "source": [
    "#Eliminando los directorios\n",
    "for i in range(0,3):\n",
    "    nombre_dir = \"dir\" + str(i)\n",
    "    subprocess.call(['rm', '-r', nombre_dir])"
   ]
  },
  {
   "cell_type": "code",
   "execution_count": 28,
   "metadata": {},
   "outputs": [
    {
     "name": "stdout",
     "output_type": "stream",
     "text": [
      "'Cheat Sheets (Numpy Basics).py'\r\n",
      " Curiosidades.ipynb\r\n",
      "'Fundamentos Panda.ipynb'\r\n",
      "'Intermediate Python for Data Science.ipynb'\r\n",
      "'Introduccion a Python.ipynb'\r\n",
      "'Introducion a Pandas.ipynb'\r\n",
      "'Limpieza de Datos.ipynb'\r\n",
      "'Manipulating DataFrames with pandas.ipynb'\r\n",
      "'Merging DataFrames with pandas.ipynb'\r\n",
      " mtcars.csv\r\n",
      " \u001b[0m\u001b[01;34mPlotly\u001b[0m/\r\n",
      " POO.ipynb\r\n",
      " Publicaciones.csv\r\n",
      " Readme.md\r\n",
      "'Statistical Thinking in Python (Part 1).ipynb'\r\n",
      "'Toolbox (Part 2).ipynb'\r\n",
      "'Toolbox(Parte 1).ipynb'\r\n"
     ]
    }
   ],
   "source": [
    "ls"
   ]
  },
  {
   "cell_type": "markdown",
   "metadata": {},
   "source": [
    "### Programa tipo Gusano"
   ]
  },
  {
   "cell_type": "code",
   "execution_count": 29,
   "metadata": {},
   "outputs": [
    {
     "name": "stdout",
     "output_type": "stream",
     "text": [
      "/home/carlos/anaconda3/lib/python3.7/site-packages/ipykernel_launcher.py\n"
     ]
    }
   ],
   "source": [
    "from sys import argv\n",
    "import subprocess\n",
    "\n",
    "script = argv\n",
    "name = str(script[0])\n",
    "print(name)\n",
    "\n",
    "#Copiara el mismo archivo en cada directorio que vaya creando\n",
    "for i in range(0,3):\n",
    "    directorio = \"dir\" + str(i)\n",
    "    subprocess.call(['mkdir', directorio])\n",
    "    subprocess.call(['cp', name , directorio])\n"
   ]
  },
  {
   "cell_type": "code",
   "execution_count": 30,
   "metadata": {},
   "outputs": [
    {
     "name": "stdout",
     "output_type": "stream",
     "text": [
      "'Cheat Sheets (Numpy Basics).py'\r\n",
      " Curiosidades.ipynb\r\n",
      " \u001b[0m\u001b[01;34mdir0\u001b[0m/\r\n",
      " \u001b[01;34mdir1\u001b[0m/\r\n",
      " \u001b[01;34mdir2\u001b[0m/\r\n",
      "'Fundamentos Panda.ipynb'\r\n",
      "'Intermediate Python for Data Science.ipynb'\r\n",
      "'Introduccion a Python.ipynb'\r\n",
      "'Introducion a Pandas.ipynb'\r\n",
      "'Limpieza de Datos.ipynb'\r\n",
      "'Manipulating DataFrames with pandas.ipynb'\r\n",
      "'Merging DataFrames with pandas.ipynb'\r\n",
      " mtcars.csv\r\n",
      " \u001b[01;34mPlotly\u001b[0m/\r\n",
      " POO.ipynb\r\n",
      " Publicaciones.csv\r\n",
      " Readme.md\r\n",
      "'Statistical Thinking in Python (Part 1).ipynb'\r\n",
      "'Toolbox (Part 2).ipynb'\r\n",
      "'Toolbox(Parte 1).ipynb'\r\n"
     ]
    }
   ],
   "source": [
    "ls"
   ]
  },
  {
   "cell_type": "code",
   "execution_count": 31,
   "metadata": {},
   "outputs": [
    {
     "name": "stdout",
     "output_type": "stream",
     "text": [
      "/home/carlos/Documentos/Resumenes-Python-master/dir0\n"
     ]
    }
   ],
   "source": [
    "cd dir0/"
   ]
  },
  {
   "cell_type": "code",
   "execution_count": 33,
   "metadata": {},
   "outputs": [
    {
     "name": "stdout",
     "output_type": "stream",
     "text": [
      "ipykernel_launcher.py\r\n"
     ]
    }
   ],
   "source": [
    "ls"
   ]
  },
  {
   "cell_type": "markdown",
   "metadata": {},
   "source": [
    "### Impresiones, formateadores y establecer utf8"
   ]
  },
  {
   "cell_type": "code",
   "execution_count": 4,
   "metadata": {},
   "outputs": [
    {
     "name": "stdout",
     "output_type": "stream",
     "text": [
      "Hola me llamo carlos y tengo 23 años\n"
     ]
    }
   ],
   "source": [
    "#!/usr/bin/python\n",
    "# -*- coding:utf-8 -*-\n",
    "\n",
    "nombre = \"carlos\"\n",
    "edad = 23\n",
    "\n",
    "print(\"Hola me llamo %s y tengo %d años\" % (nombre,edad))"
   ]
  },
  {
   "cell_type": "markdown",
   "metadata": {},
   "source": [
    "### Creando un archivo y escribir sobre el mismo"
   ]
  },
  {
   "cell_type": "markdown",
   "metadata": {},
   "source": [
    "El siguiente ejemplo es necesario llevarlo a un editor de texto y correr de manera independiente\n",
    "\n",
    "lo que hara sera crear un nuevo archivo con el mensaje \"este archivo fue creado con python\""
   ]
  },
  {
   "cell_type": "code",
   "execution_count": null,
   "metadata": {},
   "outputs": [],
   "source": [
    "#NO EJECUTAR en JUPYTER si no en Consola (python script Nuevo_script.txt)\n",
    "from sys import argv\n",
    "\n",
    "script , filename = argv\n",
    "\n",
    "print('creadno el archivo %s' % (filename))\n",
    "\n",
    "file = open(filename,'w')\n",
    "\n",
    "file.write(\"Este Archivo fue cread con python\")\n",
    "file.close()"
   ]
  },
  {
   "cell_type": "markdown",
   "metadata": {},
   "source": [
    "### Texto "
   ]
  },
  {
   "cell_type": "markdown",
   "metadata": {},
   "source": []
  },
  {
   "cell_type": "code",
   "execution_count": 7,
   "metadata": {},
   "outputs": [
    {
     "name": "stdout",
     "output_type": "stream",
     "text": [
      "Ingresa tu nombre : Carlos\n",
      "Ingresa tu apellido : FLores\n"
     ]
    }
   ],
   "source": [
    "Nombre = input(\"Ingresa tu nombre : \")\n",
    "Apellido = input(\"Ingresa tu apellido : \")"
   ]
  },
  {
   "cell_type": "code",
   "execution_count": 8,
   "metadata": {},
   "outputs": [
    {
     "data": {
      "text/plain": [
       "'Hola ,  Carlos FLores'"
      ]
     },
     "execution_count": 8,
     "metadata": {},
     "output_type": "execute_result"
    }
   ],
   "source": [
    "f'Hola ,  {Nombre} {Apellido}'"
   ]
  },
  {
   "cell_type": "code",
   "execution_count": 9,
   "metadata": {},
   "outputs": [
    {
     "data": {
      "text/plain": [
       "'Hola, Carlos FLores '"
      ]
     },
     "execution_count": 9,
     "metadata": {},
     "output_type": "execute_result"
    }
   ],
   "source": [
    "'Hola, {} {} '.format(Nombre, Apellido)"
   ]
  },
  {
   "cell_type": "code",
   "execution_count": 10,
   "metadata": {},
   "outputs": [
    {
     "data": {
      "text/plain": [
       "'Hola, FLores Carlos'"
      ]
     },
     "execution_count": 10,
     "metadata": {},
     "output_type": "execute_result"
    }
   ],
   "source": [
    "'Hola, {1} {0}'.format(Nombre, Apellido)"
   ]
  },
  {
   "cell_type": "markdown",
   "metadata": {},
   "source": [
    "### Fechas"
   ]
  },
  {
   "cell_type": "code",
   "execution_count": 39,
   "metadata": {},
   "outputs": [
    {
     "name": "stdout",
     "output_type": "stream",
     "text": [
      "2019-09-22 12:15:19.495841\n"
     ]
    }
   ],
   "source": [
    "from datetime import datetime, timedelta\n",
    "\n",
    "today = str(datetime.now())\n",
    "\n",
    "print(today)"
   ]
  },
  {
   "cell_type": "code",
   "execution_count": 32,
   "metadata": {},
   "outputs": [
    {
     "name": "stdout",
     "output_type": "stream",
     "text": [
      "22\n",
      "9\n",
      "2019\n"
     ]
    }
   ],
   "source": [
    "print(datetime.now().day)\n",
    "print(datetime.now().month)\n",
    "print(datetime.now().year)"
   ]
  },
  {
   "cell_type": "code",
   "execution_count": 41,
   "metadata": {},
   "outputs": [
    {
     "name": "stdout",
     "output_type": "stream",
     "text": [
      "2019-09-21 12:15:40.778674\n"
     ]
    }
   ],
   "source": [
    "today = datetime.now()\n",
    "one_day = timedelta(days = 1)\n",
    "\n",
    "print(today - one_day)"
   ]
  },
  {
   "cell_type": "code",
   "execution_count": 44,
   "metadata": {},
   "outputs": [
    {
     "name": "stdout",
     "output_type": "stream",
     "text": [
      "Inserta tu cumpleaños : 21/04/1992\n"
     ]
    }
   ],
   "source": [
    "Cumple = input(\"Inserta tu cumpleaños : \")"
   ]
  },
  {
   "cell_type": "code",
   "execution_count": 43,
   "metadata": {},
   "outputs": [
    {
     "name": "stdout",
     "output_type": "stream",
     "text": [
      "1992-04-21 00:00:00\n"
     ]
    }
   ],
   "source": [
    "print(datetime.strptime(Cumple, '%d/%m/%Y'))"
   ]
  },
  {
   "cell_type": "markdown",
   "metadata": {},
   "source": [
    "### Tipos de errores\n",
    "\n",
    "Syntax errors , Runtime errors , Logic errors"
   ]
  },
  {
   "cell_type": "code",
   "execution_count": 47,
   "metadata": {},
   "outputs": [
    {
     "ename": "SyntaxError",
     "evalue": "invalid syntax (<ipython-input-47-711122b40654>, line 3)",
     "output_type": "error",
     "traceback": [
      "\u001b[0;36m  File \u001b[0;32m\"<ipython-input-47-711122b40654>\"\u001b[0;36m, line \u001b[0;32m3\u001b[0m\n\u001b[0;31m    if 42 == 10\u001b[0m\n\u001b[0m                ^\u001b[0m\n\u001b[0;31mSyntaxError\u001b[0m\u001b[0;31m:\u001b[0m invalid syntax\n"
     ]
    }
   ],
   "source": [
    "#Syntax errors\n",
    "\n",
    "if 42 == 10 #Falta colocar los 2 puntos\n",
    "print(\"Bien\")"
   ]
  },
  {
   "cell_type": "code",
   "execution_count": 48,
   "metadata": {},
   "outputs": [
    {
     "ename": "ZeroDivisionError",
     "evalue": "division by zero",
     "output_type": "error",
     "traceback": [
      "\u001b[0;31m---------------------------------------------------------------------------\u001b[0m",
      "\u001b[0;31mZeroDivisionError\u001b[0m                         Traceback (most recent call last)",
      "\u001b[0;32m<ipython-input-48-a58d62db5045>\u001b[0m in \u001b[0;36m<module>\u001b[0;34m\u001b[0m\n\u001b[1;32m      1\u001b[0m \u001b[0;31m#Runtime errors\u001b[0m\u001b[0;34m\u001b[0m\u001b[0;34m\u001b[0m\u001b[0;34m\u001b[0m\u001b[0m\n\u001b[1;32m      2\u001b[0m \u001b[0;34m\u001b[0m\u001b[0m\n\u001b[0;32m----> 3\u001b[0;31m \u001b[0;36m42\u001b[0m\u001b[0;34m/\u001b[0m\u001b[0;36m0\u001b[0m\u001b[0;34m\u001b[0m\u001b[0;34m\u001b[0m\u001b[0m\n\u001b[0m",
      "\u001b[0;31mZeroDivisionError\u001b[0m: division by zero"
     ]
    }
   ],
   "source": [
    "#Runtime errors\n",
    "42/0 "
   ]
  },
  {
   "cell_type": "code",
   "execution_count": 57,
   "metadata": {},
   "outputs": [],
   "source": [
    "#Logic errors son dificiles de localizar ya que en ocaciones no dan un error como tal\n",
    "#Pero no permiten que nuestro codigo se vaya ejecutando\n",
    "\n",
    "if 222 < 12: print(\"es mayor que\")"
   ]
  },
  {
   "cell_type": "markdown",
   "metadata": {},
   "source": [
    "¿y como evitarlos?, bueno con sentencias como try,  except y finally"
   ]
  },
  {
   "cell_type": "code",
   "execution_count": 50,
   "metadata": {},
   "outputs": [
    {
     "name": "stdout",
     "output_type": "stream",
     "text": [
      "Recuerda que la division entre cero no esta definida\n"
     ]
    }
   ],
   "source": [
    "try:\n",
    "    42/0\n",
    "except ZeroDivisionError as e:\n",
    "    print(\"Recuerda que la division entre cero no esta definida\")"
   ]
  },
  {
   "cell_type": "code",
   "execution_count": 54,
   "metadata": {},
   "outputs": [
    {
     "name": "stdout",
     "output_type": "stream",
     "text": [
      "No hubo algun problema\n",
      "Este es nuestro codigo de limpieza\n"
     ]
    }
   ],
   "source": [
    "try:\n",
    "    42/1\n",
    "except ZeroDivisionError as e:\n",
    "    print(\"Recuerda que la division entre cer no esta definida\")\n",
    "else:\n",
    "    print(\"No hubo algun problema\")\n",
    "finally:\n",
    "    print(\"Este es nuestro codigo de limpieza\")\n"
   ]
  },
  {
   "cell_type": "markdown",
   "metadata": {},
   "source": [
    "### Diccionarios"
   ]
  },
  {
   "cell_type": "code",
   "execution_count": 67,
   "metadata": {},
   "outputs": [
    {
     "name": "stdout",
     "output_type": "stream",
     "text": [
      "{'first': 'Carlos', 'last': 'flores'}\n",
      "{'first': 'tere', 'last': 'baena'}\n",
      "[{'first': 'Carlos', 'last': 'flores'}, {'first': 'tere', 'last': 'baena'}]\n",
      "[{'first': 'Carlos', 'last': 'flores'}, {'first': 'tere', 'last': 'baena'}, {'first': 'tere', 'last': 'luna'}]\n",
      "[{'first': 'tere', 'last': 'baena'}, {'first': 'tere', 'last': 'luna'}]\n",
      "3\n"
     ]
    }
   ],
   "source": [
    "person = {}\n",
    "person['first'] = 'Carlos'\n",
    "person['last'] = 'flores'\n",
    "\n",
    "person1 = {'first': 'tere', 'last': 'baena'}\n",
    "\n",
    "print(person)\n",
    "print(person1)\n",
    "\n",
    "persons = [person, person1]\n",
    "print(persons)\n",
    "\n",
    "persons.append({'first':'tere','last':'luna'})\n",
    "print(persons)\n",
    "\n",
    "print(persons[1:3])\n",
    "\n",
    "print(len(persons))"
   ]
  },
  {
   "cell_type": "code",
   "execution_count": 68,
   "metadata": {},
   "outputs": [
    {
     "name": "stdout",
     "output_type": "stream",
     "text": [
      "{'first': 'Carlos', 'last': 'flores'}\n",
      "{'first': 'tere', 'last': 'baena'}\n",
      "{'first': 'tere', 'last': 'luna'}\n"
     ]
    }
   ],
   "source": [
    "#Cuenta a cada elemento como unico\n",
    "for name in persons:\n",
    "    print(name)"
   ]
  },
  {
   "cell_type": "code",
   "execution_count": 104,
   "metadata": {},
   "outputs": [
    {
     "data": {
      "text/plain": [
       "3"
      ]
     },
     "execution_count": 104,
     "metadata": {},
     "output_type": "execute_result"
    }
   ],
   "source": [
    "len(persons)"
   ]
  },
  {
   "cell_type": "code",
   "execution_count": null,
   "metadata": {},
   "outputs": [],
   "source": []
  }
 ],
 "metadata": {
  "kernelspec": {
   "display_name": "Python 3",
   "language": "python",
   "name": "python3"
  },
  "language_info": {
   "codemirror_mode": {
    "name": "ipython",
    "version": 3
   },
   "file_extension": ".py",
   "mimetype": "text/x-python",
   "name": "python",
   "nbconvert_exporter": "python",
   "pygments_lexer": "ipython3",
   "version": "3.7.3"
  }
 },
 "nbformat": 4,
 "nbformat_minor": 2
}
